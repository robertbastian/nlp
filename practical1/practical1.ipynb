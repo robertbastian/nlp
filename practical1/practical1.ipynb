{
 "cells": [
  {
   "cell_type": "markdown",
   "metadata": {},
   "source": [
    "## Practical 1: word2vec\n",
    "Oxford CS - Deep NLP 2017<br>\n",
    "https://www.cs.ox.ac.uk/teaching/courses/2016-2017/dl/"
   ]
  },
  {
   "cell_type": "markdown",
   "metadata": {},
   "source": [
    "This practical is presented as an IPython Notebook, with the code written for recent versions of **Python 3**. The code in this practical will not work with Python 2 unless you modify it. If you are using your own Python installation, ensure you have a setup identical to that described in the installation shell script (which is intended for use with the department lab machines). We will be unable to support installation on personal machines due to time constraints, so please use the lab machines and the setup script if you are unfamiliar with how to install Anaconda.\n",
    "\n",
    "To execute a notebook cell, press `shift-enter`. The return value of the last command will be displayed, if it is not `None`.\n",
    "\n",
    "Potentially useful library documentation, references, and resources:\n",
    "\n",
    "* IPython notebooks: <https://ipython.org/ipython-doc/3/notebook/notebook.html#introduction>\n",
    "* Numpy numerical array library: <https://docs.scipy.org/doc/>\n",
    "* Gensim's word2vec: <https://radimrehurek.com/gensim/models/word2vec.html>\n",
    "* Bokeh interactive plots: <http://bokeh.pydata.org/en/latest/> (we provide plotting code here, but click the thumbnails for more examples to copy-paste)\n",
    "* scikit-learn ML library (aka `sklearn`): <http://scikit-learn.org/stable/documentation.html>\n",
    "* nltk NLP toolkit: <http://www.nltk.org/>\n",
    "* tutorial for processing xml in python using `lxml`: <http://lxml.de/tutorial.html> (we did this for you below, but in case you need it in the future)"
   ]
  },
  {
   "cell_type": "code",
   "execution_count": 1,
   "metadata": {
    "collapsed": false
   },
   "outputs": [],
   "source": [
    "import numpy as np\n",
    "import os\n",
    "from random import shuffle\n",
    "import re"
   ]
  },
  {
   "cell_type": "code",
   "execution_count": 2,
   "metadata": {
    "collapsed": false
   },
   "outputs": [
    {
     "data": {
      "text/html": [
       "\n",
       "    <div class=\"bk-root\">\n",
       "        <a href=\"http://bokeh.pydata.org\" target=\"_blank\" class=\"bk-logo bk-logo-small bk-logo-notebook\"></a>\n",
       "        <span id=\"6f127d7d-3d65-4831-be4b-5e00e662c6d9\">Loading BokehJS ...</span>\n",
       "    </div>"
      ]
     },
     "metadata": {},
     "output_type": "display_data"
    },
    {
     "data": {
      "application/javascript": [
       "\n",
       "(function(global) {\n",
       "  function now() {\n",
       "    return new Date();\n",
       "  }\n",
       "\n",
       "  var force = true;\n",
       "\n",
       "  if (typeof (window._bokeh_onload_callbacks) === \"undefined\" || force === true) {\n",
       "    window._bokeh_onload_callbacks = [];\n",
       "    window._bokeh_is_loading = undefined;\n",
       "  }\n",
       "\n",
       "\n",
       "  \n",
       "  if (typeof (window._bokeh_timeout) === \"undefined\" || force === true) {\n",
       "    window._bokeh_timeout = Date.now() + 5000;\n",
       "    window._bokeh_failed_load = false;\n",
       "  }\n",
       "\n",
       "  var NB_LOAD_WARNING = {'data': {'text/html':\n",
       "     \"<div style='background-color: #fdd'>\\n\"+\n",
       "     \"<p>\\n\"+\n",
       "     \"BokehJS does not appear to have successfully loaded. If loading BokehJS from CDN, this \\n\"+\n",
       "     \"may be due to a slow or bad network connection. Possible fixes:\\n\"+\n",
       "     \"</p>\\n\"+\n",
       "     \"<ul>\\n\"+\n",
       "     \"<li>re-rerun `output_notebook()` to attempt to load from CDN again, or</li>\\n\"+\n",
       "     \"<li>use INLINE resources instead, as so:</li>\\n\"+\n",
       "     \"</ul>\\n\"+\n",
       "     \"<code>\\n\"+\n",
       "     \"from bokeh.resources import INLINE\\n\"+\n",
       "     \"output_notebook(resources=INLINE)\\n\"+\n",
       "     \"</code>\\n\"+\n",
       "     \"</div>\"}};\n",
       "\n",
       "  function display_loaded() {\n",
       "    if (window.Bokeh !== undefined) {\n",
       "      document.getElementById(\"6f127d7d-3d65-4831-be4b-5e00e662c6d9\").textContent = \"BokehJS successfully loaded.\";\n",
       "    } else if (Date.now() < window._bokeh_timeout) {\n",
       "      setTimeout(display_loaded, 100)\n",
       "    }\n",
       "  }\n",
       "\n",
       "  function run_callbacks() {\n",
       "    window._bokeh_onload_callbacks.forEach(function(callback) { callback() });\n",
       "    delete window._bokeh_onload_callbacks\n",
       "    console.info(\"Bokeh: all callbacks have finished\");\n",
       "  }\n",
       "\n",
       "  function load_libs(js_urls, callback) {\n",
       "    window._bokeh_onload_callbacks.push(callback);\n",
       "    if (window._bokeh_is_loading > 0) {\n",
       "      console.log(\"Bokeh: BokehJS is being loaded, scheduling callback at\", now());\n",
       "      return null;\n",
       "    }\n",
       "    if (js_urls == null || js_urls.length === 0) {\n",
       "      run_callbacks();\n",
       "      return null;\n",
       "    }\n",
       "    console.log(\"Bokeh: BokehJS not loaded, scheduling load and callback at\", now());\n",
       "    window._bokeh_is_loading = js_urls.length;\n",
       "    for (var i = 0; i < js_urls.length; i++) {\n",
       "      var url = js_urls[i];\n",
       "      var s = document.createElement('script');\n",
       "      s.src = url;\n",
       "      s.async = false;\n",
       "      s.onreadystatechange = s.onload = function() {\n",
       "        window._bokeh_is_loading--;\n",
       "        if (window._bokeh_is_loading === 0) {\n",
       "          console.log(\"Bokeh: all BokehJS libraries loaded\");\n",
       "          run_callbacks()\n",
       "        }\n",
       "      };\n",
       "      s.onerror = function() {\n",
       "        console.warn(\"failed to load library \" + url);\n",
       "      };\n",
       "      console.log(\"Bokeh: injecting script tag for BokehJS library: \", url);\n",
       "      document.getElementsByTagName(\"head\")[0].appendChild(s);\n",
       "    }\n",
       "  };var element = document.getElementById(\"6f127d7d-3d65-4831-be4b-5e00e662c6d9\");\n",
       "  if (element == null) {\n",
       "    console.log(\"Bokeh: ERROR: autoload.js configured with elementid '6f127d7d-3d65-4831-be4b-5e00e662c6d9' but no matching script tag was found. \")\n",
       "    return false;\n",
       "  }\n",
       "\n",
       "  var js_urls = [\"https://cdn.pydata.org/bokeh/release/bokeh-0.12.4.min.js\", \"https://cdn.pydata.org/bokeh/release/bokeh-widgets-0.12.4.min.js\"];\n",
       "\n",
       "  var inline_js = [\n",
       "    function(Bokeh) {\n",
       "      Bokeh.set_log_level(\"info\");\n",
       "    },\n",
       "    \n",
       "    function(Bokeh) {\n",
       "      \n",
       "      document.getElementById(\"6f127d7d-3d65-4831-be4b-5e00e662c6d9\").textContent = \"BokehJS is loading...\";\n",
       "    },\n",
       "    function(Bokeh) {\n",
       "      console.log(\"Bokeh: injecting CSS: https://cdn.pydata.org/bokeh/release/bokeh-0.12.4.min.css\");\n",
       "      Bokeh.embed.inject_css(\"https://cdn.pydata.org/bokeh/release/bokeh-0.12.4.min.css\");\n",
       "      console.log(\"Bokeh: injecting CSS: https://cdn.pydata.org/bokeh/release/bokeh-widgets-0.12.4.min.css\");\n",
       "      Bokeh.embed.inject_css(\"https://cdn.pydata.org/bokeh/release/bokeh-widgets-0.12.4.min.css\");\n",
       "    }\n",
       "  ];\n",
       "\n",
       "  function run_inline_js() {\n",
       "    \n",
       "    if ((window.Bokeh !== undefined) || (force === true)) {\n",
       "      for (var i = 0; i < inline_js.length; i++) {\n",
       "        inline_js[i](window.Bokeh);\n",
       "      }if (force === true) {\n",
       "        display_loaded();\n",
       "      }} else if (Date.now() < window._bokeh_timeout) {\n",
       "      setTimeout(run_inline_js, 100);\n",
       "    } else if (!window._bokeh_failed_load) {\n",
       "      console.log(\"Bokeh: BokehJS failed to load within specified timeout.\");\n",
       "      window._bokeh_failed_load = true;\n",
       "    } else if (force !== true) {\n",
       "      var cell = $(document.getElementById(\"6f127d7d-3d65-4831-be4b-5e00e662c6d9\")).parents('.cell').data().cell;\n",
       "      cell.output_area.append_execute_result(NB_LOAD_WARNING)\n",
       "    }\n",
       "\n",
       "  }\n",
       "\n",
       "  if (window._bokeh_is_loading === 0) {\n",
       "    console.log(\"Bokeh: BokehJS loaded, going straight to plotting\");\n",
       "    run_inline_js();\n",
       "  } else {\n",
       "    load_libs(js_urls, function() {\n",
       "      console.log(\"Bokeh: BokehJS plotting callback run at\", now());\n",
       "      run_inline_js();\n",
       "    });\n",
       "  }\n",
       "}(this));"
      ]
     },
     "metadata": {},
     "output_type": "display_data"
    }
   ],
   "source": [
    "from bokeh.models import ColumnDataSource, LabelSet\n",
    "from bokeh.plotting import figure, show, output_file\n",
    "from bokeh.io import output_notebook\n",
    "output_notebook()"
   ]
  },
  {
   "cell_type": "markdown",
   "metadata": {},
   "source": [
    "### Part 0: Download the TED dataset"
   ]
  },
  {
   "cell_type": "code",
   "execution_count": 3,
   "metadata": {
    "collapsed": false
   },
   "outputs": [],
   "source": [
    "import urllib.request\n",
    "import zipfile\n",
    "import lxml.etree"
   ]
  },
  {
   "cell_type": "code",
   "execution_count": 4,
   "metadata": {
    "collapsed": false
   },
   "outputs": [],
   "source": [
    "# Download the dataset if it's not already there: this may take a minute as it is 75MB\n",
    "if not os.path.isfile('ted_en-20160408.zip'):\n",
    "    urllib.request.urlretrieve(\"https://wit3.fbk.eu/get.php?path=XML_releases/xml/ted_en-20160408.zip&filename=ted_en-20160408.zip\", filename=\"ted_en-20160408.zip\")"
   ]
  },
  {
   "cell_type": "code",
   "execution_count": 5,
   "metadata": {
    "collapsed": true
   },
   "outputs": [],
   "source": [
    "# For now, we're only interested in the subtitle text, so let's extract that from the XML:\n",
    "with zipfile.ZipFile('ted_en-20160408.zip', 'r') as z:\n",
    "    doc = lxml.etree.parse(z.open('ted_en-20160408.xml', 'r'))\n",
    "input_text = '\\n'.join(doc.xpath('//content/text()'))\n",
    "del doc"
   ]
  },
  {
   "cell_type": "markdown",
   "metadata": {},
   "source": [
    "### Part 1: Preprocessing\n",
    "\n",
    "In this part, we attempt to clean up the raw subtitles a bit, so that we get only sentences. The following substring shows examples of what we're trying to get rid of. Since it's hard to define precisely what we want to get rid of, we'll just use some simple heuristics."
   ]
  },
  {
   "cell_type": "code",
   "execution_count": 6,
   "metadata": {
    "collapsed": false,
    "scrolled": false
   },
   "outputs": [
    {
     "data": {
      "text/plain": [
       "' baby does.\\n(Video) Hyowon Gweon: See this? (Ball squeaks) Did you see that? (Ball squeaks) Cool. See this one? (Ball squeaks) Wow.\\nLaura Schulz: Told you. (Laughs)\\n(Vide'"
      ]
     },
     "execution_count": 6,
     "metadata": {},
     "output_type": "execute_result"
    }
   ],
   "source": [
    "i = input_text.find(\"Hyowon Gweon: See this?\")\n",
    "input_text[i-20:i+150]"
   ]
  },
  {
   "cell_type": "markdown",
   "metadata": {},
   "source": [
    "Let's start by removing all parenthesized strings using a regex:"
   ]
  },
  {
   "cell_type": "code",
   "execution_count": 7,
   "metadata": {
    "collapsed": true
   },
   "outputs": [],
   "source": [
    "input_text_noparens = re.sub(r'\\([^)]*\\)', '', input_text)"
   ]
  },
  {
   "cell_type": "markdown",
   "metadata": {},
   "source": [
    "We can verify the same location in the text is now clean as follows. We won't worry about the irregular spaces since we'll later split the text into sentences and tokenize it anyway."
   ]
  },
  {
   "cell_type": "code",
   "execution_count": 8,
   "metadata": {
    "collapsed": false
   },
   "outputs": [
    {
     "data": {
      "text/plain": [
       "\"hat the baby does.\\n Hyowon Gweon: See this?  Did you see that?  Cool. See this one?  Wow.\\nLaura Schulz: Told you. \\n HG: See this one?  Hey Clara, this one's for you. You \""
      ]
     },
     "execution_count": 8,
     "metadata": {},
     "output_type": "execute_result"
    }
   ],
   "source": [
    "i = input_text_noparens.find(\"Hyowon Gweon: See this?\")\n",
    "input_text_noparens[i-20:i+150]"
   ]
  },
  {
   "cell_type": "markdown",
   "metadata": {},
   "source": [
    "Now, let's attempt to remove speakers' names that occur at the beginning of a line, by deleting pieces of the form \"`<up to 20 characters>:`\", as shown in this example. Of course, this is an imperfect heuristic. "
   ]
  },
  {
   "cell_type": "code",
   "execution_count": 9,
   "metadata": {
    "collapsed": false
   },
   "outputs": [
    {
     "data": {
      "text/plain": [
       "[\"Here are two reasons companies fail: they only do more of the same, or they only do what's new\",\n",
       " 'To me the real, real solution to quality growth is figuring out the balance between two activities: exploration and exploitation',\n",
       " ' Both are necessary, but it can be too much of a good thing',\n",
       " 'Consider Facit',\n",
       " \" I'm actually old enough to remember them\"]"
      ]
     },
     "execution_count": 9,
     "metadata": {},
     "output_type": "execute_result"
    }
   ],
   "source": [
    "sentences_strings_ted = []\n",
    "for line in input_text_noparens.split('\\n'):\n",
    "    m = re.match(r'^(?:(?P<precolon>[^:]{,20}):)?(?P<postcolon>.*)$', line)\n",
    "    sentences_strings_ted.extend(sent for sent in m.groupdict()['postcolon'].split('.') if sent)\n",
    "\n",
    "# Uncomment if you need to save some RAM: these strings are about 50MB.\n",
    "# del input_text, input_text_noparens\n",
    "\n",
    "# Let's view the first few:\n",
    "sentences_strings_ted[:5]"
   ]
  },
  {
   "cell_type": "markdown",
   "metadata": {},
   "source": [
    "Now that we have sentences, we're ready to tokenize each of them into words. This tokenization is imperfect, of course. For instance, how many tokens is \"can't\", and where/how do we split it? We'll take the simplest naive approach of splitting on spaces. Before splitting, we remove non-alphanumeric characters, such as punctuation. You may want to consider the following question: why do we replace these characters with spaces rather than deleting them? Think of a case where this yields a different answer."
   ]
  },
  {
   "cell_type": "code",
   "execution_count": 10,
   "metadata": {
    "collapsed": false
   },
   "outputs": [],
   "source": [
    "sentences_ted = []\n",
    "for sent_str in sentences_strings_ted:\n",
    "    tokens = re.sub(r\"[^a-z0-9]+\", \" \", sent_str.lower()).split()\n",
    "    sentences_ted.append(tokens)"
   ]
  },
  {
   "cell_type": "markdown",
   "metadata": {},
   "source": [
    "Two sample processed sentences:"
   ]
  },
  {
   "cell_type": "code",
   "execution_count": 11,
   "metadata": {
    "collapsed": false
   },
   "outputs": [
    {
     "data": {
      "text/plain": [
       "266694"
      ]
     },
     "execution_count": 11,
     "metadata": {},
     "output_type": "execute_result"
    }
   ],
   "source": [
    "len(sentences_ted)"
   ]
  },
  {
   "cell_type": "code",
   "execution_count": 12,
   "metadata": {
    "collapsed": false
   },
   "outputs": [
    {
     "name": "stdout",
     "output_type": "stream",
     "text": [
      "['here', 'are', 'two', 'reasons', 'companies', 'fail', 'they', 'only', 'do', 'more', 'of', 'the', 'same', 'or', 'they', 'only', 'do', 'what', 's', 'new']\n",
      "['to', 'me', 'the', 'real', 'real', 'solution', 'to', 'quality', 'growth', 'is', 'figuring', 'out', 'the', 'balance', 'between', 'two', 'activities', 'exploration', 'and', 'exploitation']\n"
     ]
    }
   ],
   "source": [
    "print(sentences_ted[0])\n",
    "print(sentences_ted[1])"
   ]
  },
  {
   "cell_type": "markdown",
   "metadata": {},
   "source": [
    "### Part 2: Word Frequencies"
   ]
  },
  {
   "cell_type": "markdown",
   "metadata": {},
   "source": [
    "If you store the counts of the top 1000 words in a list called `counts_ted_top1000`, the code below will plot the histogram requested in the writeup."
   ]
  },
  {
   "cell_type": "code",
   "execution_count": 13,
   "metadata": {
    "collapsed": false
   },
   "outputs": [
    {
     "name": "stdout",
     "output_type": "stream",
     "text": [
      "[('the', 207748), ('and', 149305), ('to', 125169), ('of', 114818), ('a', 105399), ('that', 95146), ('i', 83180), ('in', 78070), ('it', 74738), ('you', 70923)]\n"
     ]
    }
   ],
   "source": [
    "from collections import Counter\n",
    "counts = Counter()\n",
    "for sentence in sentences_ted:\n",
    "    for word in sentence:\n",
    "        counts[word] += 1\n",
    "print(counts.most_common(10))\n",
    "words_top_ted, counts_ted_top1000 = zip(*counts.most_common(1000))"
   ]
  },
  {
   "cell_type": "markdown",
   "metadata": {},
   "source": [
    "Plot distribution of top-1000 words"
   ]
  },
  {
   "cell_type": "code",
   "execution_count": 14,
   "metadata": {
    "collapsed": false
   },
   "outputs": [
    {
     "data": {
      "text/html": [
       "\n",
       "\n",
       "    <div class=\"bk-root\">\n",
       "        <div class=\"bk-plotdiv\" id=\"a628986a-e211-432a-bae9-99f9cee57c0b\"></div>\n",
       "    </div>\n",
       "<script type=\"text/javascript\">\n",
       "  \n",
       "  (function(global) {\n",
       "    function now() {\n",
       "      return new Date();\n",
       "    }\n",
       "  \n",
       "    var force = false;\n",
       "  \n",
       "    if (typeof (window._bokeh_onload_callbacks) === \"undefined\" || force === true) {\n",
       "      window._bokeh_onload_callbacks = [];\n",
       "      window._bokeh_is_loading = undefined;\n",
       "    }\n",
       "  \n",
       "  \n",
       "    \n",
       "    if (typeof (window._bokeh_timeout) === \"undefined\" || force === true) {\n",
       "      window._bokeh_timeout = Date.now() + 0;\n",
       "      window._bokeh_failed_load = false;\n",
       "    }\n",
       "  \n",
       "    var NB_LOAD_WARNING = {'data': {'text/html':\n",
       "       \"<div style='background-color: #fdd'>\\n\"+\n",
       "       \"<p>\\n\"+\n",
       "       \"BokehJS does not appear to have successfully loaded. If loading BokehJS from CDN, this \\n\"+\n",
       "       \"may be due to a slow or bad network connection. Possible fixes:\\n\"+\n",
       "       \"</p>\\n\"+\n",
       "       \"<ul>\\n\"+\n",
       "       \"<li>re-rerun `output_notebook()` to attempt to load from CDN again, or</li>\\n\"+\n",
       "       \"<li>use INLINE resources instead, as so:</li>\\n\"+\n",
       "       \"</ul>\\n\"+\n",
       "       \"<code>\\n\"+\n",
       "       \"from bokeh.resources import INLINE\\n\"+\n",
       "       \"output_notebook(resources=INLINE)\\n\"+\n",
       "       \"</code>\\n\"+\n",
       "       \"</div>\"}};\n",
       "  \n",
       "    function display_loaded() {\n",
       "      if (window.Bokeh !== undefined) {\n",
       "        document.getElementById(\"a628986a-e211-432a-bae9-99f9cee57c0b\").textContent = \"BokehJS successfully loaded.\";\n",
       "      } else if (Date.now() < window._bokeh_timeout) {\n",
       "        setTimeout(display_loaded, 100)\n",
       "      }\n",
       "    }\n",
       "  \n",
       "    function run_callbacks() {\n",
       "      window._bokeh_onload_callbacks.forEach(function(callback) { callback() });\n",
       "      delete window._bokeh_onload_callbacks\n",
       "      console.info(\"Bokeh: all callbacks have finished\");\n",
       "    }\n",
       "  \n",
       "    function load_libs(js_urls, callback) {\n",
       "      window._bokeh_onload_callbacks.push(callback);\n",
       "      if (window._bokeh_is_loading > 0) {\n",
       "        console.log(\"Bokeh: BokehJS is being loaded, scheduling callback at\", now());\n",
       "        return null;\n",
       "      }\n",
       "      if (js_urls == null || js_urls.length === 0) {\n",
       "        run_callbacks();\n",
       "        return null;\n",
       "      }\n",
       "      console.log(\"Bokeh: BokehJS not loaded, scheduling load and callback at\", now());\n",
       "      window._bokeh_is_loading = js_urls.length;\n",
       "      for (var i = 0; i < js_urls.length; i++) {\n",
       "        var url = js_urls[i];\n",
       "        var s = document.createElement('script');\n",
       "        s.src = url;\n",
       "        s.async = false;\n",
       "        s.onreadystatechange = s.onload = function() {\n",
       "          window._bokeh_is_loading--;\n",
       "          if (window._bokeh_is_loading === 0) {\n",
       "            console.log(\"Bokeh: all BokehJS libraries loaded\");\n",
       "            run_callbacks()\n",
       "          }\n",
       "        };\n",
       "        s.onerror = function() {\n",
       "          console.warn(\"failed to load library \" + url);\n",
       "        };\n",
       "        console.log(\"Bokeh: injecting script tag for BokehJS library: \", url);\n",
       "        document.getElementsByTagName(\"head\")[0].appendChild(s);\n",
       "      }\n",
       "    };var element = document.getElementById(\"a628986a-e211-432a-bae9-99f9cee57c0b\");\n",
       "    if (element == null) {\n",
       "      console.log(\"Bokeh: ERROR: autoload.js configured with elementid 'a628986a-e211-432a-bae9-99f9cee57c0b' but no matching script tag was found. \")\n",
       "      return false;\n",
       "    }\n",
       "  \n",
       "    var js_urls = [];\n",
       "  \n",
       "    var inline_js = [\n",
       "      function(Bokeh) {\n",
       "        (function() {\n",
       "          var fn = function() {\n",
       "            var docs_json = {\"60d568fb-7b27-47e4-b428-f25d1a27dbfa\":{\"roots\":{\"references\":[{\"attributes\":{\"plot\":{\"id\":\"c0aedbe3-f22c-41ed-b091-92f0d03e83d9\",\"subtype\":\"Figure\",\"type\":\"Plot\"}},\"id\":\"fdf0d226-3097-449a-8e4f-c777e26746e7\",\"type\":\"SaveTool\"},{\"attributes\":{\"below\":[{\"id\":\"3d152e64-0442-4ba7-ac69-3fbb5b0eda8c\",\"type\":\"LinearAxis\"}],\"left\":[{\"id\":\"7f3ffd1f-82e7-4a6a-a9b6-296505a91492\",\"type\":\"LinearAxis\"}],\"renderers\":[{\"id\":\"3d152e64-0442-4ba7-ac69-3fbb5b0eda8c\",\"type\":\"LinearAxis\"},{\"id\":\"f4a1b8bd-3670-4705-8bb7-eb82fb434bb2\",\"type\":\"Grid\"},{\"id\":\"7f3ffd1f-82e7-4a6a-a9b6-296505a91492\",\"type\":\"LinearAxis\"},{\"id\":\"c6f5fd8a-15fc-4433-b9f8-cc78b052c447\",\"type\":\"Grid\"},{\"id\":\"23a16d0a-320e-41e8-968c-b28d44c698d6\",\"type\":\"GlyphRenderer\"}],\"title\":{\"id\":\"74ab7d86-2198-4e2b-aca1-8747f3b5d690\",\"type\":\"Title\"},\"tool_events\":{\"id\":\"39601750-bdc6-4283-a512-b97b847db0c9\",\"type\":\"ToolEvents\"},\"toolbar\":{\"id\":\"a4d00994-e720-4afa-a14f-0b142c29d6bd\",\"type\":\"Toolbar\"},\"toolbar_location\":\"above\",\"x_range\":{\"id\":\"6699698f-1239-4513-a784-a0afa122f4e6\",\"type\":\"DataRange1d\"},\"y_range\":{\"id\":\"c2d7f690-1cb5-48f2-be86-97cf6ec0c276\",\"type\":\"DataRange1d\"}},\"id\":\"c0aedbe3-f22c-41ed-b091-92f0d03e83d9\",\"subtype\":\"Figure\",\"type\":\"Plot\"},{\"attributes\":{\"plot\":{\"id\":\"c0aedbe3-f22c-41ed-b091-92f0d03e83d9\",\"subtype\":\"Figure\",\"type\":\"Plot\"},\"ticker\":{\"id\":\"a48d8e86-f1ce-4245-a04a-94113c8a893e\",\"type\":\"BasicTicker\"}},\"id\":\"f4a1b8bd-3670-4705-8bb7-eb82fb434bb2\",\"type\":\"Grid\"},{\"attributes\":{\"bottom\":{\"value\":0},\"fill_alpha\":{\"value\":0.1},\"fill_color\":{\"value\":\"#1f77b4\"},\"left\":{\"field\":\"left\"},\"line_alpha\":{\"value\":0.1},\"line_color\":{\"value\":\"#1f77b4\"},\"right\":{\"field\":\"right\"},\"top\":{\"field\":\"top\"}},\"id\":\"a4ad8dce-7399-4b45-8a18-fc09c4f29acf\",\"type\":\"Quad\"},{\"attributes\":{},\"id\":\"aa86b52d-8d16-4764-802e-a455f8dc5a45\",\"type\":\"BasicTickFormatter\"},{\"attributes\":{\"plot\":{\"id\":\"c0aedbe3-f22c-41ed-b091-92f0d03e83d9\",\"subtype\":\"Figure\",\"type\":\"Plot\"}},\"id\":\"368167dc-7999-408f-b313-c0ef697994f9\",\"type\":\"PanTool\"},{\"attributes\":{\"formatter\":{\"id\":\"aa86b52d-8d16-4764-802e-a455f8dc5a45\",\"type\":\"BasicTickFormatter\"},\"plot\":{\"id\":\"c0aedbe3-f22c-41ed-b091-92f0d03e83d9\",\"subtype\":\"Figure\",\"type\":\"Plot\"},\"ticker\":{\"id\":\"28dc510c-2d1d-4efe-8612-f4d24c0b4454\",\"type\":\"BasicTicker\"}},\"id\":\"7f3ffd1f-82e7-4a6a-a9b6-296505a91492\",\"type\":\"LinearAxis\"},{\"attributes\":{\"callback\":null,\"column_names\":[\"right\",\"top\",\"left\"],\"data\":{\"left\":{\"__ndarray__\":\"AAAAAABAeUB7FK5H4VqjQHsUrkfhxrFAuB6F61HguUB7FK5H4fzAQJqZmZmZCcVAuB6F61EWyUDXo3A9CiPNQHsUrkfhl9BACtejcD2e0kCamZmZmaTUQClcj8L1qtZAuB6F61Gx2EBI4XoUrrfaQNejcD0KvtxAZ2ZmZmbE3kB7FK5HYWXgQMP1KFyPaOFACtejcL1r4kBSuB6F627jQJqZmZkZcuRA4XoUrkd15UApXI/CdXjmQHE9Cteje+dAuB6F69F+6EAAAAAAAILpQEjhehQuhepAkML1KFyI60DXo3A9iovsQB+F61G4ju1AZ2ZmZuaR7kCuR+F6FJXvQHsUrkchTPBAH4XrUbjN8EDD9ShcT0/xQGdmZmbm0PFACtejcH1S8kCuR+F6FNTyQFK4HoWrVfNA9ihcj0LX80CamZmZ2Vj0QD4K16Nw2vRA4XoUrgdc9UCF61G4nt31QClcj8I1X/ZAzczMzMzg9kBxPQrXY2L3QBWuR+H64/dAuB6F65Fl+EBcj8L1KOf4QAAAAADAaPlApHA9Clfq+UBI4XoU7mv6QOxRuB6F7fpAkML1KBxv+0AzMzMzs/D7QNejcD1KcvxAexSuR+Hz/EAfhetReHX9QMP1KFwP9/1AZ2ZmZqZ4/kAK16NwPfr+QK5H4XrUe/9AUrgehWv9/0B7FK5HgT8AQc3MzMxMgABBH4XrURjBAEFxPQrX4wEBQcP1KFyvQgFBFa5H4XqDAUFnZmZmRsQBQbgehesRBQJBCtejcN1FAkFcj8L1qIYCQa5H4Xp0xwJBAAAAAEAIA0FSuB6FC0kDQaRwPQrXiQNB9ihcj6LKA0FI4XoUbgsEQZqZmZk5TARB7FG4HgWNBEE+Ctej0M0EQZDC9SicDgVB4XoUrmdPBUEzMzMzM5AFQYXrUbj+0AVB16NwPcoRBkEpXI/ClVIGQXsUrkdhkwZBzczMzCzUBkEfhetR+BQHQXE9CtfDVQdBw/UoXI+WB0EVrkfhWtcHQWdmZmYmGAhBuB6F6/FYCEEK16NwvZkIQVyPwvWI2ghBrkfhelQbCUE=\",\"dtype\":\"float64\",\"shape\":[100]},\"right\":{\"__ndarray__\":\"exSuR+Fao0B7FK5H4caxQLgehetR4LlAexSuR+H8wECamZmZmQnFQLgehetRFslA16NwPQojzUB7FK5H4ZfQQArXo3A9ntJAmpmZmZmk1EApXI/C9arWQLgehetRsdhASOF6FK632kDXo3A9Cr7cQGdmZmZmxN5AexSuR2Fl4EDD9Shcj2jhQArXo3C9a+JAUrgehetu40CamZmZGXLkQOF6FK5HdeVAKVyPwnV45kBxPQrXo3vnQLgehevRfuhAAAAAAACC6UBI4XoULoXqQJDC9ShciOtA16NwPYqL7EAfhetRuI7tQGdmZmbmke5ArkfhehSV70B7FK5HIUzwQB+F61G4zfBAw/UoXE9P8UBnZmZm5tDxQArXo3B9UvJArkfhehTU8kBSuB6Fq1XzQPYoXI9C1/NAmpmZmdlY9EA+CtejcNr0QOF6FK4HXPVAhetRuJ7d9UApXI/CNV/2QM3MzMzM4PZAcT0K12Ni90AVrkfh+uP3QLgeheuRZfhAXI/C9Sjn+EAAAAAAwGj5QKRwPQpX6vlASOF6FO5r+kDsUbgehe36QJDC9Sgcb/tAMzMzM7Pw+0DXo3A9SnL8QHsUrkfh8/xAH4XrUXh1/UDD9ShcD/f9QGdmZmameP5ACtejcD36/kCuR+F61Hv/QFK4HoVr/f9AexSuR4E/AEHNzMzMTIAAQR+F61EYwQBBcT0K1+MBAUHD9Shcr0IBQRWuR+F6gwFBZ2ZmZkbEAUG4HoXrEQUCQQrXo3DdRQJBXI/C9aiGAkGuR+F6dMcCQQAAAABACANBUrgehQtJA0GkcD0K14kDQfYoXI+iygNBSOF6FG4LBEGamZmZOUwEQexRuB4FjQRBPgrXo9DNBEGQwvUonA4FQeF6FK5nTwVBMzMzMzOQBUGF61G4/tAFQdejcD3KEQZBKVyPwpVSBkF7FK5HYZMGQc3MzMws1AZBH4XrUfgUB0FxPQrXw1UHQcP1KFyPlgdBFa5H4VrXB0FnZmZmJhgIQbgehevxWAhBCtejcL2ZCEFcj8L1iNoIQa5H4XpUGwlBAAAAACBcCUE=\",\"dtype\":\"float64\",\"shape\":[100]},\"top\":{\"__ndarray__\":\"50H1zNSBOT/ypb1tgHIBPwsriUb5Uew+zuTFiLI04j78kGUPxTHhPh40R25oQNY+zuTFiLI00j4pPQWW1y7APsTbB2FDRsg+JT0FltcuwD4tPQWW1y6wPi09BZbXLrA+JT0FltcuwD4tPQWW1y6gPiU9BZbXLrA+LT0FltcuoD4AAAAAAAAAADU9BZbXLqA+AAAAAAAAAAAAAAAAAAAAAAAAAAAAAAAAAAAAAAAAAAAAAAAAAAAAADU9BZbXLqA+AAAAAAAAAAAAAAAAAAAAAAAAAAAAAAAANT0FltcuoD4AAAAAAAAAAAAAAAAAAAAANT0FltcuoD4AAAAAAAAAACU9BZbXLqA+AAAAAAAAAAAlPQWW1y6gPkU9BZbXLqA+AAAAAAAAAAAlPQWW1y6gPgAAAAAAAAAAJT0FltcuoD4AAAAAAAAAAAAAAAAAAAAAAAAAAAAAAAAAAAAAAAAAAAAAAAAAAAAAJT0FltcuoD4AAAAAAAAAAAAAAAAAAAAAAAAAAAAAAAAAAAAAAAAAACU9BZbXLqA+AAAAAAAAAAAAAAAAAAAAAAAAAAAAAAAAAAAAAAAAAAAlPQWW1y6gPgAAAAAAAAAAAAAAAAAAAAAAAAAAAAAAAAAAAAAAAAAART0FltcuoD4AAAAAAAAAAAAAAAAAAAAAAAAAAAAAAAAAAAAAAAAAAAAAAAAAAAAAAAAAAAAAAAAAAAAAAAAAAAAAAAAAAAAAAAAAAAAAAAAAAAAAAAAAACU9BZbXLqA+AAAAAAAAAAAAAAAAAAAAAAAAAAAAAAAAAAAAAAAAAAAAAAAAAAAAAAAAAAAAAAAAAAAAAAAAAAAAAAAAAAAAAAAAAAAAAAAAAAAAAAAAAAAAAAAAAAAAAAAAAAAAAAAAAAAAAAAAAAAAAAAAAAAAAAAAAAAAAAAAAAAAAAAAAAAAAAAAAAAAAAAAAAAAAAAAAAAAAAAAAAAAAAAAAAAAAAAAAAAAAAAAAAAAAAAAAAAAAAAAAAAAAAAAAAAAAAAAAAAAAAAAAAAAAAAAAAAAAAAAAAAAAAAAJT0FltcuoD4=\",\"dtype\":\"float64\",\"shape\":[100]}}},\"id\":\"31dc68f0-2b21-42dd-8ee1-01a0df29e783\",\"type\":\"ColumnDataSource\"},{\"attributes\":{\"formatter\":{\"id\":\"52f18973-4c8c-4662-b248-3231b832037c\",\"type\":\"BasicTickFormatter\"},\"plot\":{\"id\":\"c0aedbe3-f22c-41ed-b091-92f0d03e83d9\",\"subtype\":\"Figure\",\"type\":\"Plot\"},\"ticker\":{\"id\":\"a48d8e86-f1ce-4245-a04a-94113c8a893e\",\"type\":\"BasicTicker\"}},\"id\":\"3d152e64-0442-4ba7-ac69-3fbb5b0eda8c\",\"type\":\"LinearAxis\"},{\"attributes\":{},\"id\":\"28dc510c-2d1d-4efe-8612-f4d24c0b4454\",\"type\":\"BasicTicker\"},{\"attributes\":{\"bottom\":{\"value\":0},\"fill_color\":{\"value\":\"#1f77b4\"},\"left\":{\"field\":\"left\"},\"line_color\":{\"value\":\"#555555\"},\"right\":{\"field\":\"right\"},\"top\":{\"field\":\"top\"}},\"id\":\"57cd8198-80f8-492a-baec-0ea480186609\",\"type\":\"Quad\"},{\"attributes\":{},\"id\":\"52f18973-4c8c-4662-b248-3231b832037c\",\"type\":\"BasicTickFormatter\"},{\"attributes\":{\"plot\":{\"id\":\"c0aedbe3-f22c-41ed-b091-92f0d03e83d9\",\"subtype\":\"Figure\",\"type\":\"Plot\"}},\"id\":\"216b3c5c-9a93-4532-8085-b057de875414\",\"type\":\"WheelZoomTool\"},{\"attributes\":{\"data_source\":{\"id\":\"31dc68f0-2b21-42dd-8ee1-01a0df29e783\",\"type\":\"ColumnDataSource\"},\"glyph\":{\"id\":\"57cd8198-80f8-492a-baec-0ea480186609\",\"type\":\"Quad\"},\"hover_glyph\":null,\"nonselection_glyph\":{\"id\":\"a4ad8dce-7399-4b45-8a18-fc09c4f29acf\",\"type\":\"Quad\"},\"selection_glyph\":null},\"id\":\"23a16d0a-320e-41e8-968c-b28d44c698d6\",\"type\":\"GlyphRenderer\"},{\"attributes\":{},\"id\":\"a48d8e86-f1ce-4245-a04a-94113c8a893e\",\"type\":\"BasicTicker\"},{\"attributes\":{\"callback\":null},\"id\":\"6699698f-1239-4513-a784-a0afa122f4e6\",\"type\":\"DataRange1d\"},{\"attributes\":{\"plot\":null,\"text\":\"Top-1000 words distribution\"},\"id\":\"74ab7d86-2198-4e2b-aca1-8747f3b5d690\",\"type\":\"Title\"},{\"attributes\":{\"active_drag\":\"auto\",\"active_scroll\":\"auto\",\"active_tap\":\"auto\",\"tools\":[{\"id\":\"368167dc-7999-408f-b313-c0ef697994f9\",\"type\":\"PanTool\"},{\"id\":\"216b3c5c-9a93-4532-8085-b057de875414\",\"type\":\"WheelZoomTool\"},{\"id\":\"7f3e632f-5dfd-420c-9a5b-547dbfb42624\",\"type\":\"ResetTool\"},{\"id\":\"fdf0d226-3097-449a-8e4f-c777e26746e7\",\"type\":\"SaveTool\"}]},\"id\":\"a4d00994-e720-4afa-a14f-0b142c29d6bd\",\"type\":\"Toolbar\"},{\"attributes\":{},\"id\":\"39601750-bdc6-4283-a512-b97b847db0c9\",\"type\":\"ToolEvents\"},{\"attributes\":{\"callback\":null},\"id\":\"c2d7f690-1cb5-48f2-be86-97cf6ec0c276\",\"type\":\"DataRange1d\"},{\"attributes\":{\"dimension\":1,\"plot\":{\"id\":\"c0aedbe3-f22c-41ed-b091-92f0d03e83d9\",\"subtype\":\"Figure\",\"type\":\"Plot\"},\"ticker\":{\"id\":\"28dc510c-2d1d-4efe-8612-f4d24c0b4454\",\"type\":\"BasicTicker\"}},\"id\":\"c6f5fd8a-15fc-4433-b9f8-cc78b052c447\",\"type\":\"Grid\"},{\"attributes\":{\"plot\":{\"id\":\"c0aedbe3-f22c-41ed-b091-92f0d03e83d9\",\"subtype\":\"Figure\",\"type\":\"Plot\"}},\"id\":\"7f3e632f-5dfd-420c-9a5b-547dbfb42624\",\"type\":\"ResetTool\"}],\"root_ids\":[\"c0aedbe3-f22c-41ed-b091-92f0d03e83d9\"]},\"title\":\"Bokeh Application\",\"version\":\"0.12.4\"}};\n",
       "            var render_items = [{\"docid\":\"60d568fb-7b27-47e4-b428-f25d1a27dbfa\",\"elementid\":\"a628986a-e211-432a-bae9-99f9cee57c0b\",\"modelid\":\"c0aedbe3-f22c-41ed-b091-92f0d03e83d9\"}];\n",
       "            \n",
       "            Bokeh.embed.embed_items(docs_json, render_items);\n",
       "          };\n",
       "          if (document.readyState != \"loading\") fn();\n",
       "          else document.addEventListener(\"DOMContentLoaded\", fn);\n",
       "        })();\n",
       "      },\n",
       "      function(Bokeh) {\n",
       "      }\n",
       "    ];\n",
       "  \n",
       "    function run_inline_js() {\n",
       "      \n",
       "      if ((window.Bokeh !== undefined) || (force === true)) {\n",
       "        for (var i = 0; i < inline_js.length; i++) {\n",
       "          inline_js[i](window.Bokeh);\n",
       "        }if (force === true) {\n",
       "          display_loaded();\n",
       "        }} else if (Date.now() < window._bokeh_timeout) {\n",
       "        setTimeout(run_inline_js, 100);\n",
       "      } else if (!window._bokeh_failed_load) {\n",
       "        console.log(\"Bokeh: BokehJS failed to load within specified timeout.\");\n",
       "        window._bokeh_failed_load = true;\n",
       "      } else if (force !== true) {\n",
       "        var cell = $(document.getElementById(\"a628986a-e211-432a-bae9-99f9cee57c0b\")).parents('.cell').data().cell;\n",
       "        cell.output_area.append_execute_result(NB_LOAD_WARNING)\n",
       "      }\n",
       "  \n",
       "    }\n",
       "  \n",
       "    if (window._bokeh_is_loading === 0) {\n",
       "      console.log(\"Bokeh: BokehJS loaded, going straight to plotting\");\n",
       "      run_inline_js();\n",
       "    } else {\n",
       "      load_libs(js_urls, function() {\n",
       "        console.log(\"Bokeh: BokehJS plotting callback run at\", now());\n",
       "        run_inline_js();\n",
       "      });\n",
       "    }\n",
       "  }(this));\n",
       "</script>"
      ]
     },
     "metadata": {},
     "output_type": "display_data"
    }
   ],
   "source": [
    "hist, edges = np.histogram(counts_ted_top1000, density=True, bins=100, normed=True)\n",
    "\n",
    "p = figure(tools=\"pan,wheel_zoom,reset,save\",\n",
    "           toolbar_location=\"above\",\n",
    "           title=\"Top-1000 words distribution\")\n",
    "p.quad(top=hist, bottom=0, left=edges[:-1], right=edges[1:], line_color=\"#555555\")\n",
    "show(p)"
   ]
  },
  {
   "cell_type": "markdown",
   "metadata": {},
   "source": [
    "### Part 3: Train Word2Vec"
   ]
  },
  {
   "cell_type": "code",
   "execution_count": 15,
   "metadata": {
    "collapsed": false
   },
   "outputs": [],
   "source": [
    "from gensim.models import Word2Vec"
   ]
  },
  {
   "cell_type": "code",
   "execution_count": 16,
   "metadata": {
    "collapsed": false
   },
   "outputs": [],
   "source": [
    "model_ted = Word2Vec(sentences_ted, size=100, window=5, min_count=10, workers=4)"
   ]
  },
  {
   "cell_type": "markdown",
   "metadata": {},
   "source": [
    "### Part 4: Ted Learnt Representations"
   ]
  },
  {
   "cell_type": "markdown",
   "metadata": {},
   "source": [
    "Finding similar words: (see gensim docs for more functionality of `most_similar`)"
   ]
  },
  {
   "cell_type": "code",
   "execution_count": 17,
   "metadata": {
    "collapsed": false
   },
   "outputs": [
    {
     "data": {
      "text/plain": [
       "[('woman', 0.8298409581184387),\n",
       " ('guy', 0.8004367351531982),\n",
       " ('lady', 0.760765790939331),\n",
       " ('soldier', 0.7353750467300415),\n",
       " ('boy', 0.7261406183242798),\n",
       " ('gentleman', 0.7219012975692749),\n",
       " ('girl', 0.7117241621017456),\n",
       " ('poet', 0.6882065534591675),\n",
       " ('rabbi', 0.68507319688797),\n",
       " ('jones', 0.6733391284942627)]"
      ]
     },
     "execution_count": 17,
     "metadata": {},
     "output_type": "execute_result"
    }
   ],
   "source": [
    "model_ted.most_similar(\"man\")"
   ]
  },
  {
   "cell_type": "code",
   "execution_count": 18,
   "metadata": {
    "collapsed": false
   },
   "outputs": [
    {
     "data": {
      "text/plain": [
       "[('machine', 0.7694165706634521),\n",
       " ('software', 0.7393957376480103),\n",
       " ('3d', 0.6878860592842102),\n",
       " ('robot', 0.6858222484588623),\n",
       " ('device', 0.6771132946014404),\n",
       " ('simulation', 0.654535710811615),\n",
       " ('mechanical', 0.6452233791351318),\n",
       " ('interface', 0.6432492733001709),\n",
       " ('printer', 0.6289206743240356),\n",
       " ('camera', 0.6281377077102661)]"
      ]
     },
     "execution_count": 18,
     "metadata": {},
     "output_type": "execute_result"
    }
   ],
   "source": [
    "model_ted.most_similar(\"computer\")"
   ]
  },
  {
   "cell_type": "code",
   "execution_count": 19,
   "metadata": {
    "collapsed": false
   },
   "outputs": [
    {
     "data": {
      "text/plain": [
       "[('scares', 0.8505761623382568),\n",
       " ('excites', 0.8453540205955505),\n",
       " ('motivates', 0.8287862539291382),\n",
       " ('amazes', 0.827053964138031),\n",
       " ('bothers', 0.8158618211746216),\n",
       " ('reminds', 0.7858245372772217),\n",
       " ('unites', 0.7820521593093872),\n",
       " ('reminding', 0.7815564870834351),\n",
       " ('untie', 0.7686220407485962),\n",
       " ('surrounds', 0.7659406661987305)]"
      ]
     },
     "execution_count": 19,
     "metadata": {},
     "output_type": "execute_result"
    }
   ],
   "source": [
    "model_ted.most_similar(\"inspires\")"
   ]
  },
  {
   "cell_type": "code",
   "execution_count": 20,
   "metadata": {
    "collapsed": false
   },
   "outputs": [
    {
     "name": "stdout",
     "output_type": "stream",
     "text": [
      "0.769417\n"
     ]
    }
   ],
   "source": [
    "# from np import linalg\n",
    "from numpy import linalg\n",
    "v = model_ted[[\"computer\", \"machine\"]]\n",
    "print(np.dot(v[0], v[1]) / np.linalg.norm(v[0]) / np.linalg.norm(v[1]))"
   ]
  },
  {
   "cell_type": "markdown",
   "metadata": {},
   "source": [
    "#### t-SNE visualization\n",
    "To use the t-SNE code below, first put a list of the top 1000 words (as strings) into a variable `words_top_ted`. The following code gets the corresponding vectors from the model, assuming it's called `model_ted`:"
   ]
  },
  {
   "cell_type": "code",
   "execution_count": 21,
   "metadata": {
    "collapsed": false
   },
   "outputs": [],
   "source": [
    "# This assumes words_top_ted is a list of strings, the top 1000 words\n",
    "words_top_vec_ted = model_ted[words_top_ted]"
   ]
  },
  {
   "cell_type": "code",
   "execution_count": 22,
   "metadata": {
    "collapsed": false
   },
   "outputs": [],
   "source": [
    "from sklearn.manifold import TSNE\n",
    "tsne = TSNE(n_components=2, random_state=0)\n",
    "words_top_ted_tsne = tsne.fit_transform(words_top_vec_ted)"
   ]
  },
  {
   "cell_type": "code",
   "execution_count": 23,
   "metadata": {
    "collapsed": false
   },
   "outputs": [
    {
     "data": {
      "text/html": [
       "\n",
       "\n",
       "    <div class=\"bk-root\">\n",
       "        <div class=\"bk-plotdiv\" id=\"9891e091-faa0-4fe0-b649-384729f30923\"></div>\n",
       "    </div>\n",
       "<script type=\"text/javascript\">\n",
       "  \n",
       "  (function(global) {\n",
       "    function now() {\n",
       "      return new Date();\n",
       "    }\n",
       "  \n",
       "    var force = false;\n",
       "  \n",
       "    if (typeof (window._bokeh_onload_callbacks) === \"undefined\" || force === true) {\n",
       "      window._bokeh_onload_callbacks = [];\n",
       "      window._bokeh_is_loading = undefined;\n",
       "    }\n",
       "  \n",
       "  \n",
       "    \n",
       "    if (typeof (window._bokeh_timeout) === \"undefined\" || force === true) {\n",
       "      window._bokeh_timeout = Date.now() + 0;\n",
       "      window._bokeh_failed_load = false;\n",
       "    }\n",
       "  \n",
       "    var NB_LOAD_WARNING = {'data': {'text/html':\n",
       "       \"<div style='background-color: #fdd'>\\n\"+\n",
       "       \"<p>\\n\"+\n",
       "       \"BokehJS does not appear to have successfully loaded. If loading BokehJS from CDN, this \\n\"+\n",
       "       \"may be due to a slow or bad network connection. Possible fixes:\\n\"+\n",
       "       \"</p>\\n\"+\n",
       "       \"<ul>\\n\"+\n",
       "       \"<li>re-rerun `output_notebook()` to attempt to load from CDN again, or</li>\\n\"+\n",
       "       \"<li>use INLINE resources instead, as so:</li>\\n\"+\n",
       "       \"</ul>\\n\"+\n",
       "       \"<code>\\n\"+\n",
       "       \"from bokeh.resources import INLINE\\n\"+\n",
       "       \"output_notebook(resources=INLINE)\\n\"+\n",
       "       \"</code>\\n\"+\n",
       "       \"</div>\"}};\n",
       "  \n",
       "    function display_loaded() {\n",
       "      if (window.Bokeh !== undefined) {\n",
       "        document.getElementById(\"9891e091-faa0-4fe0-b649-384729f30923\").textContent = \"BokehJS successfully loaded.\";\n",
       "      } else if (Date.now() < window._bokeh_timeout) {\n",
       "        setTimeout(display_loaded, 100)\n",
       "      }\n",
       "    }\n",
       "  \n",
       "    function run_callbacks() {\n",
       "      window._bokeh_onload_callbacks.forEach(function(callback) { callback() });\n",
       "      delete window._bokeh_onload_callbacks\n",
       "      console.info(\"Bokeh: all callbacks have finished\");\n",
       "    }\n",
       "  \n",
       "    function load_libs(js_urls, callback) {\n",
       "      window._bokeh_onload_callbacks.push(callback);\n",
       "      if (window._bokeh_is_loading > 0) {\n",
       "        console.log(\"Bokeh: BokehJS is being loaded, scheduling callback at\", now());\n",
       "        return null;\n",
       "      }\n",
       "      if (js_urls == null || js_urls.length === 0) {\n",
       "        run_callbacks();\n",
       "        return null;\n",
       "      }\n",
       "      console.log(\"Bokeh: BokehJS not loaded, scheduling load and callback at\", now());\n",
       "      window._bokeh_is_loading = js_urls.length;\n",
       "      for (var i = 0; i < js_urls.length; i++) {\n",
       "        var url = js_urls[i];\n",
       "        var s = document.createElement('script');\n",
       "        s.src = url;\n",
       "        s.async = false;\n",
       "        s.onreadystatechange = s.onload = function() {\n",
       "          window._bokeh_is_loading--;\n",
       "          if (window._bokeh_is_loading === 0) {\n",
       "            console.log(\"Bokeh: all BokehJS libraries loaded\");\n",
       "            run_callbacks()\n",
       "          }\n",
       "        };\n",
       "        s.onerror = function() {\n",
       "          console.warn(\"failed to load library \" + url);\n",
       "        };\n",
       "        console.log(\"Bokeh: injecting script tag for BokehJS library: \", url);\n",
       "        document.getElementsByTagName(\"head\")[0].appendChild(s);\n",
       "      }\n",
       "    };var element = document.getElementById(\"9891e091-faa0-4fe0-b649-384729f30923\");\n",
       "    if (element == null) {\n",
       "      console.log(\"Bokeh: ERROR: autoload.js configured with elementid '9891e091-faa0-4fe0-b649-384729f30923' but no matching script tag was found. \")\n",
       "      return false;\n",
       "    }\n",
       "  \n",
       "    var js_urls = [];\n",
       "  \n",
       "    var inline_js = [\n",
       "      function(Bokeh) {\n",
       "        (function() {\n",
       "          var fn = function() {\n",
       "            var docs_json = {\"e46388d6-73f7-4ac8-a03f-73ca0e6bda5c\":{\"roots\":{\"references\":[{\"attributes\":{\"below\":[{\"id\":\"90252508-4789-4931-b44d-687902204dd6\",\"type\":\"LinearAxis\"}],\"left\":[{\"id\":\"2c6b10c3-d000-4905-9b78-7b4d6cae77cc\",\"type\":\"LinearAxis\"}],\"renderers\":[{\"id\":\"90252508-4789-4931-b44d-687902204dd6\",\"type\":\"LinearAxis\"},{\"id\":\"08ed1b13-f45f-49da-858e-85d828566854\",\"type\":\"Grid\"},{\"id\":\"2c6b10c3-d000-4905-9b78-7b4d6cae77cc\",\"type\":\"LinearAxis\"},{\"id\":\"7938a002-16e9-4472-a490-9b985e9980e9\",\"type\":\"Grid\"},{\"id\":\"38279253-e06e-40be-a7ac-03bfa11f4dd4\",\"type\":\"GlyphRenderer\"},{\"id\":\"f1885e4d-7e65-43b7-9f98-699486385c4c\",\"type\":\"LabelSet\"}],\"title\":{\"id\":\"45eff4be-4814-4096-85c1-a35db36afb34\",\"type\":\"Title\"},\"tool_events\":{\"id\":\"b07a2cb1-a5d3-4640-beb3-d0ee89b5af79\",\"type\":\"ToolEvents\"},\"toolbar\":{\"id\":\"34ea06d0-47bb-433b-9b2f-254c8e7fa3f6\",\"type\":\"Toolbar\"},\"toolbar_location\":\"above\",\"x_range\":{\"id\":\"977772c8-f448-4945-9597-45322cadabcf\",\"type\":\"DataRange1d\"},\"y_range\":{\"id\":\"11f56caa-c059-41a8-b507-11af834b37b8\",\"type\":\"DataRange1d\"}},\"id\":\"ef244780-9ff9-47bb-aee1-e691e528497f\",\"subtype\":\"Figure\",\"type\":\"Plot\"},{\"attributes\":{},\"id\":\"294fef28-25ed-46eb-a6b0-d5d8f6259bbb\",\"type\":\"BasicTickFormatter\"},{\"attributes\":{\"formatter\":{\"id\":\"4e090796-6e91-4160-871c-bc1366d3e2bd\",\"type\":\"BasicTickFormatter\"},\"plot\":{\"id\":\"ef244780-9ff9-47bb-aee1-e691e528497f\",\"subtype\":\"Figure\",\"type\":\"Plot\"},\"ticker\":{\"id\":\"d1058cb8-a766-499b-95ff-f00cfe894281\",\"type\":\"BasicTicker\"}},\"id\":\"2c6b10c3-d000-4905-9b78-7b4d6cae77cc\",\"type\":\"LinearAxis\"},{\"attributes\":{\"data_source\":{\"id\":\"f72e9d10-2006-4777-9924-1d90ce8b8fa2\",\"type\":\"ColumnDataSource\"},\"glyph\":{\"id\":\"cc687318-a01e-4403-9803-bc4d81b7cadf\",\"type\":\"Circle\"},\"hover_glyph\":null,\"nonselection_glyph\":{\"id\":\"fbdd65ac-cb07-4a2d-9215-92cf2894bd04\",\"type\":\"Circle\"},\"selection_glyph\":null},\"id\":\"38279253-e06e-40be-a7ac-03bfa11f4dd4\",\"type\":\"GlyphRenderer\"},{\"attributes\":{},\"id\":\"4e090796-6e91-4160-871c-bc1366d3e2bd\",\"type\":\"BasicTickFormatter\"},{\"attributes\":{\"plot\":{\"id\":\"ef244780-9ff9-47bb-aee1-e691e528497f\",\"subtype\":\"Figure\",\"type\":\"Plot\"}},\"id\":\"777bb35a-6c80-45c4-8d56-3f132f65ec18\",\"type\":\"PanTool\"},{\"attributes\":{\"plot\":{\"id\":\"ef244780-9ff9-47bb-aee1-e691e528497f\",\"subtype\":\"Figure\",\"type\":\"Plot\"}},\"id\":\"09ae83cd-fe71-401b-bf32-7a8a49344da6\",\"type\":\"SaveTool\"},{\"attributes\":{\"plot\":{\"id\":\"ef244780-9ff9-47bb-aee1-e691e528497f\",\"subtype\":\"Figure\",\"type\":\"Plot\"}},\"id\":\"e7187f63-d164-4c97-80b3-e47292cb0baf\",\"type\":\"ResetTool\"},{\"attributes\":{\"callback\":null},\"id\":\"11f56caa-c059-41a8-b507-11af834b37b8\",\"type\":\"DataRange1d\"},{\"attributes\":{\"callback\":null},\"id\":\"977772c8-f448-4945-9597-45322cadabcf\",\"type\":\"DataRange1d\"},{\"attributes\":{\"plot\":{\"id\":\"ef244780-9ff9-47bb-aee1-e691e528497f\",\"subtype\":\"Figure\",\"type\":\"Plot\"}},\"id\":\"2c7e2bca-2a63-47cd-865b-5850b3e7c3e0\",\"type\":\"WheelZoomTool\"},{\"attributes\":{\"formatter\":{\"id\":\"294fef28-25ed-46eb-a6b0-d5d8f6259bbb\",\"type\":\"BasicTickFormatter\"},\"plot\":{\"id\":\"ef244780-9ff9-47bb-aee1-e691e528497f\",\"subtype\":\"Figure\",\"type\":\"Plot\"},\"ticker\":{\"id\":\"f9d97974-fbf1-4e0c-ae2e-a329069ee47b\",\"type\":\"BasicTicker\"}},\"id\":\"90252508-4789-4931-b44d-687902204dd6\",\"type\":\"LinearAxis\"},{\"attributes\":{\"dimension\":1,\"plot\":{\"id\":\"ef244780-9ff9-47bb-aee1-e691e528497f\",\"subtype\":\"Figure\",\"type\":\"Plot\"},\"ticker\":{\"id\":\"d1058cb8-a766-499b-95ff-f00cfe894281\",\"type\":\"BasicTicker\"}},\"id\":\"7938a002-16e9-4472-a490-9b985e9980e9\",\"type\":\"Grid\"},{\"attributes\":{},\"id\":\"d1058cb8-a766-499b-95ff-f00cfe894281\",\"type\":\"BasicTicker\"},{\"attributes\":{},\"id\":\"b07a2cb1-a5d3-4640-beb3-d0ee89b5af79\",\"type\":\"ToolEvents\"},{\"attributes\":{},\"id\":\"f9d97974-fbf1-4e0c-ae2e-a329069ee47b\",\"type\":\"BasicTicker\"},{\"attributes\":{\"fill_alpha\":{\"value\":0.1},\"fill_color\":{\"value\":\"#1f77b4\"},\"line_alpha\":{\"value\":0.1},\"line_color\":{\"value\":\"#1f77b4\"},\"size\":{\"units\":\"screen\",\"value\":8},\"x\":{\"field\":\"x1\"},\"y\":{\"field\":\"x2\"}},\"id\":\"fbdd65ac-cb07-4a2d-9215-92cf2894bd04\",\"type\":\"Circle\"},{\"attributes\":{\"plot\":{\"id\":\"ef244780-9ff9-47bb-aee1-e691e528497f\",\"subtype\":\"Figure\",\"type\":\"Plot\"},\"source\":{\"id\":\"f72e9d10-2006-4777-9924-1d90ce8b8fa2\",\"type\":\"ColumnDataSource\"},\"text\":{\"field\":\"names\"},\"text_align\":\"center\",\"text_color\":{\"value\":\"#555555\"},\"text_font_size\":{\"value\":\"8pt\"},\"x\":{\"field\":\"x1\"},\"y\":{\"field\":\"x2\"},\"y_offset\":{\"value\":6}},\"id\":\"f1885e4d-7e65-43b7-9f98-699486385c4c\",\"type\":\"LabelSet\"},{\"attributes\":{\"active_drag\":\"auto\",\"active_scroll\":\"auto\",\"active_tap\":\"auto\",\"tools\":[{\"id\":\"777bb35a-6c80-45c4-8d56-3f132f65ec18\",\"type\":\"PanTool\"},{\"id\":\"2c7e2bca-2a63-47cd-865b-5850b3e7c3e0\",\"type\":\"WheelZoomTool\"},{\"id\":\"e7187f63-d164-4c97-80b3-e47292cb0baf\",\"type\":\"ResetTool\"},{\"id\":\"09ae83cd-fe71-401b-bf32-7a8a49344da6\",\"type\":\"SaveTool\"}]},\"id\":\"34ea06d0-47bb-433b-9b2f-254c8e7fa3f6\",\"type\":\"Toolbar\"},{\"attributes\":{\"plot\":{\"id\":\"ef244780-9ff9-47bb-aee1-e691e528497f\",\"subtype\":\"Figure\",\"type\":\"Plot\"},\"ticker\":{\"id\":\"f9d97974-fbf1-4e0c-ae2e-a329069ee47b\",\"type\":\"BasicTicker\"}},\"id\":\"08ed1b13-f45f-49da-858e-85d828566854\",\"type\":\"Grid\"},{\"attributes\":{\"plot\":null,\"text\":\"word2vec T-SNE for most common words\"},\"id\":\"45eff4be-4814-4096-85c1-a35db36afb34\",\"type\":\"Title\"},{\"attributes\":{\"fill_color\":{\"value\":\"#1f77b4\"},\"line_color\":{\"value\":\"#1f77b4\"},\"size\":{\"units\":\"screen\",\"value\":8},\"x\":{\"field\":\"x1\"},\"y\":{\"field\":\"x2\"}},\"id\":\"cc687318-a01e-4403-9803-bc4d81b7cadf\",\"type\":\"Circle\"},{\"attributes\":{\"callback\":null,\"column_names\":[\"names\",\"x2\",\"x1\"],\"data\":{\"names\":[\"the\",\"and\",\"to\",\"of\",\"a\",\"that\",\"i\",\"in\",\"it\",\"you\",\"we\",\"is\",\"s\",\"this\",\"so\",\"they\",\"was\",\"for\",\"are\",\"have\",\"but\",\"what\",\"on\",\"with\",\"can\",\"t\",\"about\",\"there\",\"be\",\"as\",\"at\",\"all\",\"not\",\"do\",\"my\",\"one\",\"re\",\"people\",\"like\",\"if\",\"from\",\"now\",\"our\",\"he\",\"an\",\"just\",\"these\",\"or\",\"when\",\"because\",\"very\",\"me\",\"out\",\"by\",\"them\",\"how\",\"know\",\"up\",\"going\",\"had\",\"more\",\"think\",\"who\",\"were\",\"see\",\"your\",\"their\",\"which\",\"would\",\"here\",\"really\",\"get\",\"ve\",\"then\",\"m\",\"world\",\"us\",\"time\",\"some\",\"has\",\"don\",\"actually\",\"into\",\"way\",\"where\",\"will\",\"years\",\"things\",\"other\",\"no\",\"could\",\"go\",\"well\",\"want\",\"been\",\"make\",\"right\",\"she\",\"said\",\"something\",\"those\",\"first\",\"two\",\"than\",\"much\",\"also\",\"look\",\"new\",\"thing\",\"little\",\"got\",\"back\",\"over\",\"most\",\"say\",\"even\",\"his\",\"life\",\"only\",\"work\",\"many\",\"take\",\"need\",\"did\",\"lot\",\"kind\",\"why\",\"good\",\"around\",\"every\",\"different\",\"down\",\"ll\",\"let\",\"her\",\"through\",\"same\",\"being\",\"come\",\"d\",\"day\",\"year\",\"three\",\"use\",\"doing\",\"put\",\"called\",\"any\",\"today\",\"percent\",\"made\",\"after\",\"thank\",\"tell\",\"great\",\"human\",\"find\",\"didn\",\"fact\",\"talk\",\"change\",\"started\",\"another\",\"idea\",\"big\",\"last\",\"own\",\"before\",\"its\",\"never\",\"should\",\"better\",\"give\",\"thought\",\"went\",\"might\",\"important\",\"000\",\"again\",\"together\",\"able\",\"still\",\"problem\",\"off\",\"next\",\"part\",\"course\",\"system\",\"him\",\"does\",\"each\",\"start\",\"show\",\"long\",\"ago\",\"story\",\"came\",\"brain\",\"few\",\"bit\",\"between\",\"used\",\"place\",\"technology\",\"women\",\"too\",\"old\",\"mean\",\"data\",\"water\",\"looking\",\"question\",\"maybe\",\"found\",\"love\",\"doesn\",\"end\",\"example\",\"10\",\"done\",\"point\",\"four\",\"real\",\"wanted\",\"ever\",\"understand\",\"school\",\"sort\",\"live\",\"call\",\"whole\",\"always\",\"children\",\"trying\",\"may\",\"person\",\"away\",\"believe\",\"feel\",\"try\",\"million\",\"working\",\"help\",\"everything\",\"five\",\"country\",\"thinking\",\"second\",\"using\",\"information\",\"money\",\"means\",\"power\",\"took\",\"times\",\"high\",\"space\",\"number\",\"kids\",\"home\",\"become\",\"create\",\"small\",\"design\",\"making\",\"best\",\"left\",\"getting\",\"future\",\"enough\",\"man\",\"quite\",\"city\",\"without\",\"sense\",\"happened\",\"comes\",\"social\",\"probably\",\"less\",\"light\",\"energy\",\"talking\",\"am\",\"building\",\"science\",\"food\",\"body\",\"told\",\"interesting\",\"half\",\"ask\",\"pretty\",\"hard\",\"play\",\"anything\",\"lives\",\"countries\",\"such\",\"coming\",\"family\",\"stuff\",\"dollars\",\"earth\",\"moment\",\"20\",\"imagine\",\"across\",\"side\",\"saw\",\"while\",\"happen\",\"okay\",\"once\",\"build\",\"having\",\"men\",\"later\",\"experience\",\"asked\",\"makes\",\"living\",\"says\",\"seen\",\"room\",\"hand\",\"simple\",\"health\",\"ways\",\"else\",\"case\",\"yet\",\"almost\",\"young\",\"days\",\"nothing\",\"bad\",\"care\",\"happens\",\"goes\",\"move\",\"states\",\"reason\",\"computer\",\"open\",\"africa\",\"learn\",\"process\",\"inside\",\"someone\",\"six\",\"far\",\"project\",\"mind\",\"remember\",\"single\",\"picture\",\"both\",\"whether\",\"problems\",\"saying\",\"basically\",\"community\",\"already\",\"within\",\"looked\",\"myself\",\"billion\",\"often\",\"possible\",\"business\",\"planet\",\"global\",\"everybody\",\"top\",\"public\",\"sure\",\"set\",\"wrong\",\"book\",\"car\",\"keep\",\"yes\",\"answer\",\"oh\",\"sometimes\",\"hope\",\"true\",\"history\",\"war\",\"child\",\"guy\",\"instead\",\"months\",\"ideas\",\"looks\",\"matter\",\"government\",\"amazing\",\"united\",\"since\",\"cells\",\"bring\",\"age\",\"job\",\"heard\",\"until\",\"face\",\"wasn\",\"100\",\"read\",\"control\",\"isn\",\"research\",\"30\",\"words\",\"u\",\"group\",\"under\",\"self\",\"somebody\",\"built\",\"state\",\"woman\",\"turn\",\"beautiful\",\"friends\",\"line\",\"knew\",\"couple\",\"order\",\"form\",\"yeah\",\"internet\",\"middle\",\"music\",\"piece\",\"nature\",\"head\",\"though\",\"stop\",\"everyone\",\"50\",\"places\",\"video\",\"learned\",\"language\",\"run\",\"night\",\"decided\",\"study\",\"word\",\"cancer\",\"works\",\"taking\",\"became\",\"exactly\",\"species\",\"society\",\"completely\",\"education\",\"against\",\"stories\",\"large\",\"share\",\"level\",\"heart\",\"america\",\"model\",\"gets\",\"questions\",\"mother\",\"god\",\"company\",\"turns\",\"ourselves\",\"happening\",\"hear\",\"art\",\"themselves\",\"must\",\"itself\",\"rather\",\"kinds\",\"students\",\"name\",\"hours\",\"disease\",\"front\",\"house\",\"couldn\",\"huge\",\"created\",\"universe\",\"ok\",\"animals\",\"american\",\"environment\",\"worked\",\"minutes\",\"ones\",\"black\",\"1\",\"perhaps\",\"past\",\"third\",\"along\",\"others\",\"finally\",\"sound\",\"early\",\"game\",\"thousands\",\"century\",\"least\",\"based\",\"per\",\"ted\",\"lots\",\"figure\",\"free\",\"guys\",\"particular\",\"happy\",\"news\",\"learning\",\"entire\",\"won\",\"gave\",\"india\",\"machine\",\"during\",\"systems\",\"air\",\"difference\",\"outside\",\"taken\",\"natural\",\"seven\",\"changed\",\"given\",\"leave\",\"cell\",\"15\",\"close\",\"behind\",\"cities\",\"full\",\"scale\",\"difficult\",\"china\",\"takes\",\"companies\",\"yourself\",\"area\",\"reality\",\"seeing\",\"easy\",\"turned\",\"cost\",\"eyes\",\"team\",\"moving\",\"population\",\"culture\",\"york\",\"hands\",\"began\",\"whatever\",\"terms\",\"needs\",\"image\",\"simply\",\"needed\",\"beginning\",\"father\",\"local\",\"realized\",\"media\",\"death\",\"parents\",\"walk\",\"view\",\"white\",\"market\",\"parts\",\"ocean\",\"economic\",\"eight\",\"powerful\",\"week\",\"known\",\"size\",\"felt\",\"humans\",\"certain\",\"spend\",\"longer\",\"phone\",\"wonderful\",\"cannot\",\"grow\",\"common\",\"center\",\"tried\",\"fish\",\"land\",\"oil\",\"deal\",\"political\",\"interested\",\"red\",\"gone\",\"amount\",\"weeks\",\"opportunity\",\"spent\",\"paper\",\"lost\",\"national\",\"quickly\",\"blue\",\"step\",\"poor\",\"green\",\"buy\",\"growth\",\"wouldn\",\"either\",\"patients\",\"sitting\",\"ability\",\"changes\",\"write\",\"challenge\",\"south\",\"low\",\"friend\",\"growing\",\"field\",\"2\",\"shows\",\"rest\",\"born\",\"climate\",\"40\",\"test\",\"street\",\"surface\",\"incredible\",\"average\",\"scientists\",\"pay\",\"value\",\"program\",\"morning\",\"physical\",\"girl\",\"behavior\",\"hundreds\",\"feeling\",\"met\",\"economy\",\"dna\",\"complex\",\"access\",\"risk\",\"animal\",\"structure\",\"feet\",\"attention\",\"areas\",\"anyone\",\"deep\",\"watch\",\"short\",\"absolutely\",\"brought\",\"speak\",\"die\",\"bottom\",\"audience\",\"numbers\",\"stage\",\"realize\",\"law\",\"images\",\"wrote\",\"understanding\",\"knowledge\",\"books\",\"literally\",\"movement\",\"giving\",\"ground\",\"eat\",\"force\",\"seems\",\"alone\",\"telling\",\"hold\",\"starting\",\"nice\",\"sea\",\"forward\",\"developed\",\"individual\",\"kid\",\"millions\",\"support\",\"running\",\"miles\",\"tools\",\"online\",\"result\",\"medical\",\"act\",\"technologies\",\"north\",\"lab\",\"development\",\"blood\",\"fear\",\"map\",\"nobody\",\"personal\",\"issue\",\"voice\",\"key\",\"material\",\"recently\",\"12\",\"theory\",\"cut\",\"cars\",\"fast\",\"sun\",\"changing\",\"playing\",\"clear\",\"especially\",\"girls\",\"soon\",\"patient\",\"fly\",\"choice\",\"creating\",\"relationship\",\"talked\",\"normal\",\"discovered\",\"europe\",\"gives\",\"generation\",\"dark\",\"type\",\"showed\",\"seem\",\"asking\",\"chance\",\"industry\",\"rate\",\"issues\",\"color\",\"fun\",\"hour\",\"designed\",\"computers\",\"several\",\"university\",\"class\",\"innovation\",\"tiny\",\"english\",\"allow\",\"focus\",\"save\",\"developing\",\"solve\",\"digital\",\"network\",\"film\",\"special\",\"wall\",\"situation\",\"baby\",\"solution\",\"knows\",\"reasons\",\"box\",\"stand\",\"meet\",\"dead\",\"begin\",\"anybody\",\"haven\",\"impact\",\"term\",\"pictures\",\"beyond\",\"please\",\"produce\",\"ice\",\"shape\",\"non\",\"cool\",\"robot\",\"resources\",\"likely\",\"stay\",\"groups\",\"available\",\"rights\",\"major\",\"truth\",\"cause\",\"experiment\",\"obviously\",\"evidence\",\"writing\",\"modern\",\"drug\",\"becomes\",\"incredibly\",\"bigger\",\"aren\",\"guess\",\"drugs\",\"nine\",\"product\",\"lived\",\"involved\",\"google\",\"month\",\"perfect\",\"putting\",\"similar\",\"effect\",\"pick\",\"eye\",\"message\",\"web\",\"quality\",\"violence\",\"office\",\"evolution\",\"security\",\"solar\",\"indeed\",\"general\",\"basic\",\"towards\",\"drive\",\"present\",\"listen\",\"worth\",\"send\",\"revolution\",\"explain\",\"hundred\",\"certainly\",\"died\",\"teach\",\"ready\",\"journey\",\"25\",\"hit\",\"walking\",\"led\",\"international\",\"approach\",\"200\",\"games\",\"scientific\",\"communities\",\"potential\",\"chinese\",\"60\",\"crazy\",\"device\",\"camera\",\"source\",\"rules\",\"sex\",\"carbon\",\"sounds\",\"boy\",\"reach\",\"starts\",\"examples\",\"west\",\"3\",\"measure\",\"particularly\",\"success\",\"software\",\"totally\",\"suddenly\",\"action\",\"college\",\"higher\",\"code\",\"eventually\",\"democracy\",\"among\",\"minute\",\"sit\",\"largest\",\"hospital\",\"showing\",\"period\",\"notice\",\"mass\",\"develop\",\"dream\",\"onto\",\"add\",\"memory\",\"break\",\"plants\",\"favorite\",\"everywhere\",\"zero\",\"11\",\"moved\",\"speed\",\"schools\",\"response\",\"wants\",\"table\",\"wait\",\"individuals\",\"extremely\",\"movie\",\"trust\",\"follow\",\"medicine\",\"anyway\",\"plant\",\"biggest\",\"organization\",\"watching\",\"creative\",\"road\",\"worse\",\"choose\",\"500\",\"lead\",\"results\",\"exciting\",\"materials\",\"grew\",\"jobs\",\"poverty\",\"positive\",\"east\",\"plan\",\"strong\",\"fall\",\"safe\",\"essentially\",\"door\",\"object\",\"vision\",\"further\",\"continue\",\"happiness\",\"son\",\"student\",\"doctor\",\"named\",\"role\",\"objects\",\"including\",\"extraordinary\",\"standing\",\"leaders\",\"conversation\",\"projects\",\"skin\",\"african\",\"usually\",\"allowed\",\"models\",\"supposed\",\"faster\",\"interest\",\"families\",\"police\",\"fight\",\"connected\",\"tree\",\"cases\",\"5\",\"screen\",\"goal\",\"somewhere\",\"buildings\",\"shown\",\"finding\"],\"x1\":{\"__ndarray__\":\"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\",\"dtype\":\"float64\",\"shape\":[1000]},\"x2\":{\"__ndarray__\":\"v3CPPnJbFUDrhU5tc/n+P/GlRF7sahlAI7NATkFIF8CoNFOJ25gzQGjN0F8cTDFAUYXIMbE787+fwRDBqK8pwOKkAAjtwDBApW+4GCdIG0AzJJTeshUbQLbTZRMw7xTAIb8mwMbtE8Aj+I3Qz2wxQJg/aId2GA5A4OsqPykGG0DD2/ZtutQhwNHxEj+2gyTAAm/5xR94MkCATfqXLB4xQG08J4R7GA9AeBpJqWhnFEDHRX3bZ/oOQO6i2BNiQgNAdtyGepWDLMBPKjHYuub0vyGquv0V1QbAXZmAUJguB8ButrAU0YgwQEdLUA1OHw9AknUhfnw9MMBGpYWuW1n1PxQ7DP2gpP4/3UChBwppMECg7nNBi9ADwL3JyyFuuzNA4mcLM+BIMkBOMMBNg5QgQGpxrgQogRHAs+tbIXAp8L+G/7j2QJwvwOjAFbxTwSXAqetsrx2VG0BSz0cHE9MNwDpUKfwSxTNA7iYKt3QREECtutad/NIyQPn+HbpcLADAW+9e2aQa6L9SvOv/xqIOQMANVY5KCiZAIVWClVJYAcA/+z36gfLtPxZ5gI/ZviHAgAtMjsdoIEACd3yXgBENQLfTw/3suilAJ5uO0G+j6r+plMbaFrsmwOWFpd9nxiLAqDoEyggFM8D8oTMb7GspQG5+Ye1GcTZAiVj3QRyFMkAj6d2l3sgpQLnfdVmXLh1AfHbtFDfiHUC8GdAPV5gxQCgVZer4hS3AdX+DrSHGJcDIK7N6HBglQPlGWdOPdSxAPUYAIEJbJ0CQT6P3eUTxP+Xa9c7hJCbAd38HayicLsDE9m05IcQfQGMk8GGBhSBAUjuCN+hNNcCOIyzCZPUgwIHBif0iIwVA3Bg2dPNoD0AaRlt17cIrwKjpDUnMJydATfScTX7F/z/2fi2w+98twKYR3sGDri9AErXOy62sJ0AoZ0djkl0dQM4Jio9FG/o/NHoCextFLcD4BMO8qaspQNDfMoe9/ae/df75ErR+J8DeXhAhTuoawGSl1+b1eDNAlWS0V76ZB0Am1B/wEjANwDRGZrPq2MC/SbhXUnZaEEDtQYrUytMyQKeY09LHWyvAlG1SumofOcAO4krL+OL9vy33E8o4yfO/Rj7iijH5D0AfO/HG1q0FwHTYZT0xMDBArSU1sws5IkCuca0Vak0cQAZQ14/SrCTAhm7me3gk7D/a9Ae3WNYpwEiYtunwZx3AGsyWKyf04D9WAStJKfX2v2fmRiSFGwTAFfAp58C3GEDWmFJDO5zoP4PVRN1g4jFAhrCFej42NsD4dxhkPwUvQOiU/u4RhifAjRCk+HuaJcCMQCBZSvA1wLo3vgovrjNAQ8cS4ANEBUBcrjUSNQ0kwJuMhw1JXyrArqqn7mmZK0BsCF1pmAsYwEr9T5Yhk/I/YrWa8YaULcAVGHFCOwULQJNGIBTe4gfA/CC/OnjHK8Crq1Lhro39PzzFGivvA+s/GQxHbG1BKUDmBIRxm1gtwDsFythPLv8/ErCLjTEIMEB2ChTBRQQ5wCjAxVxoCTNAulwU+J9MEMA+xhlPW2wtQJ9ioicORBzA9YXS7+zdD0A47WRO5A0JwDqref5w1zLAUcBSHlswIMBQRSrBhY8pwPRaUizs+RBAlg+j2N+bLED1Cn/gUoQWwM8NANNljQlAxweDyFxSMkDKA5iUGmcEQGHJuBh81RhAIqi6oCyRLUCGoFDhE4EyQFXjcSy/6xjAlqciTVdyM0AcG+5khicbQGz8G7BMIBbAC2mrcxEVLMCrwY3A2qkJwAHYUXXR7/K/hsk+NmVO778D0YmJGxY2QApa0L1fLS/AXvSgRdURMsAtdp9U+kQwQM4CoPco9yTAKvW4gCZaFsBjNWKB8G4vwFQB+A5zvRnAmdE0zJAQNMBxzmXns0ntP+MuROnn/xxA4LrKeTOLJsDN0W0eLaPtP1v/QmBf1xhARiKnQZw59T8z/ZZCj/UrwMVLW2LQnxNAE1WYP0aCEEA68NKGyf8nQIZwJZw78QDA02NBjlzrHMAykmvQVZojQHVMCApOlShAH6ZtEVk3LEBLdwdIVvQhwOM3AYNNLSzA3bBe9Ov4MUAA/hrQvmkWwF1x7RiGdCRAixlR6jqlN8CMzOnpzi8mQP4qFWMlyB3AS7NYS1snFsAI5fZ5hjkVQDs8IvS8sS1AHcQsVv/RIEDUC+OtV2slQJ+8ChQ0py7A4q6XCKhzJ0DKL7loczwxQG9b094l7x9Aio+uCzbdBMAF1G7WxnUgQM/9AzhDG/O/JjeyegtNIsAliiLKHJgVQB96ymY7rwRAm0PnYhlQGkBz9jL6Q7AqQPwRokKW/jbAIYjOWFNdIMA03ymZMMEgQPOOU6t/yzjAuaoQX+zr+L8Mll8nVoImwIWaHav7FjZA3HXMrOxJL0CAIbtYS+DWPxi7sAQirjNAJaF/HF1UJMAVtMlGmc0mQC10fhhKJR3A9u4+E94oA0CbxJnj2+U3QKXtBIYtayfA41TEbu+aL8CXZBuVsEMUwG0J/oMPh/k/hlRWWpm+KEC+z+c7eH4rQPQ5sRHDoy5ALK+9GSUBNMA42W/wILUTwIWmWRQqeRdAH57CWTc7C0CpGXflCi04wORlXsDcCy/AeGoek6LfKkAjeXR1+1czQFanUO4+fBdA3ftdN0M/MUBuZfdNRNkYQAXgNB27bRTACOUdjCXV9j9xML0UYBwcwEbYClUAaitAaTdUXhDCI8BtwNMeFzQwQM8nfG1WvjDAY5eeA9TSN0DCJil/ADf+PxUTxpVG8jBAUCORljAQM0CecYW6nEoVQGnF9EVpsSxA/ZvSs7zuIMA6H/v3ejkUwLTS/TxhXRRAw0UyYHvjIcCxlNCWrqYFQG7a9gUf/CRAUFQ00sOaGcC0Sl4UtRglQFFeVKiI0S3AB1QXTDauAkAvag3Qrh0AQFTxsLUb5yLA8qE4iE10HcDGF5Cq9/Plv7Bpt5z/Gum/x5XdTrnjMsDWixPYKpghQGwbaShxNiJAQZu8L3zkKkB/kmNmKyQmwI1G5g0bYTBAm7+1C9G3I8D0+eNQHWYgQKO0x5D1DSRAaFMPBlptAsDbfGuaK7MawN6nLXYGqjfA9v/pyPVJLUCblTAdioglQJFXrLNZKjVAaStY4FVRK0DlJsbV1kkNQKySw5GqtB9ARjFNZ2UTKsDJiziaooIQQKmgFrQU//c/C0qcHEgDN0DRE97tNBMoQNZZYR4kczTAnD9k5tHy/r+JOeKl4bQgQPRGXrtsqDbAdX6Mg4wyKUDTiqYhMssqwKUff9/GEBVA7GGTw9PwG8DEzd+ouU/0Py3exnIiBTBA5Gnlm/Pw0T/h5XldrOzOP2WYVEeb+jJAk/prlJRQAMC5cm5fyd8gQIhpf1I+4SvAihe4pIc/EUCz/PmyAHACwB+XUMYrvx3AaLkDSvRJ8b9575Wz45zBP5FyPNB0DyDAC5kkNnqHBUD0ptMiltIUQF9HgjmsWRLA53wLSibSAcDp7u76D10pQH4vVrjopdW/kBFx+ajMF0BEFhmrNRzsP/YJHM6DTgFAvRhBX6W2NkDsrFvZLC4uQPiweXUYSgxA0TzoP1INJMAGbBl1R6X4vwU3N9KQ8xXA8nm77coNHcDYQLa3JJYqQBSUfS+9hTDA2XfRIDF9IUCBGGKdBAgoQCuc07+HiTJAOAvRjEAGMMC/uWjAxhIwQDMNi5GmQy5Almm6x6PeDkBtfcsiLEfxP8F4gQF3IDjAUYZYg1gH4r9VX3pi2LgvQB6JdUwJHS1AL/g3oa6JKED8wgTrjWYsQGno2JqZOClADCAE3mM8vD9X/xcIn5YkwBxjoVLHtSVAcF52c5rt8b9HQcSkchwLQOVYUrnwwd4/OdgzMdkh0D/g5WBtVlsnwK0OoOUL7grAbMoB1WCO/L+jf2w1V/kzwIu83qaNOsm/oMzmDsFEB0D9bw61vSz0v8hKwvoOJf+/aDmTAnHIyr9zeI474LL+PywGmPNePhlAc33MQWB6AMB0mF4EqpwCwIySLpfnMDFAiK8looCsD8CvXU0LxRUjQMDn77Y4VQpAJKv5vOjJKECeNjHH5sTpP9y+TGGaKR9APLrINbKI5D/Pb9s/AIHKvxqxsOo5WhRAFLmh3lIkBEDKBhdp4T0JQMm/1BAHChLAJYDd+DHSE8C6pCkK7cMawA6HrgFGpRFAlFHj8i92LkBRawG04FkpQCftLFDcFxDAYESkCW202b++GsaRQG4GwDTyaXPfThzAEHnzt45oMcCn81TGEdcnwBx0Nl7IpCZAS7JDktuVLUCmY68HibIWQLgl45pA8htAACWNuVdSIcB3TacRUQPxvyBWNHEzuCJA7VuS4c3b5z+Mg7S0qAA2wBx7yFJEXDBAQtsybJY5M0BqJlcmNsntPz4Xe4ZUsDBAymls5KWwNsD23NEskWgkQBZQZKAo5jDAh3ktLkQVL0CCfbH2sO4QQAsaLpuvqdQ/5QKpPC4K8j98p/gHz8EawGLi7vGxrAjAVq6RfqqcF8DBN9+MNgcrQPvd9LAkmRTAJ1n990ZlN0DtlSYb4+8ZQG/KN2EMtyTAOtaRa9mlN8Cy/2qiPQ8hQMLjkJri8S5AeJB+RDck9j+zdgBYPUQuQCY8EPHF2THAZ7grlqISIkDdLDoCjoEmQCzJJeb4AgtAR+eicYFwEUDCxMB2mFXbv6wrXcR9zihAOac0TKxn/j+nPq6daVI2wGM15H7QXCZAyqdacyGJJUDKrG4sVx4iwGgTMz179RpAymE/4zOWKkBMyhQZEisEQBz6FhLWRibAzbS/I7xmMEAbirgW5f4gQBl0h5qiBDVAQjhGeiolEsDcFhhuu/ggwJ7CAY93RyHAXz6X1EDwBkAQSfzcbb8pQDWy852LkPA/ch32+LxAAkCGQNzyIC7/v3ewDzHzoyDAY4FeVTd/MUD4vLd2bkkVQFpqnon05SpAPpnr5IJSHUBBPlRqf/chQCnywcm3EDDAYp/58gl5LEBzBdpn+YUbwOCpFhxMByJApIDCHWcuEMDXNG2xxvAQQI6XGAqAQS9AY+vq1w3g8L8jq7e2npMgQP51HyZv0xDAn17/S104L0AkP6fNFrgjwBbuUxmlvyBAjqVuqlmPL8AOSUM3LHfrv1nG7ccEQDLAXDb+XtdjK0Ba9daOk2I3QMzYKucvLCBAHFxexPS9LUCcTUzlNwU1QLSmkBxkzhBAVHYTDyEBBUBbC6AzfqIBQBjJUSg8VRVAIckAHwAaHMDoiW7NESgQQKJzVelRrgJAscrP6ReAKEB8v4LQdsUVwPQRwDEu8CZAARRcFeKVGMDzR+qtzR0uQFxMnxeF5SNACvcPVwUBFkDSOZmtWlg1wJ3NsYwltPG/5rK2n4SCLMAftg97XVEzQMtNUntxxirAmmdR3UxUIUDaGuM5TI0EQIEMdqn9vBhAqRs5oCsYB8D6hjXXwGslQNN4zT8qNDbAslPS5Jhf/L88pPOMDmQaQLQmxgWYOxxAPgWYdgCINMDjguicKKciQHwyg0tkuDXAQ9whJkVcMkAc1Num3TUEQOZY+rh5AiNACvZxZDEVFcCIjzuO49Hzv3KI0mo9hMW/xTRQbvp1EkDjF1olNEYawC6pUSoDYwFACNHYDLxfHMB+bwZgCAYwwAYbczEW1SdAJeQLGQC1KMD8vhrgr3kqQKxyVoFHFSBArD3RlP44DUBwgElIXskOQAImyiQI1xnAC017vT/KCMDxXf2Jmq43wOwO/Ng55CLAMtqi/SpOGcAt1gVmMB8rQHGNDDdj4yZA/WjOTfcgN8ARgIgmbuuuv4sjlwOc9xBAZ+V4L5nEJUDZ/WaYd74FQCxWOPPG3x9AmV2OJgUlNUAGNdhYRQMwwH5JCobiqBzAX7kzUngBJUBWY7jgKhseQJXK4TRFpC5AaA3eJAduC0Cn/XGv7r8NwIAArXziJjVAQJwollTd8L9vr/ogYGIaQA9NG96ohBRAOrdGLhw9L0A+/9uozfj3Pz2LJIiQ5ibAnv9PzXaFAED1eeuGhoHiP+aytpJVhBRAiXKWhxJjGcBt2l+2E34kwO3H/uJco+0/taKW+IHqIcBsl6Y4WJ8pQEFBvzYVoOI/PF/PoU2XJcC4s8ON4aEQwMtdUXwVQhHAQBImjZTcAsDBT8MecUckwMqpXT8ovAHA2Vv28cmRFsBXJkV7GWo3QPINeaOWJSlACE1IN1jLKkCg51p1VAAWQJs6ej0+lfK/T1slae50J0CT8DNvmGMgQOUs9jmEat4/CXkY1+6VN8B9+V/ALLoSwFm9KLXYFC9AEgT/61kMEkBeDyYvJ68cQIYdIhZDFSXAK2QCi5dHKUAZC4Nuc94WwFTGa1RTHiZAhJ1w03ZC0j99GnKWlt4mQOWCcqJGuxXArDMX96fNL8D+1XcB4vktQEQiGKUhqBLApQp5wl5C8j9cW1jU6gMmwLcb1I0WMSFAxBHwhv3nIEDFqzdpaX0hQKHIGbr23RlAnh0XUas08L8MbzQ9YoAdwD11e8eoWRhA7jmslW/YGcAZRAMjxbAwQDcz9jDpMS5AeTeAuNJ7HUB4fU09mDkcwMDHXQwo9iVAGup0HXuZH8C2GArZIWoHwHeYZCGvhuK/POjJaIxvGEA3skIQCVIqQLxHLOllZtO/bzhl8UHPGEC/Zf5cTLwvQMeIiO+XoeE/HCvBkEAhAUD71UrwWnUkwFwfeAUBYCJAszM97lPcB0ARvAiac6sgQGpm7l4E+AHAs6Dqz8RlMEAOS52euTkWQJwGsFvUCjHA3ryPwzTDI8Axgf/llYcSwMLdIU8VmBHAsFP2rfcIMEBu0KDHR5I1wPGVyRTfEBDAvrnllzAqDED/OWlxk7wIwB6G3a+aRe4/b2VVzBxsNsBPaDSLVvgvQM+rLnP/1BRAyPf6ZMhAIEC+LPKik2obwD5eT7ZyYjPA2dgJLfAKIkDsqxBtZ2kwQMXtWIL2CP0/O9nzDgihL0DcznMJMRwFQCRxGvRPmwzA1LtPt2/HGMBEqTEK6EwIQJyzmDj3MDbABaSGd+N9EkBiazEY67AdwCTugDh9Vbw/vN8aqMQzLEAGPCW5Z8YRwAs02ps/mBVA+I4uuMaUGkClv2Tw9wAtQJ7hp1kKyi1AcxKs5PzpKkANf02InDMAQCUHkzu48CZAx3Eml03J9z8POvj41XMgQGRDYJIyTCpAS/FZ9aLaIcD3WYdlGJ34P+7LUkwcjRfA39adhaMwLUDwa436fuorQD9d0NJruBlAztxB/O/NIUDAhYXti2IlQGdYgTZlzw1A5g2DxGs2KUDeSZapT+gKwO+UjoeDkiZATWD8ml3xHsDOEoipGoMDQPfLnD4y+vo/brgXW68jJEAuL7+dMoz8P9H6FucCfti/frwZggmuIMDAgbfvXsEaQBHjYkybtC5AJf2CcDBn4L8zpR55gf4TQCKLnph/HO4/d1UXvWdmAcD7AkNhKKAsQDaUmKLkTxHAqmZT/OdYEcBwmtwmPhYgQHBrzudOzzDA9PANqTJQGsDTxZbOq1ItQG6+VtmWQhTAdPwwB/cxNsA3/PnXYD0WQODAOeX5F8Y/uCDJz5/fKkAFaRzBNDUqQGpm4+VujSVAvZJTAjNEEUDl7JCWDRsHwBCEne+OV9c/+fGtYUeHKkAiI47QCBMxwHo4Zb7VHzFADcYzN+VNpD9BDiE55zgiQJoCQ4QG/vg/01UWoaSfLkCiaGZYFTIAQJR4/FAKRQzAtBM7g5BiFkBF1K7C8VsgQGrDXxqM4BLA5rzYhFhzLUBsoSeAN8kEwOYkaZz4KDfANrxaXzyTDUBG2mghujgqQLj5RGpAOyZA6XBzmnOZ2b9j1nbaeIkgQCoTgLS6mQTA87VFC9QF/r/+/eYFf18PwKLq2j8epeC/2NL0KAxEN0B8srb9Efnhv0JDEG4zGRHATXb3gNavKUBXI9/HYRUAQBXezarOfgHAsbB6j0y+DEDWsYl1gWAhwLBYLb/mQfQ/ykHsuIz/IcBwFz2t3UowwI3NgwDepB3AqUJ5ZlXtJEBTa9d6EmMgQP8FOZCxYCpAt70/TfGHGsBEtlSXl7cUQKMESQjlswDA17jMmES+HUAAli86Dd7zv//iEZZnehpA2kz57KGkJUBP/JMFi18hQNErhArlJgnAsWyVUvxWLUBhD4ekvrcZwLdY5zh21ihAUEa3i+DzN8CH3WdC6MrRP4tFOAsal8m/04bfvjukzT+JJea3yUkbQPPKjrgmxxpAtlYbIZ/KMUAfsqFiDk8cQHeYNnmWJjBAfVXMinVsEMCzz2AH26MxQL6DxYGGMyxAD1icHSQxLkCviPl07t8iQOMNe8xjQBzA4JgniDDeFEAibAeTwVsTQLQ+sSxqrxTA8ts9mFG2FkC26ChKv18gwBuaxEfMwyFA7IKs3hHRGkD0cG3aH1IpQNWA/mMD3itAgIgzxkv2EECtgZdo6xYuQHegCN2gp/g/qq0tG3C48T+Xlwy018YRQNCFz+dBjPo/gMjGINaCI0CduNuoKQIxwD4zAdzMxAxACCS/CfiHMkC/pEM9Ux0gQJr3NXCk2y1AtvYkpA7C+7+ac6gva2cRwE8zIjr6qidAT22V28AUJ0DnDoQifhL2v2ywGummOSpAwBhmZ4DvI0DVycLKXi8LQGlsSNWhsxDA5tI2zspaFMDkjY19m4X7P7ivb/3ozo8/bb+A1e5wL0COquBtoGUAQIeiaePSdgtAoSQdKzHa87+bBeNV+k8OwFCQBEi82fK/bHyLQmlUGsBJ/ubsePwjQNck4FLjszHAELHM6NDP8D8UxXwwbcLPv+ko0ZHP3CZAGMtjnMduN8BDcJQkodwqQIhvAb6tKBnAN/O4gf4OHcBNXTQB4QgoQMFtMneYCS9ADrNvtjRw9D863dNXLR0hwKwMOALLLhLAekVZ3kPkEUBZCV8j3eksQOZL2+5WRiBAHrUZ6a7KIEAGuPCjU1MuQB6vDSfxcANAD+wq4DcKEMCocm/OdMj6P/7PuX6B8QtA9CQ2moNPAcBRI4nl0KEiQJyF8xm9Occ/sPzIDJCDCcDKcMWa4sYQwJKiVlVy+jDA6G4NGKjqLUB6uf+sUUrwv6TFl+xdTC1A82dm+ggJ/z92NzyP3pIuQFVu+/jdqPe/LpdH7hrzLkBXrFiYxVI3wFqWd/MxjwTAfDuf7Gc4HcDNrz4W0nouQLZ8x2HjbiPA/ipYA5LjFkCXb1TKV1k2wPdIh9MIZyZA3Uixf5yaCUAp/NtZj1wWwMVqmryOJwPA7s6j26h7LECK5a9MBjA2wOgcaYZj8CRAXSNpUhqUCcAIg5OwzaIjQH/WOYX2iABA59z8eObVDcBZRpL77F42wBdYfalFaw/AYwF5gdc2KEBQL2T1h4AnQK2hIyCIqSlARtgpiAqBJ0DijoubPOnhP2+Gi75OBiJAFfHrf7dfF0D/PbXH+9gWwM2ymgjRVitA/f1ZBFhOGsCl3kSSEW0kQAyF/ZWu0TDAendHJOCcNcAEQ7jBsdkyQBRQPI1TJuK/HMwqymA7DkB/S8jnd48rQFFS+8ghoRBAwmY7XrWf5T9+rjC42q63v+19soDjTsg/5eAyElyPMcDzRe0mfqgrQJBs0RM2Eb0/50qkVYS97L/dYMKvTdccwMZRIFToiC5AXTne6treKEDM1/dk60EXwGvtjj6Z6PU/RBHFe3IRDsC0J579gTIiwB+cd8EsFilAGrhKKQQoL0DFwcp3m1EyQNeAlRt3ixZASBmwCe6jEEDkGurIi8YtQMB6EIOYSg5Ak68uhqdkKEAZwrm7n08oQORI3ce78DFAUkD/enuf8z8L59Nrps0vQJTkGrjoqDbA6Ogoi1K3F8BFwBedrx0eQD+f1JL+1CNAD7rJtr1J9D/uH2FcQJwhwHNU+ffvZxNA37Hrld6aJkDf6jBns/8iQBfVCAnTmSdApapn9DTjI0DUYWDySSDTP4mGuqva0ylAp/S/ysZYA8DrW4KZCATiP7LxCQ9KvS5AmqRIxOdUFcCGt/iK5979v9/fSvi4gADAHoUxUbqkEMBwsKg0+FQcQEMyF/Nw2THAZBkOsP/5LEAiCHg3aJ01wGN5G1G7zS9APE72YAQ5JUD2jV3N2okawEckEnxxwilAjlxJGAwjE8AjdNUiMNwlQPMhwyYwhw/AFgwpSQMADsBWeLXieBoxwOvpYHtoKRlA0CMDMmePEMBIDKQdVo0pQPYQLfxJOvQ/J4N9CFNw8z84jZVS1roMQP8/+DaseypAVqBot8IeD0DX8udIcfgwwGbXAAboIy5ACEmaH5QnxD/6oaCvfgoRwE30n/ViYtO/rw3fycdUEcDceCcWYpAawMpd7omCzABAra64QEsHKECYE3UIjbwcwMA4WAoAhRzANPsQL+b4AUCL5DS3fk8jQDD/LIvRzRNABeQ/n1ngJUA0SToznLQjQIdQv2GxhBXAYJp+ab+xq7/aBNG80rgkwF0uzdngFSlA8sEwdqvPIsCCheickqExwCDP3S5LRvE/RsQ/gJygI0CJ3xL0FjIQwGxY6HfE2StAbFr9ElcOFMBswWriY7waQPrDQMSefSRAtwem26ryNcBfa1JjC2MVQCiMs3MHWxVA3m2BGhT7EEBKjgT1rf8nQJN+HJ2kZR7Az8wItM+BAMA=\",\"dtype\":\"float64\",\"shape\":[1000]}}},\"id\":\"f72e9d10-2006-4777-9924-1d90ce8b8fa2\",\"type\":\"ColumnDataSource\"}],\"root_ids\":[\"ef244780-9ff9-47bb-aee1-e691e528497f\"]},\"title\":\"Bokeh Application\",\"version\":\"0.12.4\"}};\n",
       "            var render_items = [{\"docid\":\"e46388d6-73f7-4ac8-a03f-73ca0e6bda5c\",\"elementid\":\"9891e091-faa0-4fe0-b649-384729f30923\",\"modelid\":\"ef244780-9ff9-47bb-aee1-e691e528497f\"}];\n",
       "            \n",
       "            Bokeh.embed.embed_items(docs_json, render_items);\n",
       "          };\n",
       "          if (document.readyState != \"loading\") fn();\n",
       "          else document.addEventListener(\"DOMContentLoaded\", fn);\n",
       "        })();\n",
       "      },\n",
       "      function(Bokeh) {\n",
       "      }\n",
       "    ];\n",
       "  \n",
       "    function run_inline_js() {\n",
       "      \n",
       "      if ((window.Bokeh !== undefined) || (force === true)) {\n",
       "        for (var i = 0; i < inline_js.length; i++) {\n",
       "          inline_js[i](window.Bokeh);\n",
       "        }if (force === true) {\n",
       "          display_loaded();\n",
       "        }} else if (Date.now() < window._bokeh_timeout) {\n",
       "        setTimeout(run_inline_js, 100);\n",
       "      } else if (!window._bokeh_failed_load) {\n",
       "        console.log(\"Bokeh: BokehJS failed to load within specified timeout.\");\n",
       "        window._bokeh_failed_load = true;\n",
       "      } else if (force !== true) {\n",
       "        var cell = $(document.getElementById(\"9891e091-faa0-4fe0-b649-384729f30923\")).parents('.cell').data().cell;\n",
       "        cell.output_area.append_execute_result(NB_LOAD_WARNING)\n",
       "      }\n",
       "  \n",
       "    }\n",
       "  \n",
       "    if (window._bokeh_is_loading === 0) {\n",
       "      console.log(\"Bokeh: BokehJS loaded, going straight to plotting\");\n",
       "      run_inline_js();\n",
       "    } else {\n",
       "      load_libs(js_urls, function() {\n",
       "        console.log(\"Bokeh: BokehJS plotting callback run at\", now());\n",
       "        run_inline_js();\n",
       "      });\n",
       "    }\n",
       "  }(this));\n",
       "</script>"
      ]
     },
     "metadata": {},
     "output_type": "display_data"
    }
   ],
   "source": [
    "p = figure(tools=\"pan,wheel_zoom,reset,save\",\n",
    "           toolbar_location=\"above\",\n",
    "           title=\"word2vec T-SNE for most common words\")\n",
    "\n",
    "source = ColumnDataSource(data=dict(x1=words_top_ted_tsne[:,0],\n",
    "                                    x2=words_top_ted_tsne[:,1],\n",
    "                                    names=words_top_ted))\n",
    "\n",
    "p.scatter(x=\"x1\", y=\"x2\", size=8, source=source)\n",
    "\n",
    "labels = LabelSet(x=\"x1\", y=\"x2\", text=\"names\", y_offset=6,\n",
    "                  text_font_size=\"8pt\", text_color=\"#555555\",\n",
    "                  source=source, text_align='center')\n",
    "p.add_layout(labels)\n",
    "\n",
    "show(p)"
   ]
  },
  {
   "cell_type": "markdown",
   "metadata": {},
   "source": [
    "### Part 5: Wiki Learnt Representations"
   ]
  },
  {
   "cell_type": "markdown",
   "metadata": {},
   "source": [
    "Download dataset"
   ]
  },
  {
   "cell_type": "code",
   "execution_count": 24,
   "metadata": {
    "collapsed": true
   },
   "outputs": [],
   "source": [
    "if not os.path.isfile('wikitext-103-raw-v1.zip'):\n",
    "    urllib.request.urlretrieve(\"https://s3.amazonaws.com/research.metamind.io/wikitext/wikitext-103-raw-v1.zip\", filename=\"wikitext-103-raw-v1.zip\")"
   ]
  },
  {
   "cell_type": "code",
   "execution_count": 25,
   "metadata": {
    "collapsed": false
   },
   "outputs": [],
   "source": [
    "with zipfile.ZipFile('wikitext-103-raw-v1.zip', 'r') as z:\n",
    "    input_text = str(z.open('wikitext-103-raw/wiki.train.raw', 'r').read(), encoding='utf-8')"
   ]
  },
  {
   "cell_type": "markdown",
   "metadata": {},
   "source": [
    "Preprocess sentences (note that it's important to remove small sentences for performance)"
   ]
  },
  {
   "cell_type": "code",
   "execution_count": 26,
   "metadata": {
    "collapsed": false
   },
   "outputs": [],
   "source": [
    "sentences_wiki = []\n",
    "for line in input_text.split('\\n'):\n",
    "    s = [x for x in line.split('.') if x and len(x.split()) >= 5]\n",
    "    sentences_wiki.extend(s)\n",
    "        \n",
    "for s_i in range(len(sentences_wiki)):\n",
    "    sentences_wiki[s_i] = re.sub(\"[^a-z]\", \" \", sentences_wiki[s_i].lower())\n",
    "    sentences_wiki[s_i] = re.sub(r'\\([^)]*\\)', '', sentences_wiki[s_i])\n",
    "    sentences_wiki[s_i] = sentences_wiki[s_i].split()\n",
    "del input_text"
   ]
  },
  {
   "cell_type": "code",
   "execution_count": 27,
   "metadata": {
    "collapsed": false
   },
   "outputs": [
    {
     "name": "stdout",
     "output_type": "stream",
     "text": [
      "4267112\n",
      "853422\n"
     ]
    }
   ],
   "source": [
    "# sample 1/5 of the data\n",
    "shuffle(sentences_wiki)\n",
    "print(len(sentences_wiki))\n",
    "sentences_wiki = sentences_wiki[:int(len(sentences_wiki)/5)]\n",
    "print(len(sentences_wiki))"
   ]
  },
  {
   "cell_type": "markdown",
   "metadata": {},
   "source": [
    "Now, repeat all the same steps that you performed above. You should be able to reuse essentially all the code."
   ]
  },
  {
   "cell_type": "code",
   "execution_count": 28,
   "metadata": {
    "collapsed": false
   },
   "outputs": [
    {
     "name": "stdout",
     "output_type": "stream",
     "text": [
      "[('the', 1286185), ('of', 547160), ('and', 500274), ('in', 434754), ('to', 399091), ('a', 358925), ('was', 214447), ('s', 164080), ('on', 154319), ('as', 145570)]\n"
     ]
    }
   ],
   "source": [
    "counts = Counter()\n",
    "for sentence in sentences_wiki:\n",
    "    for word in sentence:\n",
    "        counts[word] += 1\n",
    "print(counts.most_common(10))\n",
    "words_top_wiki, counts_wiki_top1000 = zip(*counts.most_common(1000))\n",
    "\n",
    "model_wiki = Word2Vec(sentences_wiki, size=100, window=5, min_count=10, workers=4)"
   ]
  },
  {
   "cell_type": "code",
   "execution_count": 29,
   "metadata": {
    "collapsed": false
   },
   "outputs": [
    {
     "data": {
      "text/plain": [
       "[('software', 0.7777402400970459),\n",
       " ('computers', 0.7382135987281799),\n",
       " ('computing', 0.7283210158348083),\n",
       " ('handheld', 0.6971127986907959),\n",
       " ('hardware', 0.6958776712417603),\n",
       " ('interface', 0.6927686333656311),\n",
       " ('adapter', 0.6788428425788879),\n",
       " ('graphics', 0.6739530563354492),\n",
       " ('interactive', 0.6632091403007507),\n",
       " ('user', 0.6581984162330627)]"
      ]
     },
     "execution_count": 29,
     "metadata": {},
     "output_type": "execute_result"
    }
   ],
   "source": [
    "model_wiki.most_similar(\"computer\")"
   ]
  },
  {
   "cell_type": "code",
   "execution_count": 30,
   "metadata": {
    "collapsed": false
   },
   "outputs": [
    {
     "data": {
      "text/plain": [
       "[('austen', 0.7490761876106262),\n",
       " ('handel', 0.7080662846565247),\n",
       " ('elgar', 0.6894700527191162),\n",
       " ('tolkien', 0.6789939403533936),\n",
       " ('prose', 0.6727634072303772),\n",
       " ('hogarth', 0.668838620185852),\n",
       " ('hazlitt', 0.6641167402267456),\n",
       " ('tempest', 0.660917341709137),\n",
       " ('poe', 0.6582767367362976),\n",
       " ('offenbach', 0.6484489440917969)]"
      ]
     },
     "execution_count": 30,
     "metadata": {},
     "output_type": "execute_result"
    }
   ],
   "source": [
    "model_wiki.most_similar(\"shakespeare\")"
   ]
  },
  {
   "cell_type": "markdown",
   "metadata": {},
   "source": [
    "#### t-SNE visualization"
   ]
  },
  {
   "cell_type": "code",
   "execution_count": 31,
   "metadata": {
    "collapsed": false
   },
   "outputs": [
    {
     "data": {
      "text/plain": [
       "[('drafted', 0.5916395783424377),\n",
       " ('noticed', 0.5913376808166504),\n",
       " ('supported', 0.5912024974822998),\n",
       " ('replaced', 0.5912022590637207),\n",
       " ('retained', 0.5909672975540161),\n",
       " ('recalled', 0.5904443860054016),\n",
       " ('worked', 0.5890535116195679),\n",
       " ('contracted', 0.5889458656311035),\n",
       " ('officiated', 0.588890552520752),\n",
       " ('considered', 0.5886949896812439)]"
      ]
     },
     "execution_count": 31,
     "metadata": {},
     "output_type": "execute_result"
    }
   ],
   "source": [
    "# This assumes words_top_wiki is a list of strings, the top 1000 words\n",
    "words_top_vec_wiki = model_wiki[words_top_wiki]\n",
    "\n",
    "import sklearn.cluster\n",
    "from bokeh.palettes import Category20\n",
    "num_clusters = 10\n",
    "clustering = sklearn.cluster.KMeans(n_clusters=num_clusters)\n",
    "colors = np.array(Category20[num_clusters])[clustering.fit_predict(words_top_vec_wiki)]\n",
    "\n",
    "model_wiki.similar_by_vector(clustering.cluster_centers_[0], topn=100)[90:]"
   ]
  },
  {
   "cell_type": "code",
   "execution_count": 32,
   "metadata": {
    "collapsed": false
   },
   "outputs": [
    {
     "data": {
      "text/html": [
       "\n",
       "\n",
       "    <div class=\"bk-root\">\n",
       "        <div class=\"bk-plotdiv\" id=\"4fbc6bc2-4acc-436a-ae77-5fd6815a6275\"></div>\n",
       "    </div>\n",
       "<script type=\"text/javascript\">\n",
       "  \n",
       "  (function(global) {\n",
       "    function now() {\n",
       "      return new Date();\n",
       "    }\n",
       "  \n",
       "    var force = false;\n",
       "  \n",
       "    if (typeof (window._bokeh_onload_callbacks) === \"undefined\" || force === true) {\n",
       "      window._bokeh_onload_callbacks = [];\n",
       "      window._bokeh_is_loading = undefined;\n",
       "    }\n",
       "  \n",
       "  \n",
       "    \n",
       "    if (typeof (window._bokeh_timeout) === \"undefined\" || force === true) {\n",
       "      window._bokeh_timeout = Date.now() + 0;\n",
       "      window._bokeh_failed_load = false;\n",
       "    }\n",
       "  \n",
       "    var NB_LOAD_WARNING = {'data': {'text/html':\n",
       "       \"<div style='background-color: #fdd'>\\n\"+\n",
       "       \"<p>\\n\"+\n",
       "       \"BokehJS does not appear to have successfully loaded. If loading BokehJS from CDN, this \\n\"+\n",
       "       \"may be due to a slow or bad network connection. Possible fixes:\\n\"+\n",
       "       \"</p>\\n\"+\n",
       "       \"<ul>\\n\"+\n",
       "       \"<li>re-rerun `output_notebook()` to attempt to load from CDN again, or</li>\\n\"+\n",
       "       \"<li>use INLINE resources instead, as so:</li>\\n\"+\n",
       "       \"</ul>\\n\"+\n",
       "       \"<code>\\n\"+\n",
       "       \"from bokeh.resources import INLINE\\n\"+\n",
       "       \"output_notebook(resources=INLINE)\\n\"+\n",
       "       \"</code>\\n\"+\n",
       "       \"</div>\"}};\n",
       "  \n",
       "    function display_loaded() {\n",
       "      if (window.Bokeh !== undefined) {\n",
       "        document.getElementById(\"4fbc6bc2-4acc-436a-ae77-5fd6815a6275\").textContent = \"BokehJS successfully loaded.\";\n",
       "      } else if (Date.now() < window._bokeh_timeout) {\n",
       "        setTimeout(display_loaded, 100)\n",
       "      }\n",
       "    }\n",
       "  \n",
       "    function run_callbacks() {\n",
       "      window._bokeh_onload_callbacks.forEach(function(callback) { callback() });\n",
       "      delete window._bokeh_onload_callbacks\n",
       "      console.info(\"Bokeh: all callbacks have finished\");\n",
       "    }\n",
       "  \n",
       "    function load_libs(js_urls, callback) {\n",
       "      window._bokeh_onload_callbacks.push(callback);\n",
       "      if (window._bokeh_is_loading > 0) {\n",
       "        console.log(\"Bokeh: BokehJS is being loaded, scheduling callback at\", now());\n",
       "        return null;\n",
       "      }\n",
       "      if (js_urls == null || js_urls.length === 0) {\n",
       "        run_callbacks();\n",
       "        return null;\n",
       "      }\n",
       "      console.log(\"Bokeh: BokehJS not loaded, scheduling load and callback at\", now());\n",
       "      window._bokeh_is_loading = js_urls.length;\n",
       "      for (var i = 0; i < js_urls.length; i++) {\n",
       "        var url = js_urls[i];\n",
       "        var s = document.createElement('script');\n",
       "        s.src = url;\n",
       "        s.async = false;\n",
       "        s.onreadystatechange = s.onload = function() {\n",
       "          window._bokeh_is_loading--;\n",
       "          if (window._bokeh_is_loading === 0) {\n",
       "            console.log(\"Bokeh: all BokehJS libraries loaded\");\n",
       "            run_callbacks()\n",
       "          }\n",
       "        };\n",
       "        s.onerror = function() {\n",
       "          console.warn(\"failed to load library \" + url);\n",
       "        };\n",
       "        console.log(\"Bokeh: injecting script tag for BokehJS library: \", url);\n",
       "        document.getElementsByTagName(\"head\")[0].appendChild(s);\n",
       "      }\n",
       "    };var element = document.getElementById(\"4fbc6bc2-4acc-436a-ae77-5fd6815a6275\");\n",
       "    if (element == null) {\n",
       "      console.log(\"Bokeh: ERROR: autoload.js configured with elementid '4fbc6bc2-4acc-436a-ae77-5fd6815a6275' but no matching script tag was found. \")\n",
       "      return false;\n",
       "    }\n",
       "  \n",
       "    var js_urls = [];\n",
       "  \n",
       "    var inline_js = [\n",
       "      function(Bokeh) {\n",
       "        (function() {\n",
       "          var fn = function() {\n",
       "            var docs_json = {\"39108ffc-f6b4-46f2-902c-e3e08df89652\":{\"roots\":{\"references\":[{\"attributes\":{},\"id\":\"504b9802-e2ae-42b4-ae45-6be0373bd72b\",\"type\":\"ToolEvents\"},{\"attributes\":{\"plot\":{\"id\":\"96ca5730-b684-4be3-bb12-5f7673906ecc\",\"subtype\":\"Figure\",\"type\":\"Plot\"}},\"id\":\"d1faeb38-7058-462e-bcc9-bd27492a95bd\",\"type\":\"SaveTool\"},{\"attributes\":{\"fill_alpha\":{\"value\":0.1},\"fill_color\":{\"value\":\"#1f77b4\"},\"line_alpha\":{\"value\":0.1},\"line_color\":{\"value\":\"#1f77b4\"},\"size\":{\"units\":\"screen\",\"value\":8},\"x\":{\"field\":\"x1\"},\"y\":{\"field\":\"x2\"}},\"id\":\"56ccd564-c9a2-41a3-b94e-3e327c4464ce\",\"type\":\"Circle\"},{\"attributes\":{\"formatter\":{\"id\":\"7d1f913c-e41a-408c-bf7d-791d3c334f67\",\"type\":\"BasicTickFormatter\"},\"plot\":{\"id\":\"96ca5730-b684-4be3-bb12-5f7673906ecc\",\"subtype\":\"Figure\",\"type\":\"Plot\"},\"ticker\":{\"id\":\"56b644d0-7522-4278-9635-e4e37f6fd5f0\",\"type\":\"BasicTicker\"}},\"id\":\"bf3ae417-2683-45bd-a63f-9e9aca19b961\",\"type\":\"LinearAxis\"},{\"attributes\":{\"dimension\":1,\"plot\":{\"id\":\"96ca5730-b684-4be3-bb12-5f7673906ecc\",\"subtype\":\"Figure\",\"type\":\"Plot\"},\"ticker\":{\"id\":\"2816842f-ab0f-4efb-8ed4-6f1c99b30432\",\"type\":\"BasicTicker\"}},\"id\":\"f14b670e-3a12-4814-aa69-4a60cf08af17\",\"type\":\"Grid\"},{\"attributes\":{\"plot\":{\"id\":\"96ca5730-b684-4be3-bb12-5f7673906ecc\",\"subtype\":\"Figure\",\"type\":\"Plot\"},\"ticker\":{\"id\":\"56b644d0-7522-4278-9635-e4e37f6fd5f0\",\"type\":\"BasicTicker\"}},\"id\":\"b0308003-764a-4322-8027-74caa4327d64\",\"type\":\"Grid\"},{\"attributes\":{\"below\":[{\"id\":\"bf3ae417-2683-45bd-a63f-9e9aca19b961\",\"type\":\"LinearAxis\"}],\"left\":[{\"id\":\"cdba30f5-1463-4286-9e0b-f5fa4564e8e3\",\"type\":\"LinearAxis\"}],\"renderers\":[{\"id\":\"bf3ae417-2683-45bd-a63f-9e9aca19b961\",\"type\":\"LinearAxis\"},{\"id\":\"b0308003-764a-4322-8027-74caa4327d64\",\"type\":\"Grid\"},{\"id\":\"cdba30f5-1463-4286-9e0b-f5fa4564e8e3\",\"type\":\"LinearAxis\"},{\"id\":\"f14b670e-3a12-4814-aa69-4a60cf08af17\",\"type\":\"Grid\"},{\"id\":\"27e2dd81-fde4-4dbf-824a-831154ca5878\",\"type\":\"GlyphRenderer\"},{\"id\":\"cd87c663-cc4a-45dc-98af-74cb3d3caaa7\",\"type\":\"LabelSet\"}],\"title\":{\"id\":\"64fc6baf-31fc-477e-aa42-8e3b65eeac9f\",\"type\":\"Title\"},\"tool_events\":{\"id\":\"504b9802-e2ae-42b4-ae45-6be0373bd72b\",\"type\":\"ToolEvents\"},\"toolbar\":{\"id\":\"63fc5214-ac68-45ad-84b7-bafec9ceae6a\",\"type\":\"Toolbar\"},\"toolbar_location\":\"above\",\"x_range\":{\"id\":\"e1a5d3cb-71e9-4b1f-ac3f-69824eb01461\",\"type\":\"DataRange1d\"},\"y_range\":{\"id\":\"038fbff5-333f-4264-99e8-7ed8e3aad2c0\",\"type\":\"DataRange1d\"}},\"id\":\"96ca5730-b684-4be3-bb12-5f7673906ecc\",\"subtype\":\"Figure\",\"type\":\"Plot\"},{\"attributes\":{\"plot\":null,\"text\":\"word2vec T-SNE for most common words\"},\"id\":\"64fc6baf-31fc-477e-aa42-8e3b65eeac9f\",\"type\":\"Title\"},{\"attributes\":{\"plot\":{\"id\":\"96ca5730-b684-4be3-bb12-5f7673906ecc\",\"subtype\":\"Figure\",\"type\":\"Plot\"}},\"id\":\"3a444eea-56a5-45da-98db-3884654b8321\",\"type\":\"ResetTool\"},{\"attributes\":{\"data_source\":{\"id\":\"6edd5a16-783d-4300-bedb-65e4b5141674\",\"type\":\"ColumnDataSource\"},\"glyph\":{\"id\":\"07bae236-af99-474f-bd99-2f39c890d504\",\"type\":\"Circle\"},\"hover_glyph\":null,\"nonselection_glyph\":{\"id\":\"56ccd564-c9a2-41a3-b94e-3e327c4464ce\",\"type\":\"Circle\"},\"selection_glyph\":null},\"id\":\"27e2dd81-fde4-4dbf-824a-831154ca5878\",\"type\":\"GlyphRenderer\"},{\"attributes\":{\"formatter\":{\"id\":\"9be2da81-4b30-4087-9f71-3a0be57cc102\",\"type\":\"BasicTickFormatter\"},\"plot\":{\"id\":\"96ca5730-b684-4be3-bb12-5f7673906ecc\",\"subtype\":\"Figure\",\"type\":\"Plot\"},\"ticker\":{\"id\":\"2816842f-ab0f-4efb-8ed4-6f1c99b30432\",\"type\":\"BasicTicker\"}},\"id\":\"cdba30f5-1463-4286-9e0b-f5fa4564e8e3\",\"type\":\"LinearAxis\"},{\"attributes\":{\"callback\":null,\"column_names\":[\"names\",\"x2\",\"x1\",\"colors\"],\"data\":{\"colors\":[\"#c5b0d5\",\"#c5b0d5\",\"#aec7e8\",\"#aec7e8\",\"#9467bd\",\"#c5b0d5\",\"#2ca02c\",\"#98df8a\",\"#aec7e8\",\"#ff7f0e\",\"#aec7e8\",\"#ff7f0e\",\"#aec7e8\",\"#aec7e8\",\"#2ca02c\",\"#ff7f0e\",\"#aec7e8\",\"#ff7f0e\",\"#ff7f0e\",\"#aec7e8\",\"#2ca02c\",\"#c5b0d5\",\"#ff7f0e\",\"#c5b0d5\",\"#ff7f0e\",\"#ff7f0e\",\"#ff7f0e\",\"#2ca02c\",\"#ff9896\",\"#ff7f0e\",\"#c5b0d5\",\"#aec7e8\",\"#c5b0d5\",\"#ff7f0e\",\"#c5b0d5\",\"#c5b0d5\",\"#ff7f0e\",\"#c5b0d5\",\"#c5b0d5\",\"#ff7f0e\",\"#98df8a\",\"#c5b0d5\",\"#2ca02c\",\"#ff7f0e\",\"#ff7f0e\",\"#aec7e8\",\"#ffbb78\",\"#aec7e8\",\"#c5b0d5\",\"#9467bd\",\"#aec7e8\",\"#c5b0d5\",\"#ff7f0e\",\"#c5b0d5\",\"#aec7e8\",\"#aec7e8\",\"#ff7f0e\",\"#ffbb78\",\"#aec7e8\",\"#c5b0d5\",\"#aec7e8\",\"#c5b0d5\",\"#c5b0d5\",\"#ff7f0e\",\"#aec7e8\",\"#ff9896\",\"#aec7e8\",\"#c5b0d5\",\"#ff7f0e\",\"#c5b0d5\",\"#ffbb78\",\"#9467bd\",\"#aec7e8\",\"#ff9896\",\"#c5b0d5\",\"#1f77b4\",\"#c5b0d5\",\"#ffbb78\",\"#ff9896\",\"#aec7e8\",\"#ffbb78\",\"#d62728\",\"#ff9896\",\"#c5b0d5\",\"#1f77b4\",\"#ff7f0e\",\"#aec7e8\",\"#ff7f0e\",\"#ff7f0e\",\"#ffbb78\",\"#aec7e8\",\"#c5b0d5\",\"#ffbb78\",\"#aec7e8\",\"#2ca02c\",\"#ffbb78\",\"#c5b0d5\",\"#ffbb78\",\"#ff9896\",\"#2ca02c\",\"#c5b0d5\",\"#1f77b4\",\"#c5b0d5\",\"#ff9896\",\"#ff9896\",\"#1f77b4\",\"#9467bd\",\"#c5b0d5\",\"#c5b0d5\",\"#aec7e8\",\"#ff9896\",\"#2ca02c\",\"#ff9896\",\"#ffbb78\",\"#ff7f0e\",\"#aec7e8\",\"#ff9896\",\"#ffbb78\",\"#1f77b4\",\"#ff9896\",\"#ff9896\",\"#9467bd\",\"#1f77b4\",\"#ff7f0e\",\"#9467bd\",\"#ff7f0e\",\"#1f77b4\",\"#ff7f0e\",\"#aec7e8\",\"#1f77b4\",\"#1f77b4\",\"#ff7f0e\",\"#ff7f0e\",\"#c5b0d5\",\"#ff7f0e\",\"#ff9896\",\"#aec7e8\",\"#ff9896\",\"#aec7e8\",\"#c5b0d5\",\"#ff9896\",\"#ffbb78\",\"#1f77b4\",\"#ff7f0e\",\"#c5b0d5\",\"#c5b0d5\",\"#ff7f0e\",\"#ff9896\",\"#ff9896\",\"#ff9896\",\"#c5b0d5\",\"#aec7e8\",\"#ff7f0e\",\"#c5b0d5\",\"#c5b0d5\",\"#1f77b4\",\"#ffbb78\",\"#ff7f0e\",\"#aec7e8\",\"#2ca02c\",\"#ffbb78\",\"#2ca02c\",\"#aec7e8\",\"#ff7f0e\",\"#2ca02c\",\"#ff9896\",\"#2ca02c\",\"#1f77b4\",\"#ff9896\",\"#2ca02c\",\"#ff7f0e\",\"#ff9896\",\"#98df8a\",\"#9467bd\",\"#ff9896\",\"#aec7e8\",\"#d62728\",\"#2ca02c\",\"#aec7e8\",\"#2ca02c\",\"#ff9896\",\"#ff9896\",\"#ffbb78\",\"#c5b0d5\",\"#ff9896\",\"#ff9896\",\"#ffbb78\",\"#ff9896\",\"#aec7e8\",\"#ff7f0e\",\"#c5b0d5\",\"#98df8a\",\"#2ca02c\",\"#ff9896\",\"#1f77b4\",\"#1f77b4\",\"#2ca02c\",\"#2ca02c\",\"#ffbb78\",\"#ff9896\",\"#ff7f0e\",\"#c5b0d5\",\"#1f77b4\",\"#2ca02c\",\"#ff7f0e\",\"#98df8a\",\"#d62728\",\"#c5b0d5\",\"#98df8a\",\"#ff9896\",\"#1f77b4\",\"#ff7f0e\",\"#2ca02c\",\"#ffbb78\",\"#2ca02c\",\"#1f77b4\",\"#ff7f0e\",\"#98df8a\",\"#c5b0d5\",\"#1f77b4\",\"#1f77b4\",\"#aec7e8\",\"#1f77b4\",\"#d62728\",\"#c5b0d5\",\"#98df8a\",\"#1f77b4\",\"#aec7e8\",\"#c5b0d5\",\"#2ca02c\",\"#d62728\",\"#ffbb78\",\"#ffbb78\",\"#d62728\",\"#ff9896\",\"#ff7f0e\",\"#ffbb78\",\"#1f77b4\",\"#ff7f0e\",\"#ffbb78\",\"#ffbb78\",\"#98df8a\",\"#ff7f0e\",\"#ff9896\",\"#ffbb78\",\"#aec7e8\",\"#ff7f0e\",\"#ff7f0e\",\"#ff7f0e\",\"#ff7f0e\",\"#c5b0d5\",\"#d62728\",\"#ffbb78\",\"#2ca02c\",\"#ff9896\",\"#d62728\",\"#2ca02c\",\"#2ca02c\",\"#c5b0d5\",\"#ffbb78\",\"#aec7e8\",\"#ff9896\",\"#ff7f0e\",\"#ff9896\",\"#ff9896\",\"#1f77b4\",\"#98df8a\",\"#1f77b4\",\"#d62728\",\"#2ca02c\",\"#ffbb78\",\"#aec7e8\",\"#c5b0d5\",\"#d62728\",\"#d62728\",\"#c5b0d5\",\"#ff7f0e\",\"#ff7f0e\",\"#98df8a\",\"#ff7f0e\",\"#98df8a\",\"#2ca02c\",\"#d62728\",\"#ff7f0e\",\"#ff7f0e\",\"#ffbb78\",\"#ff7f0e\",\"#ffbb78\",\"#9467bd\",\"#ffbb78\",\"#9467bd\",\"#ff7f0e\",\"#2ca02c\",\"#2ca02c\",\"#98df8a\",\"#1f77b4\",\"#2ca02c\",\"#aec7e8\",\"#98df8a\",\"#2ca02c\",\"#c5b0d5\",\"#aec7e8\",\"#2ca02c\",\"#2ca02c\",\"#c5b0d5\",\"#c5b0d5\",\"#1f77b4\",\"#ff7f0e\",\"#ff9896\",\"#ff9896\",\"#98df8a\",\"#ff7f0e\",\"#2ca02c\",\"#1f77b4\",\"#ffbb78\",\"#ff9896\",\"#c5b0d5\",\"#1f77b4\",\"#ff7f0e\",\"#2ca02c\",\"#98df8a\",\"#1f77b4\",\"#1f77b4\",\"#d62728\",\"#ffbb78\",\"#2ca02c\",\"#98df8a\",\"#2ca02c\",\"#ff7f0e\",\"#d62728\",\"#ff9896\",\"#2ca02c\",\"#98df8a\",\"#ff7f0e\",\"#ff7f0e\",\"#ff9896\",\"#ffbb78\",\"#ff7f0e\",\"#ff9896\",\"#ffbb78\",\"#2ca02c\",\"#d62728\",\"#1f77b4\",\"#ff7f0e\",\"#1f77b4\",\"#c5b0d5\",\"#c5b0d5\",\"#98df8a\",\"#98df8a\",\"#1f77b4\",\"#ffbb78\",\"#ffbb78\",\"#c5b0d5\",\"#1f77b4\",\"#1f77b4\",\"#2ca02c\",\"#c5b0d5\",\"#ffbb78\",\"#ffbb78\",\"#ffbb78\",\"#9467bd\",\"#2ca02c\",\"#d62728\",\"#ff7f0e\",\"#c5b0d5\",\"#ff9896\",\"#aec7e8\",\"#98df8a\",\"#1f77b4\",\"#2ca02c\",\"#2ca02c\",\"#d62728\",\"#1f77b4\",\"#ff7f0e\",\"#c5b0d5\",\"#d62728\",\"#ff7f0e\",\"#ffbb78\",\"#ff7f0e\",\"#ff7f0e\",\"#ff7f0e\",\"#aec7e8\",\"#ffbb78\",\"#ff7f0e\",\"#d62728\",\"#aec7e8\",\"#ff7f0e\",\"#ff7f0e\",\"#c5b0d5\",\"#2ca02c\",\"#ff9896\",\"#ffbb78\",\"#ff7f0e\",\"#ffbb78\",\"#c5b0d5\",\"#98df8a\",\"#ff9896\",\"#1f77b4\",\"#ffbb78\",\"#98df8a\",\"#aec7e8\",\"#aec7e8\",\"#c5b0d5\",\"#ff9896\",\"#ff7f0e\",\"#ff9896\",\"#ff7f0e\",\"#2ca02c\",\"#ff7f0e\",\"#2ca02c\",\"#ffbb78\",\"#c5b0d5\",\"#ffbb78\",\"#98df8a\",\"#aec7e8\",\"#ff9896\",\"#2ca02c\",\"#1f77b4\",\"#c5b0d5\",\"#2ca02c\",\"#1f77b4\",\"#ff9896\",\"#c5b0d5\",\"#98df8a\",\"#c5b0d5\",\"#98df8a\",\"#d62728\",\"#2ca02c\",\"#1f77b4\",\"#ffbb78\",\"#ff9896\",\"#ff7f0e\",\"#c5b0d5\",\"#1f77b4\",\"#2ca02c\",\"#ff9896\",\"#c5b0d5\",\"#98df8a\",\"#ff7f0e\",\"#ffbb78\",\"#2ca02c\",\"#2ca02c\",\"#1f77b4\",\"#1f77b4\",\"#1f77b4\",\"#98df8a\",\"#1f77b4\",\"#2ca02c\",\"#ff7f0e\",\"#aec7e8\",\"#1f77b4\",\"#ff9896\",\"#c5b0d5\",\"#ff7f0e\",\"#1f77b4\",\"#c5b0d5\",\"#c5b0d5\",\"#ff9896\",\"#1f77b4\",\"#9467bd\",\"#aec7e8\",\"#1f77b4\",\"#ffbb78\",\"#ffbb78\",\"#1f77b4\",\"#2ca02c\",\"#98df8a\",\"#ffbb78\",\"#98df8a\",\"#2ca02c\",\"#1f77b4\",\"#c5b0d5\",\"#9467bd\",\"#ff7f0e\",\"#2ca02c\",\"#ff7f0e\",\"#c5b0d5\",\"#1f77b4\",\"#aec7e8\",\"#ff7f0e\",\"#1f77b4\",\"#ff7f0e\",\"#1f77b4\",\"#d62728\",\"#ff7f0e\",\"#ffbb78\",\"#ff7f0e\",\"#98df8a\",\"#ff9896\",\"#ffbb78\",\"#1f77b4\",\"#c5b0d5\",\"#ff9896\",\"#1f77b4\",\"#1f77b4\",\"#1f77b4\",\"#c5b0d5\",\"#ffbb78\",\"#ffbb78\",\"#ffbb78\",\"#ff7f0e\",\"#9467bd\",\"#1f77b4\",\"#ff9896\",\"#2ca02c\",\"#ff7f0e\",\"#c5b0d5\",\"#98df8a\",\"#aec7e8\",\"#1f77b4\",\"#98df8a\",\"#ff7f0e\",\"#c5b0d5\",\"#aec7e8\",\"#2ca02c\",\"#c5b0d5\",\"#d62728\",\"#1f77b4\",\"#c5b0d5\",\"#ff9896\",\"#1f77b4\",\"#1f77b4\",\"#aec7e8\",\"#ffbb78\",\"#98df8a\",\"#ff7f0e\",\"#98df8a\",\"#d62728\",\"#ff7f0e\",\"#98df8a\",\"#c5b0d5\",\"#c5b0d5\",\"#2ca02c\",\"#ff9896\",\"#2ca02c\",\"#c5b0d5\",\"#c5b0d5\",\"#c5b0d5\",\"#ff9896\",\"#aec7e8\",\"#aec7e8\",\"#2ca02c\",\"#2ca02c\",\"#ffbb78\",\"#ff9896\",\"#1f77b4\",\"#98df8a\",\"#ff7f0e\",\"#ff9896\",\"#d62728\",\"#ff7f0e\",\"#ffbb78\",\"#ff7f0e\",\"#1f77b4\",\"#ffbb78\",\"#ff7f0e\",\"#98df8a\",\"#1f77b4\",\"#2ca02c\",\"#1f77b4\",\"#9467bd\",\"#ff7f0e\",\"#ff9896\",\"#ff7f0e\",\"#ff9896\",\"#98df8a\",\"#ffbb78\",\"#c5b0d5\",\"#ffbb78\",\"#ffbb78\",\"#c5b0d5\",\"#d62728\",\"#1f77b4\",\"#1f77b4\",\"#d62728\",\"#98df8a\",\"#1f77b4\",\"#ffbb78\",\"#ff9896\",\"#1f77b4\",\"#9467bd\",\"#c5b0d5\",\"#ffbb78\",\"#ffbb78\",\"#ff7f0e\",\"#c5b0d5\",\"#9467bd\",\"#d62728\",\"#ffbb78\",\"#ff9896\",\"#ff7f0e\",\"#ffbb78\",\"#ff9896\",\"#ffbb78\",\"#ff9896\",\"#1f77b4\",\"#c5b0d5\",\"#ff9896\",\"#1f77b4\",\"#2ca02c\",\"#ff7f0e\",\"#ffbb78\",\"#ffbb78\",\"#1f77b4\",\"#98df8a\",\"#ff9896\",\"#ffbb78\",\"#98df8a\",\"#ff9896\",\"#1f77b4\",\"#98df8a\",\"#ff7f0e\",\"#c5b0d5\",\"#ffbb78\",\"#ff9896\",\"#d62728\",\"#1f77b4\",\"#ff7f0e\",\"#ffbb78\",\"#2ca02c\",\"#d62728\",\"#ff7f0e\",\"#ffbb78\",\"#1f77b4\",\"#d62728\",\"#c5b0d5\",\"#ff7f0e\",\"#d62728\",\"#98df8a\",\"#98df8a\",\"#ff7f0e\",\"#ff9896\",\"#ff9896\",\"#9467bd\",\"#ffbb78\",\"#c5b0d5\",\"#c5b0d5\",\"#ff9896\",\"#2ca02c\",\"#c5b0d5\",\"#ffbb78\",\"#ffbb78\",\"#ff7f0e\",\"#2ca02c\",\"#1f77b4\",\"#ff9896\",\"#1f77b4\",\"#1f77b4\",\"#ffbb78\",\"#ffbb78\",\"#ffbb78\",\"#ff7f0e\",\"#ffbb78\",\"#2ca02c\",\"#2ca02c\",\"#1f77b4\",\"#d62728\",\"#ff7f0e\",\"#2ca02c\",\"#ff9896\",\"#ff7f0e\",\"#c5b0d5\",\"#ff7f0e\",\"#ffbb78\",\"#aec7e8\",\"#1f77b4\",\"#2ca02c\",\"#ffbb78\",\"#c5b0d5\",\"#9467bd\",\"#2ca02c\",\"#9467bd\",\"#ff9896\",\"#1f77b4\",\"#c5b0d5\",\"#ff7f0e\",\"#ffbb78\",\"#9467bd\",\"#c5b0d5\",\"#2ca02c\",\"#2ca02c\",\"#98df8a\",\"#ff7f0e\",\"#ff9896\",\"#1f77b4\",\"#aec7e8\",\"#ffbb78\",\"#ff7f0e\",\"#ff7f0e\",\"#c5b0d5\",\"#2ca02c\",\"#9467bd\",\"#9467bd\",\"#ff9896\",\"#c5b0d5\",\"#2ca02c\",\"#ffbb78\",\"#98df8a\",\"#ff7f0e\",\"#d62728\",\"#98df8a\",\"#2ca02c\",\"#2ca02c\",\"#2ca02c\",\"#ff7f0e\",\"#2ca02c\",\"#1f77b4\",\"#d62728\",\"#ff7f0e\",\"#ff7f0e\",\"#ff9896\",\"#9467bd\",\"#c5b0d5\",\"#2ca02c\",\"#1f77b4\",\"#9467bd\",\"#2ca02c\",\"#c5b0d5\",\"#d62728\",\"#ff7f0e\",\"#ff7f0e\",\"#ff9896\",\"#2ca02c\",\"#98df8a\",\"#1f77b4\",\"#98df8a\",\"#9467bd\",\"#ff7f0e\",\"#ff7f0e\",\"#2ca02c\",\"#2ca02c\",\"#98df8a\",\"#ff7f0e\",\"#ff9896\",\"#ff7f0e\",\"#98df8a\",\"#c5b0d5\",\"#ff7f0e\",\"#c5b0d5\",\"#ff9896\",\"#2ca02c\",\"#ff7f0e\",\"#c5b0d5\",\"#aec7e8\",\"#ff7f0e\",\"#ff7f0e\",\"#2ca02c\",\"#aec7e8\",\"#ff7f0e\",\"#2ca02c\",\"#ffbb78\",\"#ff9896\",\"#ff9896\",\"#2ca02c\",\"#c5b0d5\",\"#1f77b4\",\"#2ca02c\",\"#ffbb78\",\"#98df8a\",\"#d62728\",\"#2ca02c\",\"#ff9896\",\"#ff7f0e\",\"#2ca02c\",\"#2ca02c\",\"#2ca02c\",\"#ffbb78\",\"#1f77b4\",\"#9467bd\",\"#aec7e8\",\"#ff7f0e\",\"#98df8a\",\"#98df8a\",\"#98df8a\",\"#ff7f0e\",\"#1f77b4\",\"#98df8a\",\"#d62728\",\"#ff7f0e\",\"#98df8a\",\"#98df8a\",\"#98df8a\",\"#98df8a\",\"#ff7f0e\",\"#c5b0d5\",\"#ff7f0e\",\"#c5b0d5\",\"#2ca02c\",\"#ff9896\",\"#98df8a\",\"#ff7f0e\",\"#ff9896\",\"#ff7f0e\",\"#c5b0d5\",\"#ff7f0e\",\"#ffbb78\",\"#ffbb78\",\"#2ca02c\",\"#ff7f0e\",\"#1f77b4\",\"#ffbb78\",\"#ff7f0e\",\"#2ca02c\",\"#ff7f0e\",\"#c5b0d5\",\"#2ca02c\",\"#c5b0d5\",\"#98df8a\",\"#ff7f0e\",\"#2ca02c\",\"#c5b0d5\",\"#c5b0d5\",\"#1f77b4\",\"#ff7f0e\",\"#aec7e8\",\"#ff7f0e\",\"#1f77b4\",\"#ff7f0e\",\"#1f77b4\",\"#ff7f0e\",\"#c5b0d5\",\"#c5b0d5\",\"#98df8a\",\"#ffbb78\",\"#ff7f0e\",\"#2ca02c\",\"#ff9896\",\"#2ca02c\",\"#ff7f0e\",\"#ffbb78\",\"#ffbb78\",\"#ff7f0e\",\"#c5b0d5\",\"#ff7f0e\",\"#2ca02c\",\"#98df8a\",\"#2ca02c\",\"#ff7f0e\",\"#2ca02c\",\"#d62728\",\"#ff9896\",\"#d62728\",\"#ff9896\",\"#1f77b4\",\"#2ca02c\",\"#98df8a\",\"#98df8a\",\"#9467bd\",\"#ff9896\",\"#ff9896\",\"#d62728\",\"#c5b0d5\",\"#ff9896\",\"#c5b0d5\",\"#ff9896\",\"#2ca02c\",\"#ffbb78\",\"#ff7f0e\",\"#ff7f0e\",\"#ffbb78\",\"#1f77b4\",\"#ffbb78\",\"#98df8a\",\"#aec7e8\",\"#ff9896\",\"#ff7f0e\",\"#ff7f0e\",\"#c5b0d5\",\"#2ca02c\",\"#c5b0d5\",\"#ff9896\",\"#ffbb78\",\"#c5b0d5\",\"#ff7f0e\",\"#ffbb78\",\"#c5b0d5\",\"#ff7f0e\",\"#d62728\",\"#ff7f0e\",\"#ff7f0e\",\"#1f77b4\",\"#98df8a\",\"#aec7e8\",\"#c5b0d5\",\"#ff7f0e\",\"#ff7f0e\",\"#1f77b4\",\"#9467bd\",\"#ffbb78\",\"#d62728\",\"#ff7f0e\",\"#ff9896\",\"#aec7e8\",\"#ffbb78\",\"#1f77b4\",\"#ff7f0e\",\"#2ca02c\",\"#c5b0d5\",\"#d62728\",\"#d62728\",\"#c5b0d5\",\"#1f77b4\",\"#ff9896\",\"#ff7f0e\",\"#98df8a\",\"#1f77b4\",\"#d62728\",\"#2ca02c\",\"#c5b0d5\",\"#ff7f0e\",\"#ff7f0e\",\"#ffbb78\",\"#ffbb78\",\"#2ca02c\",\"#2ca02c\",\"#9467bd\",\"#1f77b4\",\"#ff7f0e\",\"#2ca02c\",\"#2ca02c\",\"#1f77b4\",\"#c5b0d5\",\"#c5b0d5\",\"#c5b0d5\",\"#2ca02c\",\"#2ca02c\",\"#2ca02c\",\"#1f77b4\",\"#ffbb78\",\"#98df8a\",\"#c5b0d5\",\"#ff7f0e\",\"#c5b0d5\",\"#2ca02c\",\"#98df8a\",\"#ff7f0e\",\"#1f77b4\",\"#ff7f0e\",\"#98df8a\",\"#d62728\",\"#ffbb78\",\"#d62728\",\"#ff9896\",\"#ff7f0e\",\"#9467bd\",\"#ff7f0e\",\"#ffbb78\",\"#c5b0d5\",\"#ff7f0e\",\"#2ca02c\",\"#ff7f0e\",\"#2ca02c\",\"#2ca02c\",\"#c5b0d5\",\"#c5b0d5\",\"#98df8a\",\"#9467bd\",\"#ff9896\",\"#ff7f0e\",\"#ff9896\",\"#2ca02c\",\"#ffbb78\",\"#ff7f0e\",\"#ff7f0e\",\"#d62728\",\"#ff7f0e\",\"#1f77b4\",\"#ff7f0e\",\"#2ca02c\",\"#2ca02c\",\"#98df8a\",\"#ff7f0e\",\"#1f77b4\",\"#1f77b4\",\"#ffbb78\",\"#ff7f0e\",\"#aec7e8\",\"#ff7f0e\",\"#ff7f0e\",\"#ff9896\",\"#c5b0d5\",\"#1f77b4\",\"#2ca02c\",\"#98df8a\",\"#ffbb78\",\"#aec7e8\",\"#ff9896\",\"#1f77b4\",\"#ff9896\",\"#1f77b4\",\"#ffbb78\",\"#1f77b4\",\"#2ca02c\",\"#ff7f0e\",\"#ff7f0e\",\"#2ca02c\",\"#1f77b4\",\"#ff9896\",\"#1f77b4\",\"#9467bd\"],\"names\":[\"the\",\"of\",\"and\",\"in\",\"to\",\"a\",\"was\",\"s\",\"on\",\"as\",\"for\",\"that\",\"with\",\"by\",\"is\",\"his\",\"at\",\"he\",\"it\",\"from\",\"were\",\"an\",\"had\",\"which\",\"be\",\"this\",\"but\",\"are\",\"first\",\"not\",\"their\",\"after\",\"one\",\"her\",\"also\",\"its\",\"they\",\"two\",\"or\",\"have\",\"who\",\"new\",\"been\",\"has\",\"she\",\"when\",\"time\",\"during\",\"other\",\"would\",\"into\",\"all\",\"i\",\"more\",\"while\",\"over\",\"him\",\"game\",\"later\",\"only\",\"up\",\"three\",\"most\",\"about\",\"out\",\"th\",\"between\",\"than\",\"there\",\"some\",\"film\",\"may\",\"before\",\"year\",\"no\",\"made\",\"such\",\"season\",\"second\",\"where\",\"world\",\"war\",\"years\",\"both\",\"used\",\"however\",\"then\",\"them\",\"being\",\"song\",\"through\",\"these\",\"series\",\"against\",\"m\",\"album\",\"many\",\"team\",\"north\",\"city\",\"number\",\"became\",\"several\",\"part\",\"united\",\"including\",\"can\",\"four\",\"well\",\"under\",\"early\",\"state\",\"south\",\"music\",\"so\",\"following\",\"day\",\"episode\",\"said\",\"states\",\"american\",\"did\",\"known\",\"although\",\"could\",\"work\",\"began\",\"because\",\"until\",\"released\",\"called\",\"t\",\"like\",\"high\",\"people\",\"end\",\"since\",\"british\",\"around\",\"long\",\"national\",\"best\",\"found\",\"life\",\"each\",\"same\",\"if\",\"us\",\"west\",\"september\",\"million\",\"back\",\"you\",\"five\",\"another\",\"took\",\"show\",\"any\",\"along\",\"km\",\"final\",\"area\",\"off\",\"use\",\"group\",\"august\",\"century\",\"received\",\"october\",\"school\",\"what\",\"june\",\"john\",\"will\",\"east\",\"due\",\"government\",\"line\",\"home\",\"system\",\"july\",\"march\",\"single\",\"large\",\"november\",\"third\",\"games\",\"april\",\"down\",\"much\",\"set\",\"general\",\"place\",\"york\",\"left\",\"based\",\"house\",\"family\",\"history\",\"december\",\"we\",\"major\",\"played\",\"road\",\"just\",\"king\",\"army\",\"six\",\"name\",\"january\",\"included\",\"character\",\"company\",\"band\",\"now\",\"wrote\",\"own\",\"d\",\"those\",\"won\",\"led\",\"near\",\"according\",\"men\",\"main\",\"death\",\"described\",\"within\",\"last\",\"river\",\"battle\",\"times\",\"video\",\"air\",\"st\",\"way\",\"record\",\"named\",\"still\",\"release\",\"league\",\"de\",\"very\",\"late\",\"top\",\"next\",\"make\",\"great\",\"man\",\"even\",\"original\",\"ship\",\"production\",\"route\",\"february\",\"force\",\"species\",\"public\",\"small\",\"club\",\"again\",\"storm\",\"though\",\"u\",\"days\",\"held\",\"old\",\"built\",\"french\",\"side\",\"play\",\"further\",\"among\",\"division\",\"service\",\"white\",\"story\",\"do\",\"members\",\"having\",\"b\",\"university\",\"german\",\"role\",\"power\",\"match\",\"book\",\"career\",\"continued\",\"player\",\"order\",\"often\",\"water\",\"park\",\"h\",\"came\",\"point\",\"without\",\"former\",\"local\",\"black\",\"despite\",\"town\",\"party\",\"half\",\"few\",\"considered\",\"take\",\"england\",\"period\",\"c\",\"support\",\"county\",\"moved\",\"version\",\"island\",\"different\",\"written\",\"form\",\"development\",\"english\",\"lost\",\"given\",\"forces\",\"songs\",\"court\",\"president\",\"building\",\"become\",\"military\",\"international\",\"country\",\"ii\",\"my\",\"little\",\"london\",\"tour\",\"re\",\"tropical\",\"performance\",\"church\",\"attack\",\"returned\",\"never\",\"published\",\"using\",\"similar\",\"n\",\"royal\",\"recorded\",\"lead\",\"track\",\"class\",\"gave\",\"produced\",\"street\",\"short\",\"television\",\"run\",\"live\",\"went\",\"land\",\"position\",\"children\",\"total\",\"western\",\"throughout\",\"father\",\"stated\",\"control\",\"highway\",\"aircraft\",\"include\",\"women\",\"per\",\"ships\",\"good\",\"week\",\"how\",\"himself\",\"right\",\"upon\",\"star\",\"making\",\"fire\",\"once\",\"love\",\"me\",\"light\",\"design\",\"australia\",\"age\",\"characters\",\"players\",\"less\",\"head\",\"central\",\"remained\",\"title\",\"young\",\"away\",\"across\",\"seven\",\"months\",\"writing\",\"return\",\"political\",\"ft\",\"result\",\"law\",\"night\",\"ten\",\"rock\",\"e\",\"instead\",\"sea\",\"areas\",\"developed\",\"red\",\"station\",\"died\",\"southern\",\"low\",\"r\",\"previous\",\"james\",\"japanese\",\"office\",\"reported\",\"race\",\"hurricane\",\"too\",\"various\",\"noted\",\"field\",\"america\",\"eight\",\"william\",\"felt\",\"win\",\"center\",\"construction\",\"announced\",\"created\",\"sent\",\"son\",\"reached\",\"college\",\"style\",\"eventually\",\"followed\",\"miles\",\"common\",\"act\",\"served\",\"mm\",\"full\",\"northern\",\"performed\",\"should\",\"together\",\"seen\",\"award\",\"chart\",\"taken\",\"level\",\"member\",\"success\",\"george\",\"feet\",\"located\",\"range\",\"able\",\"works\",\"project\",\"body\",\"modern\",\"established\",\"front\",\"action\",\"killed\",\"thought\",\"born\",\"campaign\",\"others\",\"points\",\"get\",\"originally\",\"post\",\"football\",\"features\",\"special\",\"australian\",\"added\",\"caused\",\"appeared\",\"addition\",\"playing\",\"stage\",\"critics\",\"rather\",\"decided\",\"started\",\"fourth\",\"bridge\",\"see\",\"heavy\",\"o\",\"behind\",\"formed\",\"f\",\"go\",\"strong\",\"soon\",\"site\",\"present\",\"fleet\",\"saw\",\"popular\",\"eastern\",\"sold\",\"completed\",\"close\",\"championship\",\"david\",\"almost\",\"director\",\"command\",\"art\",\"mother\",\"non\",\"important\",\"population\",\"kingdom\",\"region\",\"free\",\"every\",\"leading\",\"coast\",\"towards\",\"open\",\"ground\",\"damage\",\"awards\",\"france\",\"worked\",\"l\",\"initially\",\"weeks\",\"guns\",\"case\",\"recording\",\"sound\",\"opened\",\"cup\",\"working\",\"michael\",\"put\",\"hall\",\"scored\",\"wanted\",\"help\",\"union\",\"ever\",\"mi\",\"henry\",\"event\",\"generally\",\"victory\",\"scene\",\"least\",\"navy\",\"placed\",\"brought\",\"troops\",\"wife\",\"featured\",\"records\",\"washington\",\"provided\",\"does\",\"either\",\"magazine\",\"hit\",\"example\",\"average\",\"allowed\",\"training\",\"studio\",\"mid\",\"far\",\"events\",\"europe\",\"opening\",\"summer\",\"believed\",\"nine\",\"hours\",\"designed\",\"council\",\"human\",\"start\",\"runs\",\"joined\",\"co\",\"japan\",\"list\",\"robert\",\"official\",\"replaced\",\"brown\",\"process\",\"earlier\",\"minutes\",\"rest\",\"crew\",\"met\",\"possible\",\"films\",\"base\",\"police\",\"saying\",\"media\",\"involved\",\"operation\",\"x\",\"better\",\"squadron\",\"al\",\"captain\",\"come\",\"beginning\",\"mph\",\"forced\",\"review\",\"significant\",\"highest\",\"european\",\"society\",\"available\",\"test\",\"shot\",\"change\",\"association\",\"turned\",\"month\",\"finished\",\"taking\",\"big\",\"radio\",\"successful\",\"real\",\"reviews\",\"section\",\"research\",\"ended\",\"units\",\"move\",\"business\",\"middle\",\"social\",\"largest\",\"particularly\",\"goal\",\"outside\",\"praised\",\"community\",\"appearance\",\"previously\",\"going\",\"stone\",\"enough\",\"winds\",\"signed\",\"additional\",\"future\",\"cast\",\"must\",\"increased\",\"hill\",\"space\",\"charles\",\"thus\",\"san\",\"passed\",\"above\",\"round\",\"relationship\",\"find\",\"lower\",\"cross\",\"attempt\",\"ordered\",\"canada\",\"type\",\"program\",\"musical\",\"chief\",\"positive\",\"infantry\",\"thomas\",\"committee\",\"board\",\"groups\",\"rights\",\"lake\",\"spent\",\"gun\",\"elements\",\"critical\",\"california\",\"failed\",\"gold\",\"lines\",\"directed\",\"don\",\"parts\",\"female\",\"staff\",\"personal\",\"give\",\"port\",\"plan\",\"paul\",\"told\",\"v\",\"required\",\"interest\",\"background\",\"room\",\"castle\",\"brother\",\"money\",\"india\",\"cover\",\"g\",\"entire\",\"hand\",\"overall\",\"germany\",\"term\",\"itself\",\"complete\",\"prior\",\"sometimes\",\"already\",\"district\",\"past\",\"our\",\"students\",\"reception\",\"grand\",\"news\",\"square\",\"green\",\"claimed\",\"ny\",\"score\",\"whom\",\"battalion\",\"study\",\"uk\",\"evidence\",\"car\",\"speed\",\"election\",\"press\",\"arrived\",\"asked\",\"quickly\",\"novel\",\"whose\",\"la\",\"smith\",\"effects\",\"introduced\",\"p\",\"commander\",\"response\",\"bill\",\"minister\",\"peter\",\"governor\",\"food\",\"loss\",\"idea\",\"usually\",\"surface\",\"fifth\",\"mark\",\"plot\",\"indian\",\"issue\",\"blue\",\"woman\",\"becoming\",\"stars\",\"services\",\"turn\",\"entered\",\"episodes\",\"earth\",\"movement\",\"voice\",\"limited\",\"education\",\"especially\",\"queen\",\"person\",\"civil\",\"larger\",\"latter\",\"defeated\",\"changes\",\"leaving\",\"science\",\"suggested\",\"decision\",\"carried\",\"material\",\"length\",\"commercial\",\"leader\",\"scenes\",\"cut\",\"village\",\"virginia\",\"industry\",\"anti\",\"debut\",\"teams\",\"view\",\"higher\",\"god\",\"structure\",\"richard\",\"department\",\"influence\",\"pressure\",\"flight\",\"shortly\",\"operations\",\"britain\",\"proposed\",\"running\",\"writer\",\"k\",\"might\",\"report\",\"bay\",\"empire\",\"remaining\",\"islands\",\"estimated\",\"course\",\"centre\",\"shows\",\"self\",\"language\",\"date\",\"appointed\",\"tracks\",\"daughter\",\"finally\",\"los\",\"experience\",\"fact\",\"size\",\"today\",\"approximately\",\"depression\",\"pop\",\"current\",\"living\",\"fans\",\"wide\",\"create\",\"brigade\",\"child\",\"lack\",\"compared\",\"manager\",\"subsequently\",\"nearly\",\"nature\",\"dark\",\"destroyed\",\"intended\",\"winning\",\"naval\",\"face\",\"nd\",\"immediately\",\"hot\",\"supported\",\"provide\",\"health\",\"regular\",\"regiment\",\"soldiers\",\"cm\",\"awarded\",\"spanish\",\"longer\",\"producer\",\"married\",\"soviet\",\"railway\",\"associated\",\"themselves\",\"whether\",\"professional\",\"ball\",\"cost\",\"network\",\"agreed\",\"captured\",\"natural\",\"moving\",\"museum\",\"done\",\"percent\",\"key\",\"initial\",\"federal\",\"trade\",\"private\",\"extended\",\"contract\",\"friend\",\"related\",\"appear\",\"chinese\",\"upper\",\"jackson\",\"effect\",\"issued\",\"really\",\"edward\",\"officers\",\"feature\",\"officer\",\"chicago\",\"something\",\"helped\",\"your\",\"billboard\",\"minor\",\"lyrics\",\"remains\",\"friends\",\"plans\",\"fort\",\"mixed\",\"mostly\",\"lord\",\"planned\",\"conference\",\"books\",\"countries\",\"buildings\",\"dance\",\"difficult\",\"always\",\"corps\",\"information\",\"got\",\"leave\",\"status\",\"location\",\"j\",\"yet\",\"changed\",\"ran\",\"singles\",\"energy\",\"forward\",\"probably\",\"problems\",\"pacific\",\"majority\",\"fell\",\"roman\",\"mary\",\"guitar\",\"via\",\"china\",\"inspired\",\"atlantic\",\"offered\",\"singer\",\"includes\",\"wind\",\"fight\",\"keep\",\"creek\",\"makes\",\"florida\",\"removed\",\"allow\"],\"x1\":{\"__ndarray__\":\"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\",\"dtype\":\"float64\",\"shape\":[1000]},\"x2\":{\"__ndarray__\":\"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\",\"dtype\":\"float64\",\"shape\":[1000]}}},\"id\":\"6edd5a16-783d-4300-bedb-65e4b5141674\",\"type\":\"ColumnDataSource\"},{\"attributes\":{\"fill_color\":{\"field\":\"colors\"},\"line_color\":{\"value\":null},\"size\":{\"units\":\"screen\",\"value\":8},\"x\":{\"field\":\"x1\"},\"y\":{\"field\":\"x2\"}},\"id\":\"07bae236-af99-474f-bd99-2f39c890d504\",\"type\":\"Circle\"},{\"attributes\":{\"active_drag\":\"auto\",\"active_scroll\":\"auto\",\"active_tap\":\"auto\",\"tools\":[{\"id\":\"7217b6a7-ab2f-44a0-9044-45722f64ecad\",\"type\":\"PanTool\"},{\"id\":\"fc061b87-233a-4813-b6cd-121a36f7ace1\",\"type\":\"WheelZoomTool\"},{\"id\":\"3a444eea-56a5-45da-98db-3884654b8321\",\"type\":\"ResetTool\"},{\"id\":\"d1faeb38-7058-462e-bcc9-bd27492a95bd\",\"type\":\"SaveTool\"}]},\"id\":\"63fc5214-ac68-45ad-84b7-bafec9ceae6a\",\"type\":\"Toolbar\"},{\"attributes\":{\"plot\":{\"id\":\"96ca5730-b684-4be3-bb12-5f7673906ecc\",\"subtype\":\"Figure\",\"type\":\"Plot\"},\"source\":{\"id\":\"6edd5a16-783d-4300-bedb-65e4b5141674\",\"type\":\"ColumnDataSource\"},\"text\":{\"field\":\"names\"},\"text_align\":\"center\",\"text_color\":{\"field\":\"colors\"},\"text_font_size\":{\"value\":\"8pt\"},\"x\":{\"field\":\"x1\"},\"y\":{\"field\":\"x2\"},\"y_offset\":{\"value\":6}},\"id\":\"cd87c663-cc4a-45dc-98af-74cb3d3caaa7\",\"type\":\"LabelSet\"},{\"attributes\":{},\"id\":\"9be2da81-4b30-4087-9f71-3a0be57cc102\",\"type\":\"BasicTickFormatter\"},{\"attributes\":{\"plot\":{\"id\":\"96ca5730-b684-4be3-bb12-5f7673906ecc\",\"subtype\":\"Figure\",\"type\":\"Plot\"}},\"id\":\"fc061b87-233a-4813-b6cd-121a36f7ace1\",\"type\":\"WheelZoomTool\"},{\"attributes\":{\"callback\":null},\"id\":\"e1a5d3cb-71e9-4b1f-ac3f-69824eb01461\",\"type\":\"DataRange1d\"},{\"attributes\":{\"plot\":{\"id\":\"96ca5730-b684-4be3-bb12-5f7673906ecc\",\"subtype\":\"Figure\",\"type\":\"Plot\"}},\"id\":\"7217b6a7-ab2f-44a0-9044-45722f64ecad\",\"type\":\"PanTool\"},{\"attributes\":{},\"id\":\"56b644d0-7522-4278-9635-e4e37f6fd5f0\",\"type\":\"BasicTicker\"},{\"attributes\":{},\"id\":\"2816842f-ab0f-4efb-8ed4-6f1c99b30432\",\"type\":\"BasicTicker\"},{\"attributes\":{\"callback\":null},\"id\":\"038fbff5-333f-4264-99e8-7ed8e3aad2c0\",\"type\":\"DataRange1d\"},{\"attributes\":{},\"id\":\"7d1f913c-e41a-408c-bf7d-791d3c334f67\",\"type\":\"BasicTickFormatter\"}],\"root_ids\":[\"96ca5730-b684-4be3-bb12-5f7673906ecc\"]},\"title\":\"Bokeh Application\",\"version\":\"0.12.4\"}};\n",
       "            var render_items = [{\"docid\":\"39108ffc-f6b4-46f2-902c-e3e08df89652\",\"elementid\":\"4fbc6bc2-4acc-436a-ae77-5fd6815a6275\",\"modelid\":\"96ca5730-b684-4be3-bb12-5f7673906ecc\"}];\n",
       "            \n",
       "            Bokeh.embed.embed_items(docs_json, render_items);\n",
       "          };\n",
       "          if (document.readyState != \"loading\") fn();\n",
       "          else document.addEventListener(\"DOMContentLoaded\", fn);\n",
       "        })();\n",
       "      },\n",
       "      function(Bokeh) {\n",
       "      }\n",
       "    ];\n",
       "  \n",
       "    function run_inline_js() {\n",
       "      \n",
       "      if ((window.Bokeh !== undefined) || (force === true)) {\n",
       "        for (var i = 0; i < inline_js.length; i++) {\n",
       "          inline_js[i](window.Bokeh);\n",
       "        }if (force === true) {\n",
       "          display_loaded();\n",
       "        }} else if (Date.now() < window._bokeh_timeout) {\n",
       "        setTimeout(run_inline_js, 100);\n",
       "      } else if (!window._bokeh_failed_load) {\n",
       "        console.log(\"Bokeh: BokehJS failed to load within specified timeout.\");\n",
       "        window._bokeh_failed_load = true;\n",
       "      } else if (force !== true) {\n",
       "        var cell = $(document.getElementById(\"4fbc6bc2-4acc-436a-ae77-5fd6815a6275\")).parents('.cell').data().cell;\n",
       "        cell.output_area.append_execute_result(NB_LOAD_WARNING)\n",
       "      }\n",
       "  \n",
       "    }\n",
       "  \n",
       "    if (window._bokeh_is_loading === 0) {\n",
       "      console.log(\"Bokeh: BokehJS loaded, going straight to plotting\");\n",
       "      run_inline_js();\n",
       "    } else {\n",
       "      load_libs(js_urls, function() {\n",
       "        console.log(\"Bokeh: BokehJS plotting callback run at\", now());\n",
       "        run_inline_js();\n",
       "      });\n",
       "    }\n",
       "  }(this));\n",
       "</script>"
      ]
     },
     "metadata": {},
     "output_type": "display_data"
    }
   ],
   "source": [
    "tsne = TSNE(n_components=2, random_state=0)\n",
    "words_top_wiki_tsne = tsne.fit_transform(words_top_vec_wiki)\n",
    "\n",
    "p = figure(tools=\"pan,wheel_zoom,reset,save\",\n",
    "           toolbar_location=\"above\",\n",
    "           title=\"word2vec T-SNE for most common words\")\n",
    "\n",
    "source = ColumnDataSource(data=dict(x1=words_top_wiki_tsne[:,0],\n",
    "                                    x2=words_top_wiki_tsne[:,1],\n",
    "                                    colors=colors,\n",
    "                                    names=words_top_wiki))\n",
    "\n",
    "p.scatter(x=\"x1\", y=\"x2\", size=8, fill_color=\"colors\", line_color=None, source=source)\n",
    "\n",
    "labels = LabelSet(x=\"x1\", y=\"x2\", text=\"names\", y_offset=6,\n",
    "                  text_font_size=\"8pt\", text_color=\"colors\",\n",
    "                  source=source, text_align='center')\n",
    "p.add_layout(labels)\n",
    "\n",
    "show(p)"
   ]
  }
 ],
 "metadata": {
  "anaconda-cloud": {},
  "kernelspec": {
   "display_name": "Python [conda root]",
   "language": "python",
   "name": "conda-root-py"
  },
  "language_info": {
   "codemirror_mode": {
    "name": "ipython",
    "version": 3
   },
   "file_extension": ".py",
   "mimetype": "text/x-python",
   "name": "python",
   "nbconvert_exporter": "python",
   "pygments_lexer": "ipython3",
   "version": "3.5.2"
  }
 },
 "nbformat": 4,
 "nbformat_minor": 0
}
