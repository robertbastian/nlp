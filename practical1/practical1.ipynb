{
 "cells": [
  {
   "cell_type": "markdown",
   "metadata": {},
   "source": [
    "## Practical 1: word2vec\n",
    "Oxford CS - Deep NLP 2017<br>\n",
    "https://www.cs.ox.ac.uk/teaching/courses/2016-2017/dl/"
   ]
  },
  {
   "cell_type": "markdown",
   "metadata": {},
   "source": [
    "This practical is presented as an IPython Notebook, with the code written for recent versions of **Python 3**. The code in this practical will not work with Python 2 unless you modify it. If you are using your own Python installation, ensure you have a setup identical to that described in the installation shell script (which is intended for use with the department lab machines). We will be unable to support installation on personal machines due to time constraints, so please use the lab machines and the setup script if you are unfamiliar with how to install Anaconda.\n",
    "\n",
    "To execute a notebook cell, press `shift-enter`. The return value of the last command will be displayed, if it is not `None`.\n",
    "\n",
    "Potentially useful library documentation, references, and resources:\n",
    "\n",
    "* IPython notebooks: <https://ipython.org/ipython-doc/3/notebook/notebook.html#introduction>\n",
    "* Numpy numerical array library: <https://docs.scipy.org/doc/>\n",
    "* Gensim's word2vec: <https://radimrehurek.com/gensim/models/word2vec.html>\n",
    "* Bokeh interactive plots: <http://bokeh.pydata.org/en/latest/> (we provide plotting code here, but click the thumbnails for more examples to copy-paste)\n",
    "* scikit-learn ML library (aka `sklearn`): <http://scikit-learn.org/stable/documentation.html>\n",
    "* nltk NLP toolkit: <http://www.nltk.org/>\n",
    "* tutorial for processing xml in python using `lxml`: <http://lxml.de/tutorial.html> (we did this for you below, but in case you need it in the future)"
   ]
  },
  {
   "cell_type": "code",
   "execution_count": 82,
   "metadata": {
    "collapsed": false
   },
   "outputs": [],
   "source": [
    "import numpy as np\n",
    "import os\n",
    "from random import shuffle\n",
    "import re"
   ]
  },
  {
   "cell_type": "code",
   "execution_count": 83,
   "metadata": {
    "collapsed": false
   },
   "outputs": [
    {
     "data": {
      "text/html": [
       "\n",
       "    <div class=\"bk-root\">\n",
       "        <a href=\"http://bokeh.pydata.org\" target=\"_blank\" class=\"bk-logo bk-logo-small bk-logo-notebook\"></a>\n",
       "        <span id=\"d1d21734-0786-487b-a4f0-15e04554a574\">Loading BokehJS ...</span>\n",
       "    </div>"
      ]
     },
     "metadata": {},
     "output_type": "display_data"
    },
    {
     "data": {
      "application/javascript": [
       "\n",
       "(function(global) {\n",
       "  function now() {\n",
       "    return new Date();\n",
       "  }\n",
       "\n",
       "  var force = true;\n",
       "\n",
       "  if (typeof (window._bokeh_onload_callbacks) === \"undefined\" || force === true) {\n",
       "    window._bokeh_onload_callbacks = [];\n",
       "    window._bokeh_is_loading = undefined;\n",
       "  }\n",
       "\n",
       "\n",
       "  \n",
       "  if (typeof (window._bokeh_timeout) === \"undefined\" || force === true) {\n",
       "    window._bokeh_timeout = Date.now() + 5000;\n",
       "    window._bokeh_failed_load = false;\n",
       "  }\n",
       "\n",
       "  var NB_LOAD_WARNING = {'data': {'text/html':\n",
       "     \"<div style='background-color: #fdd'>\\n\"+\n",
       "     \"<p>\\n\"+\n",
       "     \"BokehJS does not appear to have successfully loaded. If loading BokehJS from CDN, this \\n\"+\n",
       "     \"may be due to a slow or bad network connection. Possible fixes:\\n\"+\n",
       "     \"</p>\\n\"+\n",
       "     \"<ul>\\n\"+\n",
       "     \"<li>re-rerun `output_notebook()` to attempt to load from CDN again, or</li>\\n\"+\n",
       "     \"<li>use INLINE resources instead, as so:</li>\\n\"+\n",
       "     \"</ul>\\n\"+\n",
       "     \"<code>\\n\"+\n",
       "     \"from bokeh.resources import INLINE\\n\"+\n",
       "     \"output_notebook(resources=INLINE)\\n\"+\n",
       "     \"</code>\\n\"+\n",
       "     \"</div>\"}};\n",
       "\n",
       "  function display_loaded() {\n",
       "    if (window.Bokeh !== undefined) {\n",
       "      document.getElementById(\"d1d21734-0786-487b-a4f0-15e04554a574\").textContent = \"BokehJS successfully loaded.\";\n",
       "    } else if (Date.now() < window._bokeh_timeout) {\n",
       "      setTimeout(display_loaded, 100)\n",
       "    }\n",
       "  }\n",
       "\n",
       "  function run_callbacks() {\n",
       "    window._bokeh_onload_callbacks.forEach(function(callback) { callback() });\n",
       "    delete window._bokeh_onload_callbacks\n",
       "    console.info(\"Bokeh: all callbacks have finished\");\n",
       "  }\n",
       "\n",
       "  function load_libs(js_urls, callback) {\n",
       "    window._bokeh_onload_callbacks.push(callback);\n",
       "    if (window._bokeh_is_loading > 0) {\n",
       "      console.log(\"Bokeh: BokehJS is being loaded, scheduling callback at\", now());\n",
       "      return null;\n",
       "    }\n",
       "    if (js_urls == null || js_urls.length === 0) {\n",
       "      run_callbacks();\n",
       "      return null;\n",
       "    }\n",
       "    console.log(\"Bokeh: BokehJS not loaded, scheduling load and callback at\", now());\n",
       "    window._bokeh_is_loading = js_urls.length;\n",
       "    for (var i = 0; i < js_urls.length; i++) {\n",
       "      var url = js_urls[i];\n",
       "      var s = document.createElement('script');\n",
       "      s.src = url;\n",
       "      s.async = false;\n",
       "      s.onreadystatechange = s.onload = function() {\n",
       "        window._bokeh_is_loading--;\n",
       "        if (window._bokeh_is_loading === 0) {\n",
       "          console.log(\"Bokeh: all BokehJS libraries loaded\");\n",
       "          run_callbacks()\n",
       "        }\n",
       "      };\n",
       "      s.onerror = function() {\n",
       "        console.warn(\"failed to load library \" + url);\n",
       "      };\n",
       "      console.log(\"Bokeh: injecting script tag for BokehJS library: \", url);\n",
       "      document.getElementsByTagName(\"head\")[0].appendChild(s);\n",
       "    }\n",
       "  };var element = document.getElementById(\"d1d21734-0786-487b-a4f0-15e04554a574\");\n",
       "  if (element == null) {\n",
       "    console.log(\"Bokeh: ERROR: autoload.js configured with elementid 'd1d21734-0786-487b-a4f0-15e04554a574' but no matching script tag was found. \")\n",
       "    return false;\n",
       "  }\n",
       "\n",
       "  var js_urls = [\"https://cdn.pydata.org/bokeh/release/bokeh-0.12.4.min.js\", \"https://cdn.pydata.org/bokeh/release/bokeh-widgets-0.12.4.min.js\"];\n",
       "\n",
       "  var inline_js = [\n",
       "    function(Bokeh) {\n",
       "      Bokeh.set_log_level(\"info\");\n",
       "    },\n",
       "    \n",
       "    function(Bokeh) {\n",
       "      \n",
       "      document.getElementById(\"d1d21734-0786-487b-a4f0-15e04554a574\").textContent = \"BokehJS is loading...\";\n",
       "    },\n",
       "    function(Bokeh) {\n",
       "      console.log(\"Bokeh: injecting CSS: https://cdn.pydata.org/bokeh/release/bokeh-0.12.4.min.css\");\n",
       "      Bokeh.embed.inject_css(\"https://cdn.pydata.org/bokeh/release/bokeh-0.12.4.min.css\");\n",
       "      console.log(\"Bokeh: injecting CSS: https://cdn.pydata.org/bokeh/release/bokeh-widgets-0.12.4.min.css\");\n",
       "      Bokeh.embed.inject_css(\"https://cdn.pydata.org/bokeh/release/bokeh-widgets-0.12.4.min.css\");\n",
       "    }\n",
       "  ];\n",
       "\n",
       "  function run_inline_js() {\n",
       "    \n",
       "    if ((window.Bokeh !== undefined) || (force === true)) {\n",
       "      for (var i = 0; i < inline_js.length; i++) {\n",
       "        inline_js[i](window.Bokeh);\n",
       "      }if (force === true) {\n",
       "        display_loaded();\n",
       "      }} else if (Date.now() < window._bokeh_timeout) {\n",
       "      setTimeout(run_inline_js, 100);\n",
       "    } else if (!window._bokeh_failed_load) {\n",
       "      console.log(\"Bokeh: BokehJS failed to load within specified timeout.\");\n",
       "      window._bokeh_failed_load = true;\n",
       "    } else if (force !== true) {\n",
       "      var cell = $(document.getElementById(\"d1d21734-0786-487b-a4f0-15e04554a574\")).parents('.cell').data().cell;\n",
       "      cell.output_area.append_execute_result(NB_LOAD_WARNING)\n",
       "    }\n",
       "\n",
       "  }\n",
       "\n",
       "  if (window._bokeh_is_loading === 0) {\n",
       "    console.log(\"Bokeh: BokehJS loaded, going straight to plotting\");\n",
       "    run_inline_js();\n",
       "  } else {\n",
       "    load_libs(js_urls, function() {\n",
       "      console.log(\"Bokeh: BokehJS plotting callback run at\", now());\n",
       "      run_inline_js();\n",
       "    });\n",
       "  }\n",
       "}(this));"
      ]
     },
     "metadata": {},
     "output_type": "display_data"
    }
   ],
   "source": [
    "from bokeh.models import ColumnDataSource, LabelSet\n",
    "from bokeh.plotting import figure, show, output_file\n",
    "from bokeh.io import output_notebook\n",
    "output_notebook()"
   ]
  },
  {
   "cell_type": "markdown",
   "metadata": {},
   "source": [
    "### Part 0: Download the TED dataset"
   ]
  },
  {
   "cell_type": "code",
   "execution_count": 84,
   "metadata": {
    "collapsed": false
   },
   "outputs": [],
   "source": [
    "import urllib.request\n",
    "import zipfile\n",
    "import lxml.etree"
   ]
  },
  {
   "cell_type": "code",
   "execution_count": 85,
   "metadata": {
    "collapsed": false
   },
   "outputs": [],
   "source": [
    "# Download the dataset if it's not already there: this may take a minute as it is 75MB\n",
    "if not os.path.isfile('ted_en-20160408.zip'):\n",
    "    urllib.request.urlretrieve(\"https://wit3.fbk.eu/get.php?path=XML_releases/xml/ted_en-20160408.zip&filename=ted_en-20160408.zip\", filename=\"ted_en-20160408.zip\")"
   ]
  },
  {
   "cell_type": "code",
   "execution_count": 86,
   "metadata": {
    "collapsed": true
   },
   "outputs": [],
   "source": [
    "# For now, we're only interested in the subtitle text, so let's extract that from the XML:\n",
    "with zipfile.ZipFile('ted_en-20160408.zip', 'r') as z:\n",
    "    doc = lxml.etree.parse(z.open('ted_en-20160408.xml', 'r'))\n",
    "input_text = '\\n'.join(doc.xpath('//content/text()'))\n",
    "del doc"
   ]
  },
  {
   "cell_type": "markdown",
   "metadata": {},
   "source": [
    "### Part 1: Preprocessing\n",
    "\n",
    "In this part, we attempt to clean up the raw subtitles a bit, so that we get only sentences. The following substring shows examples of what we're trying to get rid of. Since it's hard to define precisely what we want to get rid of, we'll just use some simple heuristics."
   ]
  },
  {
   "cell_type": "code",
   "execution_count": 87,
   "metadata": {
    "collapsed": false,
    "scrolled": false
   },
   "outputs": [
    {
     "data": {
      "text/plain": [
       "' baby does.\\n(Video) Hyowon Gweon: See this? (Ball squeaks) Did you see that? (Ball squeaks) Cool. See this one? (Ball squeaks) Wow.\\nLaura Schulz: Told you. (Laughs)\\n(Vide'"
      ]
     },
     "execution_count": 87,
     "metadata": {},
     "output_type": "execute_result"
    }
   ],
   "source": [
    "i = input_text.find(\"Hyowon Gweon: See this?\")\n",
    "input_text[i-20:i+150]"
   ]
  },
  {
   "cell_type": "markdown",
   "metadata": {},
   "source": [
    "Let's start by removing all parenthesized strings using a regex:"
   ]
  },
  {
   "cell_type": "code",
   "execution_count": 88,
   "metadata": {
    "collapsed": true
   },
   "outputs": [],
   "source": [
    "input_text_noparens = re.sub(r'\\([^)]*\\)', '', input_text)"
   ]
  },
  {
   "cell_type": "markdown",
   "metadata": {},
   "source": [
    "We can verify the same location in the text is now clean as follows. We won't worry about the irregular spaces since we'll later split the text into sentences and tokenize it anyway."
   ]
  },
  {
   "cell_type": "code",
   "execution_count": 89,
   "metadata": {
    "collapsed": false
   },
   "outputs": [
    {
     "data": {
      "text/plain": [
       "\"hat the baby does.\\n Hyowon Gweon: See this?  Did you see that?  Cool. See this one?  Wow.\\nLaura Schulz: Told you. \\n HG: See this one?  Hey Clara, this one's for you. You \""
      ]
     },
     "execution_count": 89,
     "metadata": {},
     "output_type": "execute_result"
    }
   ],
   "source": [
    "i = input_text_noparens.find(\"Hyowon Gweon: See this?\")\n",
    "input_text_noparens[i-20:i+150]"
   ]
  },
  {
   "cell_type": "markdown",
   "metadata": {},
   "source": [
    "Now, let's attempt to remove speakers' names that occur at the beginning of a line, by deleting pieces of the form \"`<up to 20 characters>:`\", as shown in this example. Of course, this is an imperfect heuristic. "
   ]
  },
  {
   "cell_type": "code",
   "execution_count": 90,
   "metadata": {
    "collapsed": false
   },
   "outputs": [
    {
     "data": {
      "text/plain": [
       "[\"Here are two reasons companies fail: they only do more of the same, or they only do what's new\",\n",
       " 'To me the real, real solution to quality growth is figuring out the balance between two activities: exploration and exploitation',\n",
       " ' Both are necessary, but it can be too much of a good thing',\n",
       " 'Consider Facit',\n",
       " \" I'm actually old enough to remember them\"]"
      ]
     },
     "execution_count": 90,
     "metadata": {},
     "output_type": "execute_result"
    }
   ],
   "source": [
    "sentences_strings_ted = []\n",
    "for line in input_text_noparens.split('\\n'):\n",
    "    m = re.match(r'^(?:(?P<precolon>[^:]{,20}):)?(?P<postcolon>.*)$', line)\n",
    "    sentences_strings_ted.extend(sent for sent in m.groupdict()['postcolon'].split('.') if sent)\n",
    "\n",
    "# Uncomment if you need to save some RAM: these strings are about 50MB.\n",
    "# del input_text, input_text_noparens\n",
    "\n",
    "# Let's view the first few:\n",
    "sentences_strings_ted[:5]"
   ]
  },
  {
   "cell_type": "markdown",
   "metadata": {},
   "source": [
    "Now that we have sentences, we're ready to tokenize each of them into words. This tokenization is imperfect, of course. For instance, how many tokens is \"can't\", and where/how do we split it? We'll take the simplest naive approach of splitting on spaces. Before splitting, we remove non-alphanumeric characters, such as punctuation. You may want to consider the following question: why do we replace these characters with spaces rather than deleting them? Think of a case where this yields a different answer."
   ]
  },
  {
   "cell_type": "code",
   "execution_count": 91,
   "metadata": {
    "collapsed": false
   },
   "outputs": [],
   "source": [
    "sentences_ted = []\n",
    "for sent_str in sentences_strings_ted:\n",
    "    tokens = re.sub(r\"[^a-z0-9]+\", \" \", sent_str.lower()).split()\n",
    "    sentences_ted.append(tokens)"
   ]
  },
  {
   "cell_type": "markdown",
   "metadata": {},
   "source": [
    "Two sample processed sentences:"
   ]
  },
  {
   "cell_type": "code",
   "execution_count": 92,
   "metadata": {
    "collapsed": false
   },
   "outputs": [
    {
     "data": {
      "text/plain": [
       "266694"
      ]
     },
     "execution_count": 92,
     "metadata": {},
     "output_type": "execute_result"
    }
   ],
   "source": [
    "len(sentences_ted)"
   ]
  },
  {
   "cell_type": "code",
   "execution_count": 93,
   "metadata": {
    "collapsed": false
   },
   "outputs": [
    {
     "name": "stdout",
     "output_type": "stream",
     "text": [
      "['here', 'are', 'two', 'reasons', 'companies', 'fail', 'they', 'only', 'do', 'more', 'of', 'the', 'same', 'or', 'they', 'only', 'do', 'what', 's', 'new']\n",
      "['to', 'me', 'the', 'real', 'real', 'solution', 'to', 'quality', 'growth', 'is', 'figuring', 'out', 'the', 'balance', 'between', 'two', 'activities', 'exploration', 'and', 'exploitation']\n"
     ]
    }
   ],
   "source": [
    "print(sentences_ted[0])\n",
    "print(sentences_ted[1])"
   ]
  },
  {
   "cell_type": "markdown",
   "metadata": {},
   "source": [
    "### Part 2: Word Frequencies"
   ]
  },
  {
   "cell_type": "markdown",
   "metadata": {},
   "source": [
    "If you store the counts of the top 1000 words in a list called `counts_ted_top1000`, the code below will plot the histogram requested in the writeup."
   ]
  },
  {
   "cell_type": "code",
   "execution_count": 94,
   "metadata": {
    "collapsed": false
   },
   "outputs": [
    {
     "name": "stdout",
     "output_type": "stream",
     "text": [
      "[('the', 207748), ('and', 149305), ('to', 125169), ('of', 114818), ('a', 105399), ('that', 95146), ('i', 83180), ('in', 78070), ('it', 74738), ('you', 70923)]\n"
     ]
    }
   ],
   "source": [
    "from collections import Counter\n",
    "counts = Counter()\n",
    "for sentence in sentences_ted:\n",
    "    for word in sentence:\n",
    "        counts[word] += 1\n",
    "print(counts.most_common(10))\n",
    "words_top_ted, counts_ted_top1000 = zip(*counts.most_common(1000))"
   ]
  },
  {
   "cell_type": "markdown",
   "metadata": {},
   "source": [
    "Plot distribution of top-1000 words"
   ]
  },
  {
   "cell_type": "code",
   "execution_count": 95,
   "metadata": {
    "collapsed": false
   },
   "outputs": [
    {
     "data": {
      "text/html": [
       "\n",
       "\n",
       "    <div class=\"bk-root\">\n",
       "        <div class=\"bk-plotdiv\" id=\"c1bb37aa-6460-4932-8738-f6c9c8b1c1f1\"></div>\n",
       "    </div>\n",
       "<script type=\"text/javascript\">\n",
       "  \n",
       "  (function(global) {\n",
       "    function now() {\n",
       "      return new Date();\n",
       "    }\n",
       "  \n",
       "    var force = false;\n",
       "  \n",
       "    if (typeof (window._bokeh_onload_callbacks) === \"undefined\" || force === true) {\n",
       "      window._bokeh_onload_callbacks = [];\n",
       "      window._bokeh_is_loading = undefined;\n",
       "    }\n",
       "  \n",
       "  \n",
       "    \n",
       "    if (typeof (window._bokeh_timeout) === \"undefined\" || force === true) {\n",
       "      window._bokeh_timeout = Date.now() + 0;\n",
       "      window._bokeh_failed_load = false;\n",
       "    }\n",
       "  \n",
       "    var NB_LOAD_WARNING = {'data': {'text/html':\n",
       "       \"<div style='background-color: #fdd'>\\n\"+\n",
       "       \"<p>\\n\"+\n",
       "       \"BokehJS does not appear to have successfully loaded. If loading BokehJS from CDN, this \\n\"+\n",
       "       \"may be due to a slow or bad network connection. Possible fixes:\\n\"+\n",
       "       \"</p>\\n\"+\n",
       "       \"<ul>\\n\"+\n",
       "       \"<li>re-rerun `output_notebook()` to attempt to load from CDN again, or</li>\\n\"+\n",
       "       \"<li>use INLINE resources instead, as so:</li>\\n\"+\n",
       "       \"</ul>\\n\"+\n",
       "       \"<code>\\n\"+\n",
       "       \"from bokeh.resources import INLINE\\n\"+\n",
       "       \"output_notebook(resources=INLINE)\\n\"+\n",
       "       \"</code>\\n\"+\n",
       "       \"</div>\"}};\n",
       "  \n",
       "    function display_loaded() {\n",
       "      if (window.Bokeh !== undefined) {\n",
       "        document.getElementById(\"c1bb37aa-6460-4932-8738-f6c9c8b1c1f1\").textContent = \"BokehJS successfully loaded.\";\n",
       "      } else if (Date.now() < window._bokeh_timeout) {\n",
       "        setTimeout(display_loaded, 100)\n",
       "      }\n",
       "    }\n",
       "  \n",
       "    function run_callbacks() {\n",
       "      window._bokeh_onload_callbacks.forEach(function(callback) { callback() });\n",
       "      delete window._bokeh_onload_callbacks\n",
       "      console.info(\"Bokeh: all callbacks have finished\");\n",
       "    }\n",
       "  \n",
       "    function load_libs(js_urls, callback) {\n",
       "      window._bokeh_onload_callbacks.push(callback);\n",
       "      if (window._bokeh_is_loading > 0) {\n",
       "        console.log(\"Bokeh: BokehJS is being loaded, scheduling callback at\", now());\n",
       "        return null;\n",
       "      }\n",
       "      if (js_urls == null || js_urls.length === 0) {\n",
       "        run_callbacks();\n",
       "        return null;\n",
       "      }\n",
       "      console.log(\"Bokeh: BokehJS not loaded, scheduling load and callback at\", now());\n",
       "      window._bokeh_is_loading = js_urls.length;\n",
       "      for (var i = 0; i < js_urls.length; i++) {\n",
       "        var url = js_urls[i];\n",
       "        var s = document.createElement('script');\n",
       "        s.src = url;\n",
       "        s.async = false;\n",
       "        s.onreadystatechange = s.onload = function() {\n",
       "          window._bokeh_is_loading--;\n",
       "          if (window._bokeh_is_loading === 0) {\n",
       "            console.log(\"Bokeh: all BokehJS libraries loaded\");\n",
       "            run_callbacks()\n",
       "          }\n",
       "        };\n",
       "        s.onerror = function() {\n",
       "          console.warn(\"failed to load library \" + url);\n",
       "        };\n",
       "        console.log(\"Bokeh: injecting script tag for BokehJS library: \", url);\n",
       "        document.getElementsByTagName(\"head\")[0].appendChild(s);\n",
       "      }\n",
       "    };var element = document.getElementById(\"c1bb37aa-6460-4932-8738-f6c9c8b1c1f1\");\n",
       "    if (element == null) {\n",
       "      console.log(\"Bokeh: ERROR: autoload.js configured with elementid 'c1bb37aa-6460-4932-8738-f6c9c8b1c1f1' but no matching script tag was found. \")\n",
       "      return false;\n",
       "    }\n",
       "  \n",
       "    var js_urls = [];\n",
       "  \n",
       "    var inline_js = [\n",
       "      function(Bokeh) {\n",
       "        (function() {\n",
       "          var fn = function() {\n",
       "            var docs_json = {\"c514cd22-ad5a-4cc7-b5ea-f354c00a505d\":{\"roots\":{\"references\":[{\"attributes\":{\"bottom\":{\"value\":0},\"fill_alpha\":{\"value\":0.1},\"fill_color\":{\"value\":\"#1f77b4\"},\"left\":{\"field\":\"left\"},\"line_alpha\":{\"value\":0.1},\"line_color\":{\"value\":\"#1f77b4\"},\"right\":{\"field\":\"right\"},\"top\":{\"field\":\"top\"}},\"id\":\"dc6ac5ac-5296-4377-ad9c-0572c457b73b\",\"type\":\"Quad\"},{\"attributes\":{},\"id\":\"c884e6b4-0bf5-4b7a-8a4c-06fecf9b76e6\",\"type\":\"BasicTicker\"},{\"attributes\":{\"plot\":{\"id\":\"1f08c7e8-9eed-4e46-a55a-d9fbddb686ce\",\"subtype\":\"Figure\",\"type\":\"Plot\"}},\"id\":\"65614dc6-52ff-4f00-b6e9-3163906a5edb\",\"type\":\"PanTool\"},{\"attributes\":{\"active_drag\":\"auto\",\"active_scroll\":\"auto\",\"active_tap\":\"auto\",\"tools\":[{\"id\":\"65614dc6-52ff-4f00-b6e9-3163906a5edb\",\"type\":\"PanTool\"},{\"id\":\"60bb046e-d6dd-4545-abb9-735adce8033d\",\"type\":\"WheelZoomTool\"},{\"id\":\"ab31cec2-40c3-4d19-a2e6-87d7f8e7f861\",\"type\":\"ResetTool\"},{\"id\":\"97e8c1f5-18c4-44d8-9e42-3acbc284f244\",\"type\":\"SaveTool\"}]},\"id\":\"20bdd113-2df1-4f8e-9ff3-1bc3cae8f342\",\"type\":\"Toolbar\"},{\"attributes\":{\"callback\":null,\"column_names\":[\"left\",\"top\",\"right\"],\"data\":{\"left\":{\"__ndarray__\":\"AAAAAABAeUB7FK5H4VqjQHsUrkfhxrFAuB6F61HguUB7FK5H4fzAQJqZmZmZCcVAuB6F61EWyUDXo3A9CiPNQHsUrkfhl9BACtejcD2e0kCamZmZmaTUQClcj8L1qtZAuB6F61Gx2EBI4XoUrrfaQNejcD0KvtxAZ2ZmZmbE3kB7FK5HYWXgQMP1KFyPaOFACtejcL1r4kBSuB6F627jQJqZmZkZcuRA4XoUrkd15UApXI/CdXjmQHE9Cteje+dAuB6F69F+6EAAAAAAAILpQEjhehQuhepAkML1KFyI60DXo3A9iovsQB+F61G4ju1AZ2ZmZuaR7kCuR+F6FJXvQHsUrkchTPBAH4XrUbjN8EDD9ShcT0/xQGdmZmbm0PFACtejcH1S8kCuR+F6FNTyQFK4HoWrVfNA9ihcj0LX80CamZmZ2Vj0QD4K16Nw2vRA4XoUrgdc9UCF61G4nt31QClcj8I1X/ZAzczMzMzg9kBxPQrXY2L3QBWuR+H64/dAuB6F65Fl+EBcj8L1KOf4QAAAAADAaPlApHA9Clfq+UBI4XoU7mv6QOxRuB6F7fpAkML1KBxv+0AzMzMzs/D7QNejcD1KcvxAexSuR+Hz/EAfhetReHX9QMP1KFwP9/1AZ2ZmZqZ4/kAK16NwPfr+QK5H4XrUe/9AUrgehWv9/0B7FK5HgT8AQc3MzMxMgABBH4XrURjBAEFxPQrX4wEBQcP1KFyvQgFBFa5H4XqDAUFnZmZmRsQBQbgehesRBQJBCtejcN1FAkFcj8L1qIYCQa5H4Xp0xwJBAAAAAEAIA0FSuB6FC0kDQaRwPQrXiQNB9ihcj6LKA0FI4XoUbgsEQZqZmZk5TARB7FG4HgWNBEE+Ctej0M0EQZDC9SicDgVB4XoUrmdPBUEzMzMzM5AFQYXrUbj+0AVB16NwPcoRBkEpXI/ClVIGQXsUrkdhkwZBzczMzCzUBkEfhetR+BQHQXE9CtfDVQdBw/UoXI+WB0EVrkfhWtcHQWdmZmYmGAhBuB6F6/FYCEEK16NwvZkIQVyPwvWI2ghBrkfhelQbCUE=\",\"dtype\":\"float64\",\"shape\":[100]},\"right\":{\"__ndarray__\":\"exSuR+Fao0B7FK5H4caxQLgehetR4LlAexSuR+H8wECamZmZmQnFQLgehetRFslA16NwPQojzUB7FK5H4ZfQQArXo3A9ntJAmpmZmZmk1EApXI/C9arWQLgehetRsdhASOF6FK632kDXo3A9Cr7cQGdmZmZmxN5AexSuR2Fl4EDD9Shcj2jhQArXo3C9a+JAUrgehetu40CamZmZGXLkQOF6FK5HdeVAKVyPwnV45kBxPQrXo3vnQLgehevRfuhAAAAAAACC6UBI4XoULoXqQJDC9ShciOtA16NwPYqL7EAfhetRuI7tQGdmZmbmke5ArkfhehSV70B7FK5HIUzwQB+F61G4zfBAw/UoXE9P8UBnZmZm5tDxQArXo3B9UvJArkfhehTU8kBSuB6Fq1XzQPYoXI9C1/NAmpmZmdlY9EA+CtejcNr0QOF6FK4HXPVAhetRuJ7d9UApXI/CNV/2QM3MzMzM4PZAcT0K12Ni90AVrkfh+uP3QLgeheuRZfhAXI/C9Sjn+EAAAAAAwGj5QKRwPQpX6vlASOF6FO5r+kDsUbgehe36QJDC9Sgcb/tAMzMzM7Pw+0DXo3A9SnL8QHsUrkfh8/xAH4XrUXh1/UDD9ShcD/f9QGdmZmameP5ACtejcD36/kCuR+F61Hv/QFK4HoVr/f9AexSuR4E/AEHNzMzMTIAAQR+F61EYwQBBcT0K1+MBAUHD9Shcr0IBQRWuR+F6gwFBZ2ZmZkbEAUG4HoXrEQUCQQrXo3DdRQJBXI/C9aiGAkGuR+F6dMcCQQAAAABACANBUrgehQtJA0GkcD0K14kDQfYoXI+iygNBSOF6FG4LBEGamZmZOUwEQexRuB4FjQRBPgrXo9DNBEGQwvUonA4FQeF6FK5nTwVBMzMzMzOQBUGF61G4/tAFQdejcD3KEQZBKVyPwpVSBkF7FK5HYZMGQc3MzMws1AZBH4XrUfgUB0FxPQrXw1UHQcP1KFyPlgdBFa5H4VrXB0FnZmZmJhgIQbgehevxWAhBCtejcL2ZCEFcj8L1iNoIQa5H4XpUGwlBAAAAACBcCUE=\",\"dtype\":\"float64\",\"shape\":[100]},\"top\":{\"__ndarray__\":\"50H1zNSBOT/ypb1tgHIBPwsriUb5Uew+zuTFiLI04j78kGUPxTHhPh40R25oQNY+zuTFiLI00j4pPQWW1y7APsTbB2FDRsg+JT0FltcuwD4tPQWW1y6wPi09BZbXLrA+JT0FltcuwD4tPQWW1y6gPiU9BZbXLrA+LT0FltcuoD4AAAAAAAAAADU9BZbXLqA+AAAAAAAAAAAAAAAAAAAAAAAAAAAAAAAAAAAAAAAAAAAAAAAAAAAAADU9BZbXLqA+AAAAAAAAAAAAAAAAAAAAAAAAAAAAAAAANT0FltcuoD4AAAAAAAAAAAAAAAAAAAAANT0FltcuoD4AAAAAAAAAACU9BZbXLqA+AAAAAAAAAAAlPQWW1y6gPkU9BZbXLqA+AAAAAAAAAAAlPQWW1y6gPgAAAAAAAAAAJT0FltcuoD4AAAAAAAAAAAAAAAAAAAAAAAAAAAAAAAAAAAAAAAAAAAAAAAAAAAAAJT0FltcuoD4AAAAAAAAAAAAAAAAAAAAAAAAAAAAAAAAAAAAAAAAAACU9BZbXLqA+AAAAAAAAAAAAAAAAAAAAAAAAAAAAAAAAAAAAAAAAAAAlPQWW1y6gPgAAAAAAAAAAAAAAAAAAAAAAAAAAAAAAAAAAAAAAAAAART0FltcuoD4AAAAAAAAAAAAAAAAAAAAAAAAAAAAAAAAAAAAAAAAAAAAAAAAAAAAAAAAAAAAAAAAAAAAAAAAAAAAAAAAAAAAAAAAAAAAAAAAAAAAAAAAAACU9BZbXLqA+AAAAAAAAAAAAAAAAAAAAAAAAAAAAAAAAAAAAAAAAAAAAAAAAAAAAAAAAAAAAAAAAAAAAAAAAAAAAAAAAAAAAAAAAAAAAAAAAAAAAAAAAAAAAAAAAAAAAAAAAAAAAAAAAAAAAAAAAAAAAAAAAAAAAAAAAAAAAAAAAAAAAAAAAAAAAAAAAAAAAAAAAAAAAAAAAAAAAAAAAAAAAAAAAAAAAAAAAAAAAAAAAAAAAAAAAAAAAAAAAAAAAAAAAAAAAAAAAAAAAAAAAAAAAAAAAAAAAAAAAAAAAAAAAJT0FltcuoD4=\",\"dtype\":\"float64\",\"shape\":[100]}}},\"id\":\"79657e92-ec03-4d2c-a575-d4d2d26c7aeb\",\"type\":\"ColumnDataSource\"},{\"attributes\":{},\"id\":\"f3241abe-296a-4bb4-9986-ddc905f495c5\",\"type\":\"BasicTickFormatter\"},{\"attributes\":{\"bottom\":{\"value\":0},\"fill_color\":{\"value\":\"#1f77b4\"},\"left\":{\"field\":\"left\"},\"line_color\":{\"value\":\"#555555\"},\"right\":{\"field\":\"right\"},\"top\":{\"field\":\"top\"}},\"id\":\"40d8cce7-d5d6-4f2b-adde-a87d085d4b46\",\"type\":\"Quad\"},{\"attributes\":{\"data_source\":{\"id\":\"79657e92-ec03-4d2c-a575-d4d2d26c7aeb\",\"type\":\"ColumnDataSource\"},\"glyph\":{\"id\":\"40d8cce7-d5d6-4f2b-adde-a87d085d4b46\",\"type\":\"Quad\"},\"hover_glyph\":null,\"nonselection_glyph\":{\"id\":\"dc6ac5ac-5296-4377-ad9c-0572c457b73b\",\"type\":\"Quad\"},\"selection_glyph\":null},\"id\":\"16ccb6ec-28dd-491e-863b-39e520a49130\",\"type\":\"GlyphRenderer\"},{\"attributes\":{\"plot\":{\"id\":\"1f08c7e8-9eed-4e46-a55a-d9fbddb686ce\",\"subtype\":\"Figure\",\"type\":\"Plot\"},\"ticker\":{\"id\":\"c884e6b4-0bf5-4b7a-8a4c-06fecf9b76e6\",\"type\":\"BasicTicker\"}},\"id\":\"f67c890e-9fc6-48ea-b12f-e30cd8f90388\",\"type\":\"Grid\"},{\"attributes\":{\"plot\":null,\"text\":\"Top-1000 words distribution\"},\"id\":\"8168b5c1-2c63-4625-9e40-3761d85b0726\",\"type\":\"Title\"},{\"attributes\":{\"plot\":{\"id\":\"1f08c7e8-9eed-4e46-a55a-d9fbddb686ce\",\"subtype\":\"Figure\",\"type\":\"Plot\"}},\"id\":\"60bb046e-d6dd-4545-abb9-735adce8033d\",\"type\":\"WheelZoomTool\"},{\"attributes\":{},\"id\":\"2cb7e21e-2c7d-4254-8aac-1e82f0c5ea75\",\"type\":\"BasicTicker\"},{\"attributes\":{\"below\":[{\"id\":\"06ce3c89-84a3-497e-b400-4e6f1711c7a7\",\"type\":\"LinearAxis\"}],\"left\":[{\"id\":\"2259ccd0-2ede-4f51-8f32-d49b4baba3da\",\"type\":\"LinearAxis\"}],\"renderers\":[{\"id\":\"06ce3c89-84a3-497e-b400-4e6f1711c7a7\",\"type\":\"LinearAxis\"},{\"id\":\"f67c890e-9fc6-48ea-b12f-e30cd8f90388\",\"type\":\"Grid\"},{\"id\":\"2259ccd0-2ede-4f51-8f32-d49b4baba3da\",\"type\":\"LinearAxis\"},{\"id\":\"b38641d9-0f26-44c0-8fc9-ac29e04574c6\",\"type\":\"Grid\"},{\"id\":\"16ccb6ec-28dd-491e-863b-39e520a49130\",\"type\":\"GlyphRenderer\"}],\"title\":{\"id\":\"8168b5c1-2c63-4625-9e40-3761d85b0726\",\"type\":\"Title\"},\"tool_events\":{\"id\":\"3b1f7e5a-21f8-40a5-962c-184b33288c6a\",\"type\":\"ToolEvents\"},\"toolbar\":{\"id\":\"20bdd113-2df1-4f8e-9ff3-1bc3cae8f342\",\"type\":\"Toolbar\"},\"toolbar_location\":\"above\",\"x_range\":{\"id\":\"8d15cccf-5392-4ad1-8913-5b1ea6016568\",\"type\":\"DataRange1d\"},\"y_range\":{\"id\":\"d3e86f71-f134-4af3-93b8-f4359742a16d\",\"type\":\"DataRange1d\"}},\"id\":\"1f08c7e8-9eed-4e46-a55a-d9fbddb686ce\",\"subtype\":\"Figure\",\"type\":\"Plot\"},{\"attributes\":{},\"id\":\"3b1f7e5a-21f8-40a5-962c-184b33288c6a\",\"type\":\"ToolEvents\"},{\"attributes\":{},\"id\":\"d7cc585c-d77d-4d6b-9268-a4669990ea01\",\"type\":\"BasicTickFormatter\"},{\"attributes\":{\"plot\":{\"id\":\"1f08c7e8-9eed-4e46-a55a-d9fbddb686ce\",\"subtype\":\"Figure\",\"type\":\"Plot\"}},\"id\":\"97e8c1f5-18c4-44d8-9e42-3acbc284f244\",\"type\":\"SaveTool\"},{\"attributes\":{\"formatter\":{\"id\":\"d7cc585c-d77d-4d6b-9268-a4669990ea01\",\"type\":\"BasicTickFormatter\"},\"plot\":{\"id\":\"1f08c7e8-9eed-4e46-a55a-d9fbddb686ce\",\"subtype\":\"Figure\",\"type\":\"Plot\"},\"ticker\":{\"id\":\"2cb7e21e-2c7d-4254-8aac-1e82f0c5ea75\",\"type\":\"BasicTicker\"}},\"id\":\"2259ccd0-2ede-4f51-8f32-d49b4baba3da\",\"type\":\"LinearAxis\"},{\"attributes\":{\"callback\":null},\"id\":\"8d15cccf-5392-4ad1-8913-5b1ea6016568\",\"type\":\"DataRange1d\"},{\"attributes\":{\"dimension\":1,\"plot\":{\"id\":\"1f08c7e8-9eed-4e46-a55a-d9fbddb686ce\",\"subtype\":\"Figure\",\"type\":\"Plot\"},\"ticker\":{\"id\":\"2cb7e21e-2c7d-4254-8aac-1e82f0c5ea75\",\"type\":\"BasicTicker\"}},\"id\":\"b38641d9-0f26-44c0-8fc9-ac29e04574c6\",\"type\":\"Grid\"},{\"attributes\":{\"plot\":{\"id\":\"1f08c7e8-9eed-4e46-a55a-d9fbddb686ce\",\"subtype\":\"Figure\",\"type\":\"Plot\"}},\"id\":\"ab31cec2-40c3-4d19-a2e6-87d7f8e7f861\",\"type\":\"ResetTool\"},{\"attributes\":{\"formatter\":{\"id\":\"f3241abe-296a-4bb4-9986-ddc905f495c5\",\"type\":\"BasicTickFormatter\"},\"plot\":{\"id\":\"1f08c7e8-9eed-4e46-a55a-d9fbddb686ce\",\"subtype\":\"Figure\",\"type\":\"Plot\"},\"ticker\":{\"id\":\"c884e6b4-0bf5-4b7a-8a4c-06fecf9b76e6\",\"type\":\"BasicTicker\"}},\"id\":\"06ce3c89-84a3-497e-b400-4e6f1711c7a7\",\"type\":\"LinearAxis\"},{\"attributes\":{\"callback\":null},\"id\":\"d3e86f71-f134-4af3-93b8-f4359742a16d\",\"type\":\"DataRange1d\"}],\"root_ids\":[\"1f08c7e8-9eed-4e46-a55a-d9fbddb686ce\"]},\"title\":\"Bokeh Application\",\"version\":\"0.12.4\"}};\n",
       "            var render_items = [{\"docid\":\"c514cd22-ad5a-4cc7-b5ea-f354c00a505d\",\"elementid\":\"c1bb37aa-6460-4932-8738-f6c9c8b1c1f1\",\"modelid\":\"1f08c7e8-9eed-4e46-a55a-d9fbddb686ce\"}];\n",
       "            \n",
       "            Bokeh.embed.embed_items(docs_json, render_items);\n",
       "          };\n",
       "          if (document.readyState != \"loading\") fn();\n",
       "          else document.addEventListener(\"DOMContentLoaded\", fn);\n",
       "        })();\n",
       "      },\n",
       "      function(Bokeh) {\n",
       "      }\n",
       "    ];\n",
       "  \n",
       "    function run_inline_js() {\n",
       "      \n",
       "      if ((window.Bokeh !== undefined) || (force === true)) {\n",
       "        for (var i = 0; i < inline_js.length; i++) {\n",
       "          inline_js[i](window.Bokeh);\n",
       "        }if (force === true) {\n",
       "          display_loaded();\n",
       "        }} else if (Date.now() < window._bokeh_timeout) {\n",
       "        setTimeout(run_inline_js, 100);\n",
       "      } else if (!window._bokeh_failed_load) {\n",
       "        console.log(\"Bokeh: BokehJS failed to load within specified timeout.\");\n",
       "        window._bokeh_failed_load = true;\n",
       "      } else if (force !== true) {\n",
       "        var cell = $(document.getElementById(\"c1bb37aa-6460-4932-8738-f6c9c8b1c1f1\")).parents('.cell').data().cell;\n",
       "        cell.output_area.append_execute_result(NB_LOAD_WARNING)\n",
       "      }\n",
       "  \n",
       "    }\n",
       "  \n",
       "    if (window._bokeh_is_loading === 0) {\n",
       "      console.log(\"Bokeh: BokehJS loaded, going straight to plotting\");\n",
       "      run_inline_js();\n",
       "    } else {\n",
       "      load_libs(js_urls, function() {\n",
       "        console.log(\"Bokeh: BokehJS plotting callback run at\", now());\n",
       "        run_inline_js();\n",
       "      });\n",
       "    }\n",
       "  }(this));\n",
       "</script>"
      ]
     },
     "metadata": {},
     "output_type": "display_data"
    }
   ],
   "source": [
    "hist, edges = np.histogram(counts_ted_top1000, density=True, bins=100, normed=True)\n",
    "\n",
    "p = figure(tools=\"pan,wheel_zoom,reset,save\",\n",
    "           toolbar_location=\"above\",\n",
    "           title=\"Top-1000 words distribution\")\n",
    "p.quad(top=hist, bottom=0, left=edges[:-1], right=edges[1:], line_color=\"#555555\")\n",
    "show(p)"
   ]
  },
  {
   "cell_type": "markdown",
   "metadata": {},
   "source": [
    "### Part 3: Train Word2Vec"
   ]
  },
  {
   "cell_type": "code",
   "execution_count": 96,
   "metadata": {
    "collapsed": false
   },
   "outputs": [],
   "source": [
    "from gensim.models import Word2Vec"
   ]
  },
  {
   "cell_type": "code",
   "execution_count": 97,
   "metadata": {
    "collapsed": false
   },
   "outputs": [],
   "source": [
    "model_ted = Word2Vec(sentences_ted, size=100, window=5, min_count=10, workers=4)"
   ]
  },
  {
   "cell_type": "markdown",
   "metadata": {},
   "source": [
    "### Part 4: Ted Learnt Representations"
   ]
  },
  {
   "cell_type": "markdown",
   "metadata": {},
   "source": [
    "Finding similar words: (see gensim docs for more functionality of `most_similar`)"
   ]
  },
  {
   "cell_type": "code",
   "execution_count": 98,
   "metadata": {
    "collapsed": false
   },
   "outputs": [
    {
     "data": {
      "text/plain": [
       "[('woman', 0.8374258279800415),\n",
       " ('guy', 0.8141250610351562),\n",
       " ('lady', 0.7487637996673584),\n",
       " ('boy', 0.7429585456848145),\n",
       " ('soldier', 0.7315003275871277),\n",
       " ('girl', 0.731346845626831),\n",
       " ('gentleman', 0.6999423503875732),\n",
       " ('poet', 0.6611523628234863),\n",
       " ('kid', 0.6608622074127197),\n",
       " ('john', 0.6576012372970581)]"
      ]
     },
     "execution_count": 98,
     "metadata": {},
     "output_type": "execute_result"
    }
   ],
   "source": [
    "model_ted.most_similar(\"man\")"
   ]
  },
  {
   "cell_type": "code",
   "execution_count": 99,
   "metadata": {
    "collapsed": false
   },
   "outputs": [
    {
     "data": {
      "text/plain": [
       "[('machine', 0.7019140720367432),\n",
       " ('software', 0.6995947360992432),\n",
       " ('robot', 0.6804521083831787),\n",
       " ('device', 0.6597049236297607),\n",
       " ('camera', 0.6569982767105103),\n",
       " ('interface', 0.6352804899215698),\n",
       " ('program', 0.6307211518287659),\n",
       " ('satellite', 0.6150104403495789),\n",
       " ('video', 0.6090179681777954),\n",
       " ('printer', 0.6054651737213135)]"
      ]
     },
     "execution_count": 99,
     "metadata": {},
     "output_type": "execute_result"
    }
   ],
   "source": [
    "model_ted.most_similar(\"computer\")"
   ]
  },
  {
   "cell_type": "code",
   "execution_count": 100,
   "metadata": {
    "collapsed": false
   },
   "outputs": [
    {
     "data": {
      "text/plain": [
       "[('scares', 0.8286420106887817),\n",
       " ('excites', 0.8190187215805054),\n",
       " ('encourages', 0.8107024431228638),\n",
       " ('motivates', 0.8011634349822998),\n",
       " ('teaches', 0.7886105179786682),\n",
       " ('bothers', 0.7784468531608582),\n",
       " ('amazes', 0.7781134247779846),\n",
       " ('reminds', 0.7721877098083496),\n",
       " ('untie', 0.7622734308242798),\n",
       " ('invites', 0.7621927857398987)]"
      ]
     },
     "execution_count": 100,
     "metadata": {},
     "output_type": "execute_result"
    }
   ],
   "source": [
    "model_ted.most_similar(\"inspires\")"
   ]
  },
  {
   "cell_type": "code",
   "execution_count": 101,
   "metadata": {
    "collapsed": false
   },
   "outputs": [
    {
     "name": "stdout",
     "output_type": "stream",
     "text": [
      "0.701914\n"
     ]
    }
   ],
   "source": [
    "# from np import linalg\n",
    "from numpy import linalg\n",
    "v = model_ted[[\"computer\", \"machine\"]]\n",
    "print(np.dot(v[0], v[1]) / np.linalg.norm(v[0]) / np.linalg.norm(v[1]))"
   ]
  },
  {
   "cell_type": "markdown",
   "metadata": {},
   "source": [
    "#### t-SNE visualization\n",
    "To use the t-SNE code below, first put a list of the top 1000 words (as strings) into a variable `words_top_ted`. The following code gets the corresponding vectors from the model, assuming it's called `model_ted`:"
   ]
  },
  {
   "cell_type": "code",
   "execution_count": 102,
   "metadata": {
    "collapsed": false
   },
   "outputs": [],
   "source": [
    "# This assumes words_top_ted is a list of strings, the top 1000 words\n",
    "words_top_vec_ted = model_ted[words_top_ted]"
   ]
  },
  {
   "cell_type": "code",
   "execution_count": 103,
   "metadata": {
    "collapsed": false
   },
   "outputs": [],
   "source": [
    "from sklearn.manifold import TSNE\n",
    "tsne = TSNE(n_components=2, random_state=0)\n",
    "words_top_ted_tsne = tsne.fit_transform(words_top_vec_ted)"
   ]
  },
  {
   "cell_type": "code",
   "execution_count": 104,
   "metadata": {
    "collapsed": false
   },
   "outputs": [
    {
     "data": {
      "text/html": [
       "\n",
       "\n",
       "    <div class=\"bk-root\">\n",
       "        <div class=\"bk-plotdiv\" id=\"5df52d79-95fa-4d96-a105-b967eb4183b2\"></div>\n",
       "    </div>\n",
       "<script type=\"text/javascript\">\n",
       "  \n",
       "  (function(global) {\n",
       "    function now() {\n",
       "      return new Date();\n",
       "    }\n",
       "  \n",
       "    var force = false;\n",
       "  \n",
       "    if (typeof (window._bokeh_onload_callbacks) === \"undefined\" || force === true) {\n",
       "      window._bokeh_onload_callbacks = [];\n",
       "      window._bokeh_is_loading = undefined;\n",
       "    }\n",
       "  \n",
       "  \n",
       "    \n",
       "    if (typeof (window._bokeh_timeout) === \"undefined\" || force === true) {\n",
       "      window._bokeh_timeout = Date.now() + 0;\n",
       "      window._bokeh_failed_load = false;\n",
       "    }\n",
       "  \n",
       "    var NB_LOAD_WARNING = {'data': {'text/html':\n",
       "       \"<div style='background-color: #fdd'>\\n\"+\n",
       "       \"<p>\\n\"+\n",
       "       \"BokehJS does not appear to have successfully loaded. If loading BokehJS from CDN, this \\n\"+\n",
       "       \"may be due to a slow or bad network connection. Possible fixes:\\n\"+\n",
       "       \"</p>\\n\"+\n",
       "       \"<ul>\\n\"+\n",
       "       \"<li>re-rerun `output_notebook()` to attempt to load from CDN again, or</li>\\n\"+\n",
       "       \"<li>use INLINE resources instead, as so:</li>\\n\"+\n",
       "       \"</ul>\\n\"+\n",
       "       \"<code>\\n\"+\n",
       "       \"from bokeh.resources import INLINE\\n\"+\n",
       "       \"output_notebook(resources=INLINE)\\n\"+\n",
       "       \"</code>\\n\"+\n",
       "       \"</div>\"}};\n",
       "  \n",
       "    function display_loaded() {\n",
       "      if (window.Bokeh !== undefined) {\n",
       "        document.getElementById(\"5df52d79-95fa-4d96-a105-b967eb4183b2\").textContent = \"BokehJS successfully loaded.\";\n",
       "      } else if (Date.now() < window._bokeh_timeout) {\n",
       "        setTimeout(display_loaded, 100)\n",
       "      }\n",
       "    }\n",
       "  \n",
       "    function run_callbacks() {\n",
       "      window._bokeh_onload_callbacks.forEach(function(callback) { callback() });\n",
       "      delete window._bokeh_onload_callbacks\n",
       "      console.info(\"Bokeh: all callbacks have finished\");\n",
       "    }\n",
       "  \n",
       "    function load_libs(js_urls, callback) {\n",
       "      window._bokeh_onload_callbacks.push(callback);\n",
       "      if (window._bokeh_is_loading > 0) {\n",
       "        console.log(\"Bokeh: BokehJS is being loaded, scheduling callback at\", now());\n",
       "        return null;\n",
       "      }\n",
       "      if (js_urls == null || js_urls.length === 0) {\n",
       "        run_callbacks();\n",
       "        return null;\n",
       "      }\n",
       "      console.log(\"Bokeh: BokehJS not loaded, scheduling load and callback at\", now());\n",
       "      window._bokeh_is_loading = js_urls.length;\n",
       "      for (var i = 0; i < js_urls.length; i++) {\n",
       "        var url = js_urls[i];\n",
       "        var s = document.createElement('script');\n",
       "        s.src = url;\n",
       "        s.async = false;\n",
       "        s.onreadystatechange = s.onload = function() {\n",
       "          window._bokeh_is_loading--;\n",
       "          if (window._bokeh_is_loading === 0) {\n",
       "            console.log(\"Bokeh: all BokehJS libraries loaded\");\n",
       "            run_callbacks()\n",
       "          }\n",
       "        };\n",
       "        s.onerror = function() {\n",
       "          console.warn(\"failed to load library \" + url);\n",
       "        };\n",
       "        console.log(\"Bokeh: injecting script tag for BokehJS library: \", url);\n",
       "        document.getElementsByTagName(\"head\")[0].appendChild(s);\n",
       "      }\n",
       "    };var element = document.getElementById(\"5df52d79-95fa-4d96-a105-b967eb4183b2\");\n",
       "    if (element == null) {\n",
       "      console.log(\"Bokeh: ERROR: autoload.js configured with elementid '5df52d79-95fa-4d96-a105-b967eb4183b2' but no matching script tag was found. \")\n",
       "      return false;\n",
       "    }\n",
       "  \n",
       "    var js_urls = [];\n",
       "  \n",
       "    var inline_js = [\n",
       "      function(Bokeh) {\n",
       "        (function() {\n",
       "          var fn = function() {\n",
       "            var docs_json = {\"fb8a5096-bf2b-4ec4-9925-d7ecac3417f3\":{\"roots\":{\"references\":[{\"attributes\":{\"callback\":null},\"id\":\"2b24622d-263d-4881-88bc-5af264bb71a2\",\"type\":\"DataRange1d\"},{\"attributes\":{},\"id\":\"d6d53235-2458-4ee2-a610-5f03eb56f9da\",\"type\":\"BasicTicker\"},{\"attributes\":{},\"id\":\"56417400-5b72-4c8e-8561-b79a1a7d1d64\",\"type\":\"BasicTicker\"},{\"attributes\":{\"below\":[{\"id\":\"42162c6a-250a-46c1-9c56-6c2a401a6cc3\",\"type\":\"LinearAxis\"}],\"left\":[{\"id\":\"653ecbde-e64e-419b-89bb-21e39bfda2d2\",\"type\":\"LinearAxis\"}],\"renderers\":[{\"id\":\"42162c6a-250a-46c1-9c56-6c2a401a6cc3\",\"type\":\"LinearAxis\"},{\"id\":\"2051d5c1-70df-421c-932e-e23d59871051\",\"type\":\"Grid\"},{\"id\":\"653ecbde-e64e-419b-89bb-21e39bfda2d2\",\"type\":\"LinearAxis\"},{\"id\":\"8248015f-2d32-4713-a29f-ed993bded4b4\",\"type\":\"Grid\"},{\"id\":\"5a6443e0-8884-435d-8bd2-ee4863f7546e\",\"type\":\"GlyphRenderer\"},{\"id\":\"d3851d81-cfb0-40c3-a033-647da3bdf130\",\"type\":\"LabelSet\"}],\"title\":{\"id\":\"3d109dc1-bf9c-483b-9f82-02cc830c35a0\",\"type\":\"Title\"},\"tool_events\":{\"id\":\"1178c936-9ac1-49d0-90b4-36ed60377d50\",\"type\":\"ToolEvents\"},\"toolbar\":{\"id\":\"507d00d7-fa43-4764-91fb-84847d38caa4\",\"type\":\"Toolbar\"},\"toolbar_location\":\"above\",\"x_range\":{\"id\":\"33d4d76a-147d-470d-bf57-f19fe9369c24\",\"type\":\"DataRange1d\"},\"y_range\":{\"id\":\"2b24622d-263d-4881-88bc-5af264bb71a2\",\"type\":\"DataRange1d\"}},\"id\":\"77f72665-f91f-4a8c-ae13-664d92fbabfa\",\"subtype\":\"Figure\",\"type\":\"Plot\"},{\"attributes\":{\"plot\":{\"id\":\"77f72665-f91f-4a8c-ae13-664d92fbabfa\",\"subtype\":\"Figure\",\"type\":\"Plot\"},\"source\":{\"id\":\"3e4ab1cf-5d20-40ea-baef-2e1603e25a5d\",\"type\":\"ColumnDataSource\"},\"text\":{\"field\":\"names\"},\"text_align\":\"center\",\"text_color\":{\"value\":\"#555555\"},\"text_font_size\":{\"value\":\"8pt\"},\"x\":{\"field\":\"x1\"},\"y\":{\"field\":\"x2\"},\"y_offset\":{\"value\":6}},\"id\":\"d3851d81-cfb0-40c3-a033-647da3bdf130\",\"type\":\"LabelSet\"},{\"attributes\":{\"fill_alpha\":{\"value\":0.1},\"fill_color\":{\"value\":\"#1f77b4\"},\"line_alpha\":{\"value\":0.1},\"line_color\":{\"value\":\"#1f77b4\"},\"size\":{\"units\":\"screen\",\"value\":8},\"x\":{\"field\":\"x1\"},\"y\":{\"field\":\"x2\"}},\"id\":\"6df34ac8-9e39-475e-8ec9-41720037f062\",\"type\":\"Circle\"},{\"attributes\":{\"formatter\":{\"id\":\"2475257c-19b4-4aa3-a635-4f22a5caf833\",\"type\":\"BasicTickFormatter\"},\"plot\":{\"id\":\"77f72665-f91f-4a8c-ae13-664d92fbabfa\",\"subtype\":\"Figure\",\"type\":\"Plot\"},\"ticker\":{\"id\":\"d6d53235-2458-4ee2-a610-5f03eb56f9da\",\"type\":\"BasicTicker\"}},\"id\":\"653ecbde-e64e-419b-89bb-21e39bfda2d2\",\"type\":\"LinearAxis\"},{\"attributes\":{\"plot\":{\"id\":\"77f72665-f91f-4a8c-ae13-664d92fbabfa\",\"subtype\":\"Figure\",\"type\":\"Plot\"},\"ticker\":{\"id\":\"56417400-5b72-4c8e-8561-b79a1a7d1d64\",\"type\":\"BasicTicker\"}},\"id\":\"2051d5c1-70df-421c-932e-e23d59871051\",\"type\":\"Grid\"},{\"attributes\":{\"plot\":null,\"text\":\"word2vec T-SNE for most common words\"},\"id\":\"3d109dc1-bf9c-483b-9f82-02cc830c35a0\",\"type\":\"Title\"},{\"attributes\":{\"active_drag\":\"auto\",\"active_scroll\":\"auto\",\"active_tap\":\"auto\",\"tools\":[{\"id\":\"c1d16742-90d2-4ec3-ae08-5b4f71df96a2\",\"type\":\"PanTool\"},{\"id\":\"675dd2af-8aa8-48f7-9373-5ea9b22c03b6\",\"type\":\"WheelZoomTool\"},{\"id\":\"50e3461e-95bf-4931-8d08-015744f243ad\",\"type\":\"ResetTool\"},{\"id\":\"2bec13c3-7ffa-49e3-a4c1-631edeb713be\",\"type\":\"SaveTool\"}]},\"id\":\"507d00d7-fa43-4764-91fb-84847d38caa4\",\"type\":\"Toolbar\"},{\"attributes\":{\"callback\":null,\"column_names\":[\"names\",\"x1\",\"x2\"],\"data\":{\"names\":[\"the\",\"and\",\"to\",\"of\",\"a\",\"that\",\"i\",\"in\",\"it\",\"you\",\"we\",\"is\",\"s\",\"this\",\"so\",\"they\",\"was\",\"for\",\"are\",\"have\",\"but\",\"what\",\"on\",\"with\",\"can\",\"t\",\"about\",\"there\",\"be\",\"as\",\"at\",\"all\",\"not\",\"do\",\"my\",\"one\",\"re\",\"people\",\"like\",\"if\",\"from\",\"now\",\"our\",\"he\",\"an\",\"just\",\"these\",\"or\",\"when\",\"because\",\"very\",\"me\",\"out\",\"by\",\"them\",\"how\",\"know\",\"up\",\"going\",\"had\",\"more\",\"think\",\"who\",\"were\",\"see\",\"your\",\"their\",\"which\",\"would\",\"here\",\"really\",\"get\",\"ve\",\"then\",\"m\",\"world\",\"us\",\"time\",\"some\",\"has\",\"don\",\"actually\",\"into\",\"way\",\"where\",\"will\",\"years\",\"things\",\"other\",\"no\",\"could\",\"go\",\"well\",\"want\",\"been\",\"make\",\"right\",\"she\",\"said\",\"something\",\"those\",\"first\",\"two\",\"than\",\"much\",\"also\",\"look\",\"new\",\"thing\",\"little\",\"got\",\"back\",\"over\",\"most\",\"say\",\"even\",\"his\",\"life\",\"only\",\"work\",\"many\",\"take\",\"need\",\"did\",\"lot\",\"kind\",\"why\",\"good\",\"around\",\"every\",\"different\",\"down\",\"ll\",\"let\",\"her\",\"through\",\"same\",\"being\",\"come\",\"d\",\"day\",\"year\",\"three\",\"use\",\"doing\",\"put\",\"called\",\"any\",\"today\",\"percent\",\"made\",\"after\",\"thank\",\"tell\",\"great\",\"human\",\"find\",\"didn\",\"fact\",\"talk\",\"change\",\"started\",\"another\",\"idea\",\"big\",\"last\",\"own\",\"before\",\"its\",\"never\",\"should\",\"better\",\"give\",\"thought\",\"went\",\"might\",\"important\",\"000\",\"again\",\"able\",\"together\",\"still\",\"problem\",\"off\",\"next\",\"part\",\"course\",\"system\",\"him\",\"does\",\"each\",\"start\",\"show\",\"long\",\"ago\",\"story\",\"came\",\"brain\",\"few\",\"bit\",\"between\",\"used\",\"place\",\"technology\",\"women\",\"too\",\"old\",\"mean\",\"data\",\"water\",\"looking\",\"question\",\"maybe\",\"found\",\"love\",\"doesn\",\"end\",\"example\",\"10\",\"done\",\"point\",\"four\",\"real\",\"wanted\",\"ever\",\"understand\",\"school\",\"sort\",\"live\",\"call\",\"whole\",\"always\",\"children\",\"trying\",\"may\",\"person\",\"away\",\"believe\",\"feel\",\"try\",\"million\",\"working\",\"help\",\"everything\",\"five\",\"country\",\"thinking\",\"second\",\"using\",\"information\",\"money\",\"means\",\"took\",\"power\",\"times\",\"high\",\"space\",\"number\",\"kids\",\"home\",\"become\",\"create\",\"small\",\"design\",\"making\",\"best\",\"left\",\"getting\",\"future\",\"enough\",\"man\",\"quite\",\"city\",\"without\",\"sense\",\"happened\",\"comes\",\"social\",\"probably\",\"light\",\"less\",\"talking\",\"energy\",\"am\",\"building\",\"science\",\"food\",\"body\",\"told\",\"interesting\",\"ask\",\"half\",\"pretty\",\"hard\",\"play\",\"anything\",\"lives\",\"countries\",\"coming\",\"such\",\"family\",\"stuff\",\"dollars\",\"moment\",\"earth\",\"20\",\"imagine\",\"across\",\"side\",\"saw\",\"while\",\"happen\",\"once\",\"okay\",\"build\",\"having\",\"men\",\"later\",\"experience\",\"makes\",\"asked\",\"living\",\"says\",\"seen\",\"room\",\"hand\",\"simple\",\"health\",\"ways\",\"else\",\"case\",\"almost\",\"yet\",\"young\",\"days\",\"nothing\",\"care\",\"bad\",\"happens\",\"goes\",\"move\",\"states\",\"reason\",\"computer\",\"open\",\"africa\",\"learn\",\"process\",\"inside\",\"someone\",\"six\",\"far\",\"project\",\"mind\",\"remember\",\"single\",\"picture\",\"both\",\"whether\",\"problems\",\"saying\",\"basically\",\"community\",\"already\",\"within\",\"looked\",\"myself\",\"billion\",\"often\",\"possible\",\"business\",\"planet\",\"global\",\"top\",\"everybody\",\"public\",\"sure\",\"set\",\"wrong\",\"car\",\"book\",\"keep\",\"answer\",\"yes\",\"oh\",\"sometimes\",\"hope\",\"history\",\"true\",\"war\",\"guy\",\"child\",\"instead\",\"months\",\"ideas\",\"looks\",\"matter\",\"government\",\"amazing\",\"united\",\"since\",\"bring\",\"cells\",\"age\",\"job\",\"heard\",\"until\",\"face\",\"wasn\",\"100\",\"read\",\"control\",\"isn\",\"research\",\"30\",\"words\",\"u\",\"group\",\"under\",\"self\",\"somebody\",\"built\",\"state\",\"woman\",\"turn\",\"friends\",\"beautiful\",\"line\",\"knew\",\"couple\",\"order\",\"form\",\"yeah\",\"internet\",\"middle\",\"music\",\"piece\",\"nature\",\"head\",\"though\",\"stop\",\"everyone\",\"50\",\"places\",\"video\",\"language\",\"learned\",\"run\",\"night\",\"decided\",\"word\",\"study\",\"cancer\",\"works\",\"taking\",\"became\",\"exactly\",\"species\",\"completely\",\"society\",\"education\",\"against\",\"stories\",\"large\",\"share\",\"level\",\"heart\",\"america\",\"model\",\"questions\",\"gets\",\"mother\",\"god\",\"company\",\"turns\",\"ourselves\",\"happening\",\"art\",\"hear\",\"themselves\",\"must\",\"itself\",\"rather\",\"kinds\",\"students\",\"name\",\"hours\",\"disease\",\"front\",\"house\",\"huge\",\"couldn\",\"created\",\"universe\",\"ok\",\"animals\",\"american\",\"environment\",\"worked\",\"minutes\",\"ones\",\"black\",\"1\",\"perhaps\",\"past\",\"third\",\"along\",\"finally\",\"others\",\"early\",\"sound\",\"game\",\"thousands\",\"century\",\"least\",\"based\",\"per\",\"ted\",\"lots\",\"figure\",\"free\",\"guys\",\"particular\",\"happy\",\"news\",\"learning\",\"entire\",\"won\",\"gave\",\"machine\",\"india\",\"during\",\"systems\",\"air\",\"difference\",\"outside\",\"taken\",\"natural\",\"seven\",\"changed\",\"given\",\"leave\",\"cell\",\"15\",\"close\",\"cities\",\"behind\",\"full\",\"scale\",\"difficult\",\"china\",\"takes\",\"companies\",\"yourself\",\"area\",\"reality\",\"seeing\",\"easy\",\"turned\",\"cost\",\"eyes\",\"team\",\"moving\",\"population\",\"culture\",\"york\",\"hands\",\"began\",\"whatever\",\"terms\",\"needs\",\"image\",\"needed\",\"simply\",\"beginning\",\"father\",\"local\",\"realized\",\"media\",\"parents\",\"death\",\"walk\",\"view\",\"white\",\"market\",\"parts\",\"ocean\",\"economic\",\"eight\",\"powerful\",\"week\",\"known\",\"size\",\"felt\",\"humans\",\"certain\",\"spend\",\"longer\",\"phone\",\"wonderful\",\"cannot\",\"common\",\"grow\",\"tried\",\"center\",\"fish\",\"land\",\"oil\",\"interested\",\"deal\",\"political\",\"red\",\"gone\",\"amount\",\"weeks\",\"opportunity\",\"spent\",\"paper\",\"lost\",\"quickly\",\"national\",\"blue\",\"step\",\"poor\",\"green\",\"buy\",\"wouldn\",\"growth\",\"either\",\"patients\",\"sitting\",\"ability\",\"changes\",\"write\",\"challenge\",\"south\",\"low\",\"growing\",\"friend\",\"field\",\"2\",\"shows\",\"born\",\"rest\",\"climate\",\"40\",\"test\",\"street\",\"surface\",\"incredible\",\"average\",\"value\",\"morning\",\"pay\",\"physical\",\"scientists\",\"program\",\"hundreds\",\"feeling\",\"behavior\",\"girl\",\"met\",\"economy\",\"dna\",\"complex\",\"access\",\"risk\",\"animal\",\"structure\",\"feet\",\"attention\",\"areas\",\"anyone\",\"deep\",\"watch\",\"short\",\"absolutely\",\"brought\",\"speak\",\"die\",\"bottom\",\"numbers\",\"audience\",\"stage\",\"realize\",\"images\",\"law\",\"wrote\",\"understanding\",\"books\",\"knowledge\",\"literally\",\"movement\",\"giving\",\"ground\",\"eat\",\"force\",\"seems\",\"alone\",\"telling\",\"starting\",\"hold\",\"nice\",\"sea\",\"forward\",\"developed\",\"individual\",\"kid\",\"millions\",\"support\",\"tools\",\"miles\",\"running\",\"online\",\"result\",\"technologies\",\"act\",\"medical\",\"north\",\"lab\",\"development\",\"blood\",\"fear\",\"nobody\",\"map\",\"personal\",\"voice\",\"issue\",\"material\",\"key\",\"recently\",\"12\",\"theory\",\"cut\",\"cars\",\"sun\",\"fast\",\"changing\",\"clear\",\"playing\",\"especially\",\"patient\",\"soon\",\"girls\",\"fly\",\"choice\",\"creating\",\"discovered\",\"europe\",\"normal\",\"talked\",\"relationship\",\"gives\",\"generation\",\"dark\",\"type\",\"showed\",\"asking\",\"seem\",\"industry\",\"chance\",\"rate\",\"designed\",\"fun\",\"color\",\"hour\",\"issues\",\"university\",\"class\",\"several\",\"computers\",\"innovation\",\"tiny\",\"english\",\"allow\",\"focus\",\"save\",\"digital\",\"developing\",\"solve\",\"network\",\"film\",\"special\",\"wall\",\"baby\",\"situation\",\"solution\",\"reasons\",\"box\",\"knows\",\"stand\",\"meet\",\"dead\",\"impact\",\"haven\",\"begin\",\"anybody\",\"term\",\"beyond\",\"pictures\",\"please\",\"ice\",\"produce\",\"shape\",\"non\",\"resources\",\"robot\",\"cool\",\"likely\",\"groups\",\"stay\",\"available\",\"rights\",\"major\",\"truth\",\"obviously\",\"evidence\",\"writing\",\"experiment\",\"cause\",\"modern\",\"drug\",\"incredibly\",\"becomes\",\"aren\",\"guess\",\"bigger\",\"drugs\",\"product\",\"nine\",\"lived\",\"involved\",\"perfect\",\"month\",\"google\",\"similar\",\"putting\",\"effect\",\"eye\",\"pick\",\"message\",\"quality\",\"violence\",\"web\",\"security\",\"evolution\",\"office\",\"indeed\",\"solar\",\"basic\",\"general\",\"towards\",\"present\",\"drive\",\"worth\",\"listen\",\"send\",\"revolution\",\"hundred\",\"explain\",\"certainly\",\"died\",\"ready\",\"teach\",\"25\",\"journey\",\"walking\",\"hit\",\"led\",\"approach\",\"international\",\"200\",\"games\",\"scientific\",\"potential\",\"60\",\"communities\",\"crazy\",\"chinese\",\"device\",\"camera\",\"source\",\"carbon\",\"rules\",\"sex\",\"sounds\",\"boy\",\"reach\",\"starts\",\"examples\",\"west\",\"3\",\"measure\",\"software\",\"success\",\"particularly\",\"totally\",\"suddenly\",\"action\",\"higher\",\"college\",\"code\",\"eventually\",\"democracy\",\"minute\",\"sit\",\"among\",\"largest\",\"hospital\",\"showing\",\"notice\",\"period\",\"develop\",\"mass\",\"onto\",\"dream\",\"break\",\"add\",\"plants\",\"memory\",\"zero\",\"11\",\"everywhere\",\"favorite\",\"schools\",\"speed\",\"response\",\"moved\",\"wants\",\"wait\",\"movie\",\"extremely\",\"individuals\",\"table\",\"trust\",\"medicine\",\"anyway\",\"follow\",\"biggest\",\"plant\",\"watching\",\"organization\",\"road\",\"creative\",\"choose\",\"worse\",\"500\",\"lead\",\"results\",\"exciting\",\"materials\",\"grew\",\"jobs\",\"poverty\",\"plan\",\"positive\",\"east\",\"fall\",\"safe\",\"strong\",\"essentially\",\"object\",\"door\",\"continue\",\"further\",\"son\",\"vision\",\"happiness\",\"student\",\"doctor\",\"named\",\"role\",\"objects\",\"including\",\"extraordinary\",\"standing\",\"leaders\",\"african\",\"skin\",\"usually\",\"projects\",\"conversation\",\"models\",\"allowed\",\"supposed\",\"faster\",\"interest\",\"fight\",\"police\",\"families\",\"connected\",\"tree\",\"cases\",\"5\",\"screen\",\"somewhere\",\"goal\",\"shown\",\"finding\",\"buildings\"],\"x1\":{\"__ndarray__\":\"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\",\"dtype\":\"float64\",\"shape\":[1000]},\"x2\":{\"__ndarray__\":\"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\",\"dtype\":\"float64\",\"shape\":[1000]}}},\"id\":\"3e4ab1cf-5d20-40ea-baef-2e1603e25a5d\",\"type\":\"ColumnDataSource\"},{\"attributes\":{\"fill_color\":{\"value\":\"#1f77b4\"},\"line_color\":{\"value\":\"#1f77b4\"},\"size\":{\"units\":\"screen\",\"value\":8},\"x\":{\"field\":\"x1\"},\"y\":{\"field\":\"x2\"}},\"id\":\"cfc4fab9-db4f-4f03-b004-34e5b44e3fc7\",\"type\":\"Circle\"},{\"attributes\":{\"callback\":null},\"id\":\"33d4d76a-147d-470d-bf57-f19fe9369c24\",\"type\":\"DataRange1d\"},{\"attributes\":{\"dimension\":1,\"plot\":{\"id\":\"77f72665-f91f-4a8c-ae13-664d92fbabfa\",\"subtype\":\"Figure\",\"type\":\"Plot\"},\"ticker\":{\"id\":\"d6d53235-2458-4ee2-a610-5f03eb56f9da\",\"type\":\"BasicTicker\"}},\"id\":\"8248015f-2d32-4713-a29f-ed993bded4b4\",\"type\":\"Grid\"},{\"attributes\":{\"plot\":{\"id\":\"77f72665-f91f-4a8c-ae13-664d92fbabfa\",\"subtype\":\"Figure\",\"type\":\"Plot\"}},\"id\":\"2bec13c3-7ffa-49e3-a4c1-631edeb713be\",\"type\":\"SaveTool\"},{\"attributes\":{},\"id\":\"e4c05e53-93bf-4417-848f-aa2aca3ae52b\",\"type\":\"BasicTickFormatter\"},{\"attributes\":{\"plot\":{\"id\":\"77f72665-f91f-4a8c-ae13-664d92fbabfa\",\"subtype\":\"Figure\",\"type\":\"Plot\"}},\"id\":\"675dd2af-8aa8-48f7-9373-5ea9b22c03b6\",\"type\":\"WheelZoomTool\"},{\"attributes\":{},\"id\":\"2475257c-19b4-4aa3-a635-4f22a5caf833\",\"type\":\"BasicTickFormatter\"},{\"attributes\":{\"data_source\":{\"id\":\"3e4ab1cf-5d20-40ea-baef-2e1603e25a5d\",\"type\":\"ColumnDataSource\"},\"glyph\":{\"id\":\"cfc4fab9-db4f-4f03-b004-34e5b44e3fc7\",\"type\":\"Circle\"},\"hover_glyph\":null,\"nonselection_glyph\":{\"id\":\"6df34ac8-9e39-475e-8ec9-41720037f062\",\"type\":\"Circle\"},\"selection_glyph\":null},\"id\":\"5a6443e0-8884-435d-8bd2-ee4863f7546e\",\"type\":\"GlyphRenderer\"},{\"attributes\":{},\"id\":\"1178c936-9ac1-49d0-90b4-36ed60377d50\",\"type\":\"ToolEvents\"},{\"attributes\":{\"plot\":{\"id\":\"77f72665-f91f-4a8c-ae13-664d92fbabfa\",\"subtype\":\"Figure\",\"type\":\"Plot\"}},\"id\":\"c1d16742-90d2-4ec3-ae08-5b4f71df96a2\",\"type\":\"PanTool\"},{\"attributes\":{\"plot\":{\"id\":\"77f72665-f91f-4a8c-ae13-664d92fbabfa\",\"subtype\":\"Figure\",\"type\":\"Plot\"}},\"id\":\"50e3461e-95bf-4931-8d08-015744f243ad\",\"type\":\"ResetTool\"},{\"attributes\":{\"formatter\":{\"id\":\"e4c05e53-93bf-4417-848f-aa2aca3ae52b\",\"type\":\"BasicTickFormatter\"},\"plot\":{\"id\":\"77f72665-f91f-4a8c-ae13-664d92fbabfa\",\"subtype\":\"Figure\",\"type\":\"Plot\"},\"ticker\":{\"id\":\"56417400-5b72-4c8e-8561-b79a1a7d1d64\",\"type\":\"BasicTicker\"}},\"id\":\"42162c6a-250a-46c1-9c56-6c2a401a6cc3\",\"type\":\"LinearAxis\"}],\"root_ids\":[\"77f72665-f91f-4a8c-ae13-664d92fbabfa\"]},\"title\":\"Bokeh Application\",\"version\":\"0.12.4\"}};\n",
       "            var render_items = [{\"docid\":\"fb8a5096-bf2b-4ec4-9925-d7ecac3417f3\",\"elementid\":\"5df52d79-95fa-4d96-a105-b967eb4183b2\",\"modelid\":\"77f72665-f91f-4a8c-ae13-664d92fbabfa\"}];\n",
       "            \n",
       "            Bokeh.embed.embed_items(docs_json, render_items);\n",
       "          };\n",
       "          if (document.readyState != \"loading\") fn();\n",
       "          else document.addEventListener(\"DOMContentLoaded\", fn);\n",
       "        })();\n",
       "      },\n",
       "      function(Bokeh) {\n",
       "      }\n",
       "    ];\n",
       "  \n",
       "    function run_inline_js() {\n",
       "      \n",
       "      if ((window.Bokeh !== undefined) || (force === true)) {\n",
       "        for (var i = 0; i < inline_js.length; i++) {\n",
       "          inline_js[i](window.Bokeh);\n",
       "        }if (force === true) {\n",
       "          display_loaded();\n",
       "        }} else if (Date.now() < window._bokeh_timeout) {\n",
       "        setTimeout(run_inline_js, 100);\n",
       "      } else if (!window._bokeh_failed_load) {\n",
       "        console.log(\"Bokeh: BokehJS failed to load within specified timeout.\");\n",
       "        window._bokeh_failed_load = true;\n",
       "      } else if (force !== true) {\n",
       "        var cell = $(document.getElementById(\"5df52d79-95fa-4d96-a105-b967eb4183b2\")).parents('.cell').data().cell;\n",
       "        cell.output_area.append_execute_result(NB_LOAD_WARNING)\n",
       "      }\n",
       "  \n",
       "    }\n",
       "  \n",
       "    if (window._bokeh_is_loading === 0) {\n",
       "      console.log(\"Bokeh: BokehJS loaded, going straight to plotting\");\n",
       "      run_inline_js();\n",
       "    } else {\n",
       "      load_libs(js_urls, function() {\n",
       "        console.log(\"Bokeh: BokehJS plotting callback run at\", now());\n",
       "        run_inline_js();\n",
       "      });\n",
       "    }\n",
       "  }(this));\n",
       "</script>"
      ]
     },
     "metadata": {},
     "output_type": "display_data"
    }
   ],
   "source": [
    "p = figure(tools=\"pan,wheel_zoom,reset,save\",\n",
    "           toolbar_location=\"above\",\n",
    "           title=\"word2vec T-SNE for most common words\")\n",
    "\n",
    "source = ColumnDataSource(data=dict(x1=words_top_ted_tsne[:,0],\n",
    "                                    x2=words_top_ted_tsne[:,1],\n",
    "                                    names=words_top_ted))\n",
    "\n",
    "p.scatter(x=\"x1\", y=\"x2\", size=8, source=source)\n",
    "\n",
    "labels = LabelSet(x=\"x1\", y=\"x2\", text=\"names\", y_offset=6,\n",
    "                  text_font_size=\"8pt\", text_color=\"#555555\",\n",
    "                  source=source, text_align='center')\n",
    "p.add_layout(labels)\n",
    "\n",
    "show(p)"
   ]
  },
  {
   "cell_type": "markdown",
   "metadata": {},
   "source": [
    "### Part 5: Wiki Learnt Representations"
   ]
  },
  {
   "cell_type": "markdown",
   "metadata": {},
   "source": [
    "Download dataset"
   ]
  },
  {
   "cell_type": "code",
   "execution_count": 105,
   "metadata": {
    "collapsed": true
   },
   "outputs": [],
   "source": [
    "if not os.path.isfile('wikitext-103-raw-v1.zip'):\n",
    "    urllib.request.urlretrieve(\"https://s3.amazonaws.com/research.metamind.io/wikitext/wikitext-103-raw-v1.zip\", filename=\"wikitext-103-raw-v1.zip\")"
   ]
  },
  {
   "cell_type": "code",
   "execution_count": null,
   "metadata": {
    "collapsed": false
   },
   "outputs": [],
   "source": [
    "with zipfile.ZipFile('wikitext-103-raw-v1.zip', 'r') as z:\n",
    "    input_text = str(z.open('wikitext-103-raw/wiki.train.raw', 'r').read(), encoding='utf-8')"
   ]
  },
  {
   "cell_type": "markdown",
   "metadata": {},
   "source": [
    "Preprocess sentences (note that it's important to remove small sentences for performance)"
   ]
  },
  {
   "cell_type": "code",
   "execution_count": null,
   "metadata": {
    "collapsed": false
   },
   "outputs": [],
   "source": [
    "sentences_wiki = []\n",
    "for line in input_text.split('\\n'):\n",
    "    s = [x for x in line.split('.') if x and len(x.split()) >= 5]\n",
    "    sentences_wiki.extend(s)\n",
    "        \n",
    "for s_i in range(len(sentences_wiki)):\n",
    "    sentences_wiki[s_i] = re.sub(\"[^a-z]\", \" \", sentences_wiki[s_i].lower())\n",
    "    sentences_wiki[s_i] = re.sub(r'\\([^)]*\\)', '', sentences_wiki[s_i])\n",
    "    sentences_wiki[s_i] = sentences_wiki[s_i].split()\n",
    "del input_text"
   ]
  },
  {
   "cell_type": "code",
   "execution_count": null,
   "metadata": {
    "collapsed": false
   },
   "outputs": [],
   "source": [
    "# sample 1/5 of the data\n",
    "shuffle(sentences_wiki)\n",
    "print(len(sentences_wiki))\n",
    "sentences_wiki = sentences_wiki[:int(len(sentences_wiki)/5)]\n",
    "print(len(sentences_wiki))\n",
    "print(sentences_wiki)"
   ]
  },
  {
   "cell_type": "markdown",
   "metadata": {},
   "source": [
    "Now, repeat all the same steps that you performed above. You should be able to reuse essentially all the code."
   ]
  },
  {
   "cell_type": "code",
   "execution_count": null,
   "metadata": {
    "collapsed": false
   },
   "outputs": [],
   "source": [
    "counts = Counter()\n",
    "for sentence in sentences_wiki:\n",
    "    for word in sentence:\n",
    "        counts[word] += 1\n",
    "print(counts.most_common(10))\n",
    "words_top_wiki, counts_wiki_top1000 = zip(*counts.most_common(1000))\n",
    "\n",
    "model_wiki = Word2Vec(sentences_wiki, size=100, window=5, min_count=10, workers=4)"
   ]
  },
  {
   "cell_type": "code",
   "execution_count": null,
   "metadata": {
    "collapsed": false
   },
   "outputs": [],
   "source": [
    "model_wiki.most_similar(\"computer\")"
   ]
  },
  {
   "cell_type": "code",
   "execution_count": null,
   "metadata": {
    "collapsed": false
   },
   "outputs": [],
   "source": [
    "model_wiki.most_similar(\"shakespeare\")"
   ]
  },
  {
   "cell_type": "markdown",
   "metadata": {},
   "source": [
    "#### t-SNE visualization"
   ]
  },
  {
   "cell_type": "code",
   "execution_count": null,
   "metadata": {
    "collapsed": false
   },
   "outputs": [],
   "source": [
    "# This assumes words_top_wiki is a list of strings, the top 1000 words\n",
    "words_top_vec_wiki = model_wiki[words_top_wiki]\n",
    "    \n",
    "tsne = TSNE(n_components=2, random_state=0)\n",
    "words_top_wiki_tsne = tsne.fit_transform(words_top_vec_wiki)"
   ]
  },
  {
   "cell_type": "code",
   "execution_count": null,
   "metadata": {
    "collapsed": true
   },
   "outputs": [],
   "source": [
    "import sklearn\n",
    "from bokeh.palettes import Category20\n",
    "num_clusters = 10\n",
    "clustering = sklearn.cluster.KMeans(n_clusters=num_clusters)\n",
    "colors = np.array(Category20[num_clusters])[clustering.fit_predict(words_top_vec_wiki)]"
   ]
  },
  {
   "cell_type": "code",
   "execution_count": null,
   "metadata": {
    "collapsed": false
   },
   "outputs": [],
   "source": [
    "p = figure(tools=\"pan,wheel_zoom,reset,save\",\n",
    "           toolbar_location=\"above\",\n",
    "           title=\"word2vec T-SNE for most common words\")\n",
    "\n",
    "source = ColumnDataSource(data=dict(x1=words_top_wiki_tsne[:,0],\n",
    "                                    x2=words_top_wiki_tsne[:,1],\n",
    "                                    colors=colors,\n",
    "                                    names=words_top_wiki))\n",
    "\n",
    "p.scatter(x=\"x1\", y=\"x2\", size=8, fill_color=\"colors\", line_color=None, source=source)\n",
    "\n",
    "labels = LabelSet(x=\"x1\", y=\"x2\", text=\"names\", y_offset=6,\n",
    "                  text_font_size=\"8pt\", text_color=\"colors\",\n",
    "                  source=source, text_align='center')\n",
    "p.add_layout(labels)\n",
    "\n",
    "show(p)"
   ]
  }
 ],
 "metadata": {
  "anaconda-cloud": {},
  "kernelspec": {
   "display_name": "Python [conda root]",
   "language": "python",
   "name": "conda-root-py"
  },
  "language_info": {
   "codemirror_mode": {
    "name": "ipython",
    "version": 3
   },
   "file_extension": ".py",
   "mimetype": "text/x-python",
   "name": "python",
   "nbconvert_exporter": "python",
   "pygments_lexer": "ipython3",
   "version": "3.5.2"
  }
 },
 "nbformat": 4,
 "nbformat_minor": 0
}
