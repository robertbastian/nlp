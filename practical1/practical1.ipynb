{
 "cells": [
  {
   "cell_type": "markdown",
   "metadata": {},
   "source": [
    "## Practical 1: word2vec\n",
    "Oxford CS - Deep NLP 2017<br>\n",
    "https://www.cs.ox.ac.uk/teaching/courses/2016-2017/dl/"
   ]
  },
  {
   "cell_type": "markdown",
   "metadata": {},
   "source": [
    "This practical is presented as an IPython Notebook, with the code written for recent versions of **Python 3**. The code in this practical will not work with Python 2 unless you modify it. If you are using your own Python installation, ensure you have a setup identical to that described in the installation shell script (which is intended for use with the department lab machines). We will be unable to support installation on personal machines due to time constraints, so please use the lab machines and the setup script if you are unfamiliar with how to install Anaconda.\n",
    "\n",
    "To execute a notebook cell, press `shift-enter`. The return value of the last command will be displayed, if it is not `None`.\n",
    "\n",
    "Potentially useful library documentation, references, and resources:\n",
    "\n",
    "* IPython notebooks: <https://ipython.org/ipython-doc/3/notebook/notebook.html#introduction>\n",
    "* Numpy numerical array library: <https://docs.scipy.org/doc/>\n",
    "* Gensim's word2vec: <https://radimrehurek.com/gensim/models/word2vec.html>\n",
    "* Bokeh interactive plots: <http://bokeh.pydata.org/en/latest/> (we provide plotting code here, but click the thumbnails for more examples to copy-paste)\n",
    "* scikit-learn ML library (aka `sklearn`): <http://scikit-learn.org/stable/documentation.html>\n",
    "* nltk NLP toolkit: <http://www.nltk.org/>\n",
    "* tutorial for processing xml in python using `lxml`: <http://lxml.de/tutorial.html> (we did this for you below, but in case you need it in the future)"
   ]
  },
  {
   "cell_type": "code",
   "execution_count": 2,
   "metadata": {
    "collapsed": false
   },
   "outputs": [],
   "source": [
    "import numpy as np\n",
    "import os\n",
    "from random import shuffle\n",
    "import re"
   ]
  },
  {
   "cell_type": "code",
   "execution_count": 3,
   "metadata": {
    "collapsed": false
   },
   "outputs": [
    {
     "data": {
      "text/html": [
       "\n",
       "    <div class=\"bk-root\">\n",
       "        <a href=\"http://bokeh.pydata.org\" target=\"_blank\" class=\"bk-logo bk-logo-small bk-logo-notebook\"></a>\n",
       "        <span id=\"092812f1-f3e1-411e-b808-3ca1925f904b\">Loading BokehJS ...</span>\n",
       "    </div>"
      ]
     },
     "metadata": {},
     "output_type": "display_data"
    },
    {
     "data": {
      "application/javascript": [
       "\n",
       "(function(global) {\n",
       "  function now() {\n",
       "    return new Date();\n",
       "  }\n",
       "\n",
       "  var force = \"1\";\n",
       "\n",
       "  if (typeof (window._bokeh_onload_callbacks) === \"undefined\" || force !== \"\") {\n",
       "    window._bokeh_onload_callbacks = [];\n",
       "    window._bokeh_is_loading = undefined;\n",
       "  }\n",
       "\n",
       "\n",
       "  \n",
       "  if (typeof (window._bokeh_timeout) === \"undefined\" || force !== \"\") {\n",
       "    window._bokeh_timeout = Date.now() + 5000;\n",
       "    window._bokeh_failed_load = false;\n",
       "  }\n",
       "\n",
       "  var NB_LOAD_WARNING = {'data': {'text/html':\n",
       "     \"<div style='background-color: #fdd'>\\n\"+\n",
       "     \"<p>\\n\"+\n",
       "     \"BokehJS does not appear to have successfully loaded. If loading BokehJS from CDN, this \\n\"+\n",
       "     \"may be due to a slow or bad network connection. Possible fixes:\\n\"+\n",
       "     \"</p>\\n\"+\n",
       "     \"<ul>\\n\"+\n",
       "     \"<li>re-rerun `output_notebook()` to attempt to load from CDN again, or</li>\\n\"+\n",
       "     \"<li>use INLINE resources instead, as so:</li>\\n\"+\n",
       "     \"</ul>\\n\"+\n",
       "     \"<code>\\n\"+\n",
       "     \"from bokeh.resources import INLINE\\n\"+\n",
       "     \"output_notebook(resources=INLINE)\\n\"+\n",
       "     \"</code>\\n\"+\n",
       "     \"</div>\"}};\n",
       "\n",
       "  function display_loaded() {\n",
       "    if (window.Bokeh !== undefined) {\n",
       "      Bokeh.$(\"#092812f1-f3e1-411e-b808-3ca1925f904b\").text(\"BokehJS successfully loaded.\");\n",
       "    } else if (Date.now() < window._bokeh_timeout) {\n",
       "      setTimeout(display_loaded, 100)\n",
       "    }\n",
       "  }\n",
       "\n",
       "  function run_callbacks() {\n",
       "    window._bokeh_onload_callbacks.forEach(function(callback) { callback() });\n",
       "    delete window._bokeh_onload_callbacks\n",
       "    console.info(\"Bokeh: all callbacks have finished\");\n",
       "  }\n",
       "\n",
       "  function load_libs(js_urls, callback) {\n",
       "    window._bokeh_onload_callbacks.push(callback);\n",
       "    if (window._bokeh_is_loading > 0) {\n",
       "      console.log(\"Bokeh: BokehJS is being loaded, scheduling callback at\", now());\n",
       "      return null;\n",
       "    }\n",
       "    if (js_urls == null || js_urls.length === 0) {\n",
       "      run_callbacks();\n",
       "      return null;\n",
       "    }\n",
       "    console.log(\"Bokeh: BokehJS not loaded, scheduling load and callback at\", now());\n",
       "    window._bokeh_is_loading = js_urls.length;\n",
       "    for (var i = 0; i < js_urls.length; i++) {\n",
       "      var url = js_urls[i];\n",
       "      var s = document.createElement('script');\n",
       "      s.src = url;\n",
       "      s.async = false;\n",
       "      s.onreadystatechange = s.onload = function() {\n",
       "        window._bokeh_is_loading--;\n",
       "        if (window._bokeh_is_loading === 0) {\n",
       "          console.log(\"Bokeh: all BokehJS libraries loaded\");\n",
       "          run_callbacks()\n",
       "        }\n",
       "      };\n",
       "      s.onerror = function() {\n",
       "        console.warn(\"failed to load library \" + url);\n",
       "      };\n",
       "      console.log(\"Bokeh: injecting script tag for BokehJS library: \", url);\n",
       "      document.getElementsByTagName(\"head\")[0].appendChild(s);\n",
       "    }\n",
       "  };var element = document.getElementById(\"092812f1-f3e1-411e-b808-3ca1925f904b\");\n",
       "  if (element == null) {\n",
       "    console.log(\"Bokeh: ERROR: autoload.js configured with elementid '092812f1-f3e1-411e-b808-3ca1925f904b' but no matching script tag was found. \")\n",
       "    return false;\n",
       "  }\n",
       "\n",
       "  var js_urls = ['https://cdn.pydata.org/bokeh/release/bokeh-0.12.2.min.js', 'https://cdn.pydata.org/bokeh/release/bokeh-widgets-0.12.2.min.js', 'https://cdn.pydata.org/bokeh/release/bokeh-compiler-0.12.2.min.js'];\n",
       "\n",
       "  var inline_js = [\n",
       "    function(Bokeh) {\n",
       "      Bokeh.set_log_level(\"info\");\n",
       "    },\n",
       "    \n",
       "    function(Bokeh) {\n",
       "      \n",
       "      Bokeh.$(\"#092812f1-f3e1-411e-b808-3ca1925f904b\").text(\"BokehJS is loading...\");\n",
       "    },\n",
       "    function(Bokeh) {\n",
       "      console.log(\"Bokeh: injecting CSS: https://cdn.pydata.org/bokeh/release/bokeh-0.12.2.min.css\");\n",
       "      Bokeh.embed.inject_css(\"https://cdn.pydata.org/bokeh/release/bokeh-0.12.2.min.css\");\n",
       "      console.log(\"Bokeh: injecting CSS: https://cdn.pydata.org/bokeh/release/bokeh-widgets-0.12.2.min.css\");\n",
       "      Bokeh.embed.inject_css(\"https://cdn.pydata.org/bokeh/release/bokeh-widgets-0.12.2.min.css\");\n",
       "    }\n",
       "  ];\n",
       "\n",
       "  function run_inline_js() {\n",
       "    \n",
       "    if ((window.Bokeh !== undefined) || (force === \"1\")) {\n",
       "      for (var i = 0; i < inline_js.length; i++) {\n",
       "        inline_js[i](window.Bokeh);\n",
       "      }if (force === \"1\") {\n",
       "        display_loaded();\n",
       "      }} else if (Date.now() < window._bokeh_timeout) {\n",
       "      setTimeout(run_inline_js, 100);\n",
       "    } else if (!window._bokeh_failed_load) {\n",
       "      console.log(\"Bokeh: BokehJS failed to load within specified timeout.\");\n",
       "      window._bokeh_failed_load = true;\n",
       "    } else if (!force) {\n",
       "      var cell = $(\"#092812f1-f3e1-411e-b808-3ca1925f904b\").parents('.cell').data().cell;\n",
       "      cell.output_area.append_execute_result(NB_LOAD_WARNING)\n",
       "    }\n",
       "\n",
       "  }\n",
       "\n",
       "  if (window._bokeh_is_loading === 0) {\n",
       "    console.log(\"Bokeh: BokehJS loaded, going straight to plotting\");\n",
       "    run_inline_js();\n",
       "  } else {\n",
       "    load_libs(js_urls, function() {\n",
       "      console.log(\"Bokeh: BokehJS plotting callback run at\", now());\n",
       "      run_inline_js();\n",
       "    });\n",
       "  }\n",
       "}(this));"
      ]
     },
     "metadata": {},
     "output_type": "display_data"
    }
   ],
   "source": [
    "from bokeh.models import ColumnDataSource, LabelSet\n",
    "from bokeh.plotting import figure, show, output_file\n",
    "from bokeh.io import output_notebook\n",
    "output_notebook()"
   ]
  },
  {
   "cell_type": "markdown",
   "metadata": {},
   "source": [
    "### Part 0: Download the TED dataset"
   ]
  },
  {
   "cell_type": "code",
   "execution_count": 4,
   "metadata": {
    "collapsed": false
   },
   "outputs": [],
   "source": [
    "import urllib.request\n",
    "import zipfile\n",
    "import lxml.etree"
   ]
  },
  {
   "cell_type": "code",
   "execution_count": 5,
   "metadata": {
    "collapsed": false
   },
   "outputs": [],
   "source": [
    "# Download the dataset if it's not already there: this may take a minute as it is 75MB\n",
    "if not os.path.isfile('ted_en-20160408.zip'):\n",
    "    urllib.request.urlretrieve(\"https://wit3.fbk.eu/get.php?path=XML_releases/xml/ted_en-20160408.zip&filename=ted_en-20160408.zip\", filename=\"ted_en-20160408.zip\")"
   ]
  },
  {
   "cell_type": "code",
   "execution_count": 6,
   "metadata": {
    "collapsed": true
   },
   "outputs": [],
   "source": [
    "# For now, we're only interested in the subtitle text, so let's extract that from the XML:\n",
    "with zipfile.ZipFile('ted_en-20160408.zip', 'r') as z:\n",
    "    doc = lxml.etree.parse(z.open('ted_en-20160408.xml', 'r'))\n",
    "input_text = '\\n'.join(doc.xpath('//content/text()'))\n",
    "del doc"
   ]
  },
  {
   "cell_type": "markdown",
   "metadata": {},
   "source": [
    "### Part 1: Preprocessing\n",
    "\n",
    "In this part, we attempt to clean up the raw subtitles a bit, so that we get only sentences. The following substring shows examples of what we're trying to get rid of. Since it's hard to define precisely what we want to get rid of, we'll just use some simple heuristics."
   ]
  },
  {
   "cell_type": "code",
   "execution_count": 7,
   "metadata": {
    "collapsed": false,
    "scrolled": false
   },
   "outputs": [
    {
     "data": {
      "text/plain": [
       "' baby does.\\n(Video) Hyowon Gweon: See this? (Ball squeaks) Did you see that? (Ball squeaks) Cool. See this one? (Ball squeaks) Wow.\\nLaura Schulz: Told you. (Laughs)\\n(Vide'"
      ]
     },
     "execution_count": 7,
     "metadata": {},
     "output_type": "execute_result"
    }
   ],
   "source": [
    "i = input_text.find(\"Hyowon Gweon: See this?\")\n",
    "input_text[i-20:i+150]"
   ]
  },
  {
   "cell_type": "markdown",
   "metadata": {},
   "source": [
    "Let's start by removing all parenthesized strings using a regex:"
   ]
  },
  {
   "cell_type": "code",
   "execution_count": 8,
   "metadata": {
    "collapsed": true
   },
   "outputs": [],
   "source": [
    "input_text_noparens = re.sub(r'\\([^)]*\\)', '', input_text)"
   ]
  },
  {
   "cell_type": "markdown",
   "metadata": {},
   "source": [
    "We can verify the same location in the text is now clean as follows. We won't worry about the irregular spaces since we'll later split the text into sentences and tokenize it anyway."
   ]
  },
  {
   "cell_type": "code",
   "execution_count": 9,
   "metadata": {
    "collapsed": false
   },
   "outputs": [
    {
     "data": {
      "text/plain": [
       "\"hat the baby does.\\n Hyowon Gweon: See this?  Did you see that?  Cool. See this one?  Wow.\\nLaura Schulz: Told you. \\n HG: See this one?  Hey Clara, this one's for you. You \""
      ]
     },
     "execution_count": 9,
     "metadata": {},
     "output_type": "execute_result"
    }
   ],
   "source": [
    "i = input_text_noparens.find(\"Hyowon Gweon: See this?\")\n",
    "input_text_noparens[i-20:i+150]"
   ]
  },
  {
   "cell_type": "markdown",
   "metadata": {},
   "source": [
    "Now, let's attempt to remove speakers' names that occur at the beginning of a line, by deleting pieces of the form \"`<up to 20 characters>:`\", as shown in this example. Of course, this is an imperfect heuristic. "
   ]
  },
  {
   "cell_type": "code",
   "execution_count": 10,
   "metadata": {
    "collapsed": false
   },
   "outputs": [
    {
     "data": {
      "text/plain": [
       "[\"Here are two reasons companies fail: they only do more of the same, or they only do what's new\",\n",
       " 'To me the real, real solution to quality growth is figuring out the balance between two activities: exploration and exploitation',\n",
       " ' Both are necessary, but it can be too much of a good thing',\n",
       " 'Consider Facit',\n",
       " \" I'm actually old enough to remember them\"]"
      ]
     },
     "execution_count": 10,
     "metadata": {},
     "output_type": "execute_result"
    }
   ],
   "source": [
    "sentences_strings_ted = []\n",
    "for line in input_text_noparens.split('\\n'):\n",
    "    m = re.match(r'^(?:(?P<precolon>[^:]{,20}):)?(?P<postcolon>.*)$', line)\n",
    "    sentences_strings_ted.extend(sent for sent in m.groupdict()['postcolon'].split('.') if sent)\n",
    "\n",
    "# Uncomment if you need to save some RAM: these strings are about 50MB.\n",
    "# del input_text, input_text_noparens\n",
    "\n",
    "# Let's view the first few:\n",
    "sentences_strings_ted[:5]"
   ]
  },
  {
   "cell_type": "markdown",
   "metadata": {},
   "source": [
    "Now that we have sentences, we're ready to tokenize each of them into words. This tokenization is imperfect, of course. For instance, how many tokens is \"can't\", and where/how do we split it? We'll take the simplest naive approach of splitting on spaces. Before splitting, we remove non-alphanumeric characters, such as punctuation. You may want to consider the following question: why do we replace these characters with spaces rather than deleting them? Think of a case where this yields a different answer."
   ]
  },
  {
   "cell_type": "code",
   "execution_count": 11,
   "metadata": {
    "collapsed": false
   },
   "outputs": [],
   "source": [
    "sentences_ted = []\n",
    "for sent_str in sentences_strings_ted:\n",
    "    tokens = re.sub(r\"[^a-z0-9]+\", \" \", sent_str.lower()).split()\n",
    "    sentences_ted.append(tokens)"
   ]
  },
  {
   "cell_type": "markdown",
   "metadata": {},
   "source": [
    "Two sample processed sentences:"
   ]
  },
  {
   "cell_type": "code",
   "execution_count": 12,
   "metadata": {
    "collapsed": false
   },
   "outputs": [
    {
     "data": {
      "text/plain": [
       "266694"
      ]
     },
     "execution_count": 12,
     "metadata": {},
     "output_type": "execute_result"
    }
   ],
   "source": [
    "len(sentences_ted)"
   ]
  },
  {
   "cell_type": "code",
   "execution_count": 13,
   "metadata": {
    "collapsed": false
   },
   "outputs": [
    {
     "name": "stdout",
     "output_type": "stream",
     "text": [
      "['here', 'are', 'two', 'reasons', 'companies', 'fail', 'they', 'only', 'do', 'more', 'of', 'the', 'same', 'or', 'they', 'only', 'do', 'what', 's', 'new']\n",
      "['to', 'me', 'the', 'real', 'real', 'solution', 'to', 'quality', 'growth', 'is', 'figuring', 'out', 'the', 'balance', 'between', 'two', 'activities', 'exploration', 'and', 'exploitation']\n"
     ]
    }
   ],
   "source": [
    "print(sentences_ted[0])\n",
    "print(sentences_ted[1])"
   ]
  },
  {
   "cell_type": "markdown",
   "metadata": {},
   "source": [
    "### Part 2: Word Frequencies"
   ]
  },
  {
   "cell_type": "markdown",
   "metadata": {},
   "source": [
    "If you store the counts of the top 1000 words in a list called `counts_ted_top1000`, the code below will plot the histogram requested in the writeup."
   ]
  },
  {
   "cell_type": "code",
   "execution_count": 14,
   "metadata": {
    "collapsed": false
   },
   "outputs": [
    {
     "name": "stdout",
     "output_type": "stream",
     "text": [
      "[('the', 207748), ('and', 149305), ('to', 125169), ('of', 114818), ('a', 105399), ('that', 95146), ('i', 83180), ('in', 78070), ('it', 74738), ('you', 70923)]\n"
     ]
    }
   ],
   "source": [
    "from collections import Counter\n",
    "counts = Counter()\n",
    "for sentence in sentences_ted:\n",
    "    for word in sentence:\n",
    "        counts[word] += 1\n",
    "print(counts.most_common(10))\n",
    "words_top_ted, counts_ted_top1000 = zip(*counts.most_common(1000))"
   ]
  },
  {
   "cell_type": "markdown",
   "metadata": {},
   "source": [
    "Plot distribution of top-1000 words"
   ]
  },
  {
   "cell_type": "code",
   "execution_count": 15,
   "metadata": {
    "collapsed": false
   },
   "outputs": [
    {
     "data": {
      "text/html": [
       "\n",
       "\n",
       "    <div class=\"bk-root\">\n",
       "        <div class=\"plotdiv\" id=\"39271842-b07f-4f86-b614-0a083d072637\"></div>\n",
       "    </div>\n",
       "<script type=\"text/javascript\">\n",
       "  \n",
       "  (function(global) {\n",
       "    function now() {\n",
       "      return new Date();\n",
       "    }\n",
       "  \n",
       "    var force = \"\";\n",
       "  \n",
       "    if (typeof (window._bokeh_onload_callbacks) === \"undefined\" || force !== \"\") {\n",
       "      window._bokeh_onload_callbacks = [];\n",
       "      window._bokeh_is_loading = undefined;\n",
       "    }\n",
       "  \n",
       "  \n",
       "    \n",
       "    if (typeof (window._bokeh_timeout) === \"undefined\" || force !== \"\") {\n",
       "      window._bokeh_timeout = Date.now() + 0;\n",
       "      window._bokeh_failed_load = false;\n",
       "    }\n",
       "  \n",
       "    var NB_LOAD_WARNING = {'data': {'text/html':\n",
       "       \"<div style='background-color: #fdd'>\\n\"+\n",
       "       \"<p>\\n\"+\n",
       "       \"BokehJS does not appear to have successfully loaded. If loading BokehJS from CDN, this \\n\"+\n",
       "       \"may be due to a slow or bad network connection. Possible fixes:\\n\"+\n",
       "       \"</p>\\n\"+\n",
       "       \"<ul>\\n\"+\n",
       "       \"<li>re-rerun `output_notebook()` to attempt to load from CDN again, or</li>\\n\"+\n",
       "       \"<li>use INLINE resources instead, as so:</li>\\n\"+\n",
       "       \"</ul>\\n\"+\n",
       "       \"<code>\\n\"+\n",
       "       \"from bokeh.resources import INLINE\\n\"+\n",
       "       \"output_notebook(resources=INLINE)\\n\"+\n",
       "       \"</code>\\n\"+\n",
       "       \"</div>\"}};\n",
       "  \n",
       "    function display_loaded() {\n",
       "      if (window.Bokeh !== undefined) {\n",
       "        Bokeh.$(\"#39271842-b07f-4f86-b614-0a083d072637\").text(\"BokehJS successfully loaded.\");\n",
       "      } else if (Date.now() < window._bokeh_timeout) {\n",
       "        setTimeout(display_loaded, 100)\n",
       "      }\n",
       "    }\n",
       "  \n",
       "    function run_callbacks() {\n",
       "      window._bokeh_onload_callbacks.forEach(function(callback) { callback() });\n",
       "      delete window._bokeh_onload_callbacks\n",
       "      console.info(\"Bokeh: all callbacks have finished\");\n",
       "    }\n",
       "  \n",
       "    function load_libs(js_urls, callback) {\n",
       "      window._bokeh_onload_callbacks.push(callback);\n",
       "      if (window._bokeh_is_loading > 0) {\n",
       "        console.log(\"Bokeh: BokehJS is being loaded, scheduling callback at\", now());\n",
       "        return null;\n",
       "      }\n",
       "      if (js_urls == null || js_urls.length === 0) {\n",
       "        run_callbacks();\n",
       "        return null;\n",
       "      }\n",
       "      console.log(\"Bokeh: BokehJS not loaded, scheduling load and callback at\", now());\n",
       "      window._bokeh_is_loading = js_urls.length;\n",
       "      for (var i = 0; i < js_urls.length; i++) {\n",
       "        var url = js_urls[i];\n",
       "        var s = document.createElement('script');\n",
       "        s.src = url;\n",
       "        s.async = false;\n",
       "        s.onreadystatechange = s.onload = function() {\n",
       "          window._bokeh_is_loading--;\n",
       "          if (window._bokeh_is_loading === 0) {\n",
       "            console.log(\"Bokeh: all BokehJS libraries loaded\");\n",
       "            run_callbacks()\n",
       "          }\n",
       "        };\n",
       "        s.onerror = function() {\n",
       "          console.warn(\"failed to load library \" + url);\n",
       "        };\n",
       "        console.log(\"Bokeh: injecting script tag for BokehJS library: \", url);\n",
       "        document.getElementsByTagName(\"head\")[0].appendChild(s);\n",
       "      }\n",
       "    };var element = document.getElementById(\"39271842-b07f-4f86-b614-0a083d072637\");\n",
       "    if (element == null) {\n",
       "      console.log(\"Bokeh: ERROR: autoload.js configured with elementid '39271842-b07f-4f86-b614-0a083d072637' but no matching script tag was found. \")\n",
       "      return false;\n",
       "    }\n",
       "  \n",
       "    var js_urls = [];\n",
       "  \n",
       "    var inline_js = [\n",
       "      function(Bokeh) {\n",
       "        Bokeh.$(function() {\n",
       "            var docs_json = {\"b68813b8-07e4-4e86-9604-ce1f86ba568c\":{\"roots\":{\"references\":[{\"attributes\":{\"formatter\":{\"id\":\"3064b030-b9b6-4a57-ab03-a112db7750ef\",\"type\":\"BasicTickFormatter\"},\"plot\":{\"id\":\"19ef6e7f-064f-4974-9bd5-afc4c7c320a9\",\"subtype\":\"Figure\",\"type\":\"Plot\"},\"ticker\":{\"id\":\"34091279-7f2c-4e65-9341-44a5f9cdb61a\",\"type\":\"BasicTicker\"}},\"id\":\"bb9f24a6-5e72-43a5-94f2-420e0bb5f9ac\",\"type\":\"LinearAxis\"},{\"attributes\":{\"plot\":{\"id\":\"19ef6e7f-064f-4974-9bd5-afc4c7c320a9\",\"subtype\":\"Figure\",\"type\":\"Plot\"}},\"id\":\"7c312712-051e-4e1d-82b3-6d49735e89d3\",\"type\":\"WheelZoomTool\"},{\"attributes\":{},\"id\":\"56dba4f1-bf03-4d72-b81b-15884e4ee30c\",\"type\":\"ToolEvents\"},{\"attributes\":{\"callback\":null},\"id\":\"5c7e8d2f-294f-40c6-bb98-b66345af728f\",\"type\":\"DataRange1d\"},{\"attributes\":{},\"id\":\"07f5f0ba-fd9d-4982-b600-1e6854a74a5c\",\"type\":\"BasicTickFormatter\"},{\"attributes\":{\"bottom\":{\"value\":0},\"fill_color\":{\"value\":\"#1f77b4\"},\"left\":{\"field\":\"left\"},\"line_color\":{\"value\":\"#555555\"},\"right\":{\"field\":\"right\"},\"top\":{\"field\":\"top\"}},\"id\":\"69ca5c36-6839-488c-8d52-145280b8cf7d\",\"type\":\"Quad\"},{\"attributes\":{},\"id\":\"7ec8933a-308c-498c-906b-b19f43957d46\",\"type\":\"BasicTicker\"},{\"attributes\":{\"plot\":{\"id\":\"19ef6e7f-064f-4974-9bd5-afc4c7c320a9\",\"subtype\":\"Figure\",\"type\":\"Plot\"},\"ticker\":{\"id\":\"7ec8933a-308c-498c-906b-b19f43957d46\",\"type\":\"BasicTicker\"}},\"id\":\"5c8e1d46-2587-46c3-87ad-f35fb1f9316e\",\"type\":\"Grid\"},{\"attributes\":{\"active_drag\":\"auto\",\"active_scroll\":\"auto\",\"active_tap\":\"auto\",\"tools\":[{\"id\":\"013e13fb-8b91-4d1c-a2ab-854f7e61ddad\",\"type\":\"PanTool\"},{\"id\":\"7c312712-051e-4e1d-82b3-6d49735e89d3\",\"type\":\"WheelZoomTool\"},{\"id\":\"f6d2909d-0be7-4bec-bac6-e27027c08e62\",\"type\":\"ResetTool\"},{\"id\":\"eeb36f5f-4e29-4c1f-8cb5-025ad8a9389d\",\"type\":\"SaveTool\"}]},\"id\":\"5e3be091-f040-49cb-b107-826e9811eaca\",\"type\":\"Toolbar\"},{\"attributes\":{},\"id\":\"34091279-7f2c-4e65-9341-44a5f9cdb61a\",\"type\":\"BasicTicker\"},{\"attributes\":{\"plot\":{\"id\":\"19ef6e7f-064f-4974-9bd5-afc4c7c320a9\",\"subtype\":\"Figure\",\"type\":\"Plot\"}},\"id\":\"eeb36f5f-4e29-4c1f-8cb5-025ad8a9389d\",\"type\":\"SaveTool\"},{\"attributes\":{\"dimension\":1,\"plot\":{\"id\":\"19ef6e7f-064f-4974-9bd5-afc4c7c320a9\",\"subtype\":\"Figure\",\"type\":\"Plot\"},\"ticker\":{\"id\":\"34091279-7f2c-4e65-9341-44a5f9cdb61a\",\"type\":\"BasicTicker\"}},\"id\":\"a9b4addb-1d8a-4148-84ab-9fc2362cbf36\",\"type\":\"Grid\"},{\"attributes\":{\"below\":[{\"id\":\"4a12e0b7-0662-4ae9-9397-a638e28d5437\",\"type\":\"LinearAxis\"}],\"left\":[{\"id\":\"bb9f24a6-5e72-43a5-94f2-420e0bb5f9ac\",\"type\":\"LinearAxis\"}],\"renderers\":[{\"id\":\"4a12e0b7-0662-4ae9-9397-a638e28d5437\",\"type\":\"LinearAxis\"},{\"id\":\"5c8e1d46-2587-46c3-87ad-f35fb1f9316e\",\"type\":\"Grid\"},{\"id\":\"bb9f24a6-5e72-43a5-94f2-420e0bb5f9ac\",\"type\":\"LinearAxis\"},{\"id\":\"a9b4addb-1d8a-4148-84ab-9fc2362cbf36\",\"type\":\"Grid\"},{\"id\":\"dcc4ccff-66e6-4c86-bf32-9f3c2f15a3b7\",\"type\":\"GlyphRenderer\"}],\"title\":{\"id\":\"944bf728-b961-42a6-9088-fa6b315a00d3\",\"type\":\"Title\"},\"tool_events\":{\"id\":\"56dba4f1-bf03-4d72-b81b-15884e4ee30c\",\"type\":\"ToolEvents\"},\"toolbar\":{\"id\":\"5e3be091-f040-49cb-b107-826e9811eaca\",\"type\":\"Toolbar\"},\"toolbar_location\":\"above\",\"x_range\":{\"id\":\"5c7e8d2f-294f-40c6-bb98-b66345af728f\",\"type\":\"DataRange1d\"},\"y_range\":{\"id\":\"429a72e4-301c-42a5-bac1-caa6af58deb6\",\"type\":\"DataRange1d\"}},\"id\":\"19ef6e7f-064f-4974-9bd5-afc4c7c320a9\",\"subtype\":\"Figure\",\"type\":\"Plot\"},{\"attributes\":{\"plot\":{\"id\":\"19ef6e7f-064f-4974-9bd5-afc4c7c320a9\",\"subtype\":\"Figure\",\"type\":\"Plot\"}},\"id\":\"013e13fb-8b91-4d1c-a2ab-854f7e61ddad\",\"type\":\"PanTool\"},{\"attributes\":{\"plot\":null,\"text\":\"Top-1000 words distribution\"},\"id\":\"944bf728-b961-42a6-9088-fa6b315a00d3\",\"type\":\"Title\"},{\"attributes\":{\"callback\":null},\"id\":\"429a72e4-301c-42a5-bac1-caa6af58deb6\",\"type\":\"DataRange1d\"},{\"attributes\":{\"bottom\":{\"value\":0},\"fill_alpha\":{\"value\":0.1},\"fill_color\":{\"value\":\"#1f77b4\"},\"left\":{\"field\":\"left\"},\"line_alpha\":{\"value\":0.1},\"line_color\":{\"value\":\"#1f77b4\"},\"right\":{\"field\":\"right\"},\"top\":{\"field\":\"top\"}},\"id\":\"853bd0f5-4ff1-4d37-bf70-0709a214d4e0\",\"type\":\"Quad\"},{\"attributes\":{\"plot\":{\"id\":\"19ef6e7f-064f-4974-9bd5-afc4c7c320a9\",\"subtype\":\"Figure\",\"type\":\"Plot\"}},\"id\":\"f6d2909d-0be7-4bec-bac6-e27027c08e62\",\"type\":\"ResetTool\"},{\"attributes\":{},\"id\":\"3064b030-b9b6-4a57-ab03-a112db7750ef\",\"type\":\"BasicTickFormatter\"},{\"attributes\":{\"callback\":null,\"column_names\":[\"left\",\"top\",\"right\"],\"data\":{\"left\":[404.0,2477.44,4550.88,6624.32,8697.76,10771.2,12844.64,14918.08,16991.52,19064.96,21138.4,23211.84,25285.28,27358.72,29432.16,31505.600000000002,33579.04,35652.48,37725.92,39799.36,41872.8,43946.24,46019.68,48093.12,50166.56,52240.0,54313.44,56386.880000000005,58460.32,60533.76,62607.200000000004,64680.64,66754.08,68827.52,70900.96,72974.40000000001,75047.84,77121.28,79194.72,81268.16,83341.6,85415.04000000001,87488.48,89561.92,91635.36,93708.8,95782.24,97855.68000000001,99929.12,102002.56,104076.0,106149.44,108222.88,110296.32,112369.76000000001,114443.2,116516.64,118590.08,120663.52,122736.96,124810.40000000001,126883.84,128957.28,131030.72,133104.16,135177.6,137251.04,139324.48,141397.92,143471.36000000002,145544.80000000002,147618.24,149691.68,151765.12,153838.56,155912.0,157985.44,160058.88,162132.32,164205.76,166279.2,168352.64,170426.08000000002,172499.52000000002,174572.96,176646.4,178719.84,180793.28,182866.72,184940.16,187013.6,189087.04,191160.48,193233.92,195307.36000000002,197380.80000000002,199454.24,201527.68,203601.12,205674.56],\"right\":[2477.44,4550.88,6624.32,8697.76,10771.2,12844.64,14918.08,16991.52,19064.96,21138.4,23211.84,25285.28,27358.72,29432.16,31505.600000000002,33579.04,35652.48,37725.92,39799.36,41872.8,43946.24,46019.68,48093.12,50166.56,52240.0,54313.44,56386.880000000005,58460.32,60533.76,62607.200000000004,64680.64,66754.08,68827.52,70900.96,72974.40000000001,75047.84,77121.28,79194.72,81268.16,83341.6,85415.04000000001,87488.48,89561.92,91635.36,93708.8,95782.24,97855.68000000001,99929.12,102002.56,104076.0,106149.44,108222.88,110296.32,112369.76000000001,114443.2,116516.64,118590.08,120663.52,122736.96,124810.40000000001,126883.84,128957.28,131030.72,133104.16,135177.6,137251.04,139324.48,141397.92,143471.36000000002,145544.80000000002,147618.24,149691.68,151765.12,153838.56,155912.0,157985.44,160058.88,162132.32,164205.76,166279.2,168352.64,170426.08000000002,172499.52000000002,174572.96,176646.4,178719.84,180793.28,182866.72,184940.16,187013.6,189087.04,191160.48,193233.92,195307.36000000002,197380.80000000002,199454.24,201527.68,203601.12,205674.56,207748.0],\"top\":[0.0003892082722432286,3.327803071224632e-05,1.3504128404969522e-05,8.681225403194689e-06,8.198935103017207e-06,5.305193301952315e-06,4.340612701597344e-06,1.929161200709931e-06,2.893741801064899e-06,1.929161200709929e-06,9.645806003549663e-07,9.645806003549663e-07,1.929161200709929e-06,4.822903001774831e-07,9.645806003549646e-07,4.822903001774831e-07,0.0,4.82290300177484e-07,0.0,0.0,0.0,0.0,0.0,4.82290300177484e-07,0.0,0.0,0.0,4.82290300177484e-07,0.0,0.0,4.82290300177484e-07,0.0,4.822903001774823e-07,0.0,4.822903001774823e-07,4.822903001774857e-07,0.0,4.822903001774823e-07,0.0,4.822903001774823e-07,0.0,0.0,0.0,0.0,0.0,4.822903001774823e-07,0.0,0.0,0.0,0.0,4.822903001774823e-07,0.0,0.0,0.0,0.0,4.822903001774823e-07,0.0,0.0,0.0,0.0,4.822903001774857e-07,0.0,0.0,0.0,0.0,0.0,0.0,0.0,0.0,0.0,0.0,4.822903001774823e-07,0.0,0.0,0.0,0.0,0.0,0.0,0.0,0.0,0.0,0.0,0.0,0.0,0.0,0.0,0.0,0.0,0.0,0.0,0.0,0.0,0.0,0.0,0.0,0.0,0.0,0.0,0.0,4.822903001774823e-07]}},\"id\":\"1e963cce-b5de-4ea5-b345-b32359e1a86f\",\"type\":\"ColumnDataSource\"},{\"attributes\":{\"data_source\":{\"id\":\"1e963cce-b5de-4ea5-b345-b32359e1a86f\",\"type\":\"ColumnDataSource\"},\"glyph\":{\"id\":\"69ca5c36-6839-488c-8d52-145280b8cf7d\",\"type\":\"Quad\"},\"hover_glyph\":null,\"nonselection_glyph\":{\"id\":\"853bd0f5-4ff1-4d37-bf70-0709a214d4e0\",\"type\":\"Quad\"},\"selection_glyph\":null},\"id\":\"dcc4ccff-66e6-4c86-bf32-9f3c2f15a3b7\",\"type\":\"GlyphRenderer\"},{\"attributes\":{\"formatter\":{\"id\":\"07f5f0ba-fd9d-4982-b600-1e6854a74a5c\",\"type\":\"BasicTickFormatter\"},\"plot\":{\"id\":\"19ef6e7f-064f-4974-9bd5-afc4c7c320a9\",\"subtype\":\"Figure\",\"type\":\"Plot\"},\"ticker\":{\"id\":\"7ec8933a-308c-498c-906b-b19f43957d46\",\"type\":\"BasicTicker\"}},\"id\":\"4a12e0b7-0662-4ae9-9397-a638e28d5437\",\"type\":\"LinearAxis\"}],\"root_ids\":[\"19ef6e7f-064f-4974-9bd5-afc4c7c320a9\"]},\"title\":\"Bokeh Application\",\"version\":\"0.12.2\"}};\n",
       "            var render_items = [{\"docid\":\"b68813b8-07e4-4e86-9604-ce1f86ba568c\",\"elementid\":\"39271842-b07f-4f86-b614-0a083d072637\",\"modelid\":\"19ef6e7f-064f-4974-9bd5-afc4c7c320a9\"}];\n",
       "            \n",
       "            Bokeh.embed.embed_items(docs_json, render_items);\n",
       "        });\n",
       "      },\n",
       "      function(Bokeh) {\n",
       "      }\n",
       "    ];\n",
       "  \n",
       "    function run_inline_js() {\n",
       "      \n",
       "      if ((window.Bokeh !== undefined) || (force === \"1\")) {\n",
       "        for (var i = 0; i < inline_js.length; i++) {\n",
       "          inline_js[i](window.Bokeh);\n",
       "        }if (force === \"1\") {\n",
       "          display_loaded();\n",
       "        }} else if (Date.now() < window._bokeh_timeout) {\n",
       "        setTimeout(run_inline_js, 100);\n",
       "      } else if (!window._bokeh_failed_load) {\n",
       "        console.log(\"Bokeh: BokehJS failed to load within specified timeout.\");\n",
       "        window._bokeh_failed_load = true;\n",
       "      } else if (!force) {\n",
       "        var cell = $(\"#39271842-b07f-4f86-b614-0a083d072637\").parents('.cell').data().cell;\n",
       "        cell.output_area.append_execute_result(NB_LOAD_WARNING)\n",
       "      }\n",
       "  \n",
       "    }\n",
       "  \n",
       "    if (window._bokeh_is_loading === 0) {\n",
       "      console.log(\"Bokeh: BokehJS loaded, going straight to plotting\");\n",
       "      run_inline_js();\n",
       "    } else {\n",
       "      load_libs(js_urls, function() {\n",
       "        console.log(\"Bokeh: BokehJS plotting callback run at\", now());\n",
       "        run_inline_js();\n",
       "      });\n",
       "    }\n",
       "  }(this));\n",
       "</script>"
      ]
     },
     "metadata": {},
     "output_type": "display_data"
    }
   ],
   "source": [
    "hist, edges = np.histogram(counts_ted_top1000, density=True, bins=100, normed=True)\n",
    "\n",
    "p = figure(tools=\"pan,wheel_zoom,reset,save\",\n",
    "           toolbar_location=\"above\",\n",
    "           title=\"Top-1000 words distribution\")\n",
    "p.quad(top=hist, bottom=0, left=edges[:-1], right=edges[1:], line_color=\"#555555\")\n",
    "show(p)"
   ]
  },
  {
   "cell_type": "markdown",
   "metadata": {},
   "source": [
    "### Part 3: Train Word2Vec"
   ]
  },
  {
   "cell_type": "code",
   "execution_count": 16,
   "metadata": {
    "collapsed": false
   },
   "outputs": [],
   "source": [
    "from gensim.models import Word2Vec"
   ]
  },
  {
   "cell_type": "code",
   "execution_count": 17,
   "metadata": {
    "collapsed": false
   },
   "outputs": [],
   "source": [
    "model_ted = Word2Vec(sentences_ted, size=100, window=5, min_count=5, workers=4)"
   ]
  },
  {
   "cell_type": "markdown",
   "metadata": {},
   "source": [
    "### Part 4: Ted Learnt Representations"
   ]
  },
  {
   "cell_type": "markdown",
   "metadata": {},
   "source": [
    "Finding similar words: (see gensim docs for more functionality of `most_similar`)"
   ]
  },
  {
   "cell_type": "code",
   "execution_count": 18,
   "metadata": {
    "collapsed": false
   },
   "outputs": [
    {
     "data": {
      "text/plain": [
       "[('woman', 0.8569149971008301),\n",
       " ('guy', 0.8231114745140076),\n",
       " ('girl', 0.7678636908531189),\n",
       " ('lady', 0.7494957447052002),\n",
       " ('boy', 0.749032735824585),\n",
       " ('soldier', 0.7166836261749268),\n",
       " ('gentleman', 0.7146059274673462),\n",
       " ('poet', 0.6891442537307739),\n",
       " ('kid', 0.6743172407150269),\n",
       " ('rabbi', 0.6697818636894226)]"
      ]
     },
     "execution_count": 18,
     "metadata": {},
     "output_type": "execute_result"
    }
   ],
   "source": [
    "model_ted.most_similar(\"man\")"
   ]
  },
  {
   "cell_type": "code",
   "execution_count": 19,
   "metadata": {
    "collapsed": false
   },
   "outputs": [
    {
     "data": {
      "text/plain": [
       "[('machine', 0.7381571531295776),\n",
       " ('software', 0.7171118259429932),\n",
       " ('robot', 0.6859936118125916),\n",
       " ('device', 0.6646419763565063),\n",
       " ('program', 0.6579735279083252),\n",
       " ('video', 0.6308311223983765),\n",
       " ('mechanical', 0.6285218000411987),\n",
       " ('interface', 0.6250415444374084),\n",
       " ('circuit', 0.615089476108551),\n",
       " ('camera', 0.6136572360992432)]"
      ]
     },
     "execution_count": 19,
     "metadata": {},
     "output_type": "execute_result"
    }
   ],
   "source": [
    "model_ted.most_similar(\"computer\")"
   ]
  },
  {
   "cell_type": "code",
   "execution_count": 20,
   "metadata": {
    "collapsed": false
   },
   "outputs": [
    {
     "name": "stdout",
     "output_type": "stream",
     "text": [
      "0.738157133269\n"
     ]
    }
   ],
   "source": [
    "from scipy import spatial\n",
    "print(1-spatial.distance.cosine(model_ted[\"computer\"], model_ted[\"machine\"]))"
   ]
  },
  {
   "cell_type": "markdown",
   "metadata": {},
   "source": [
    "#### t-SNE visualization\n",
    "To use the t-SNE code below, first put a list of the top 1000 words (as strings) into a variable `words_top_ted`. The following code gets the corresponding vectors from the model, assuming it's called `model_ted`:"
   ]
  },
  {
   "cell_type": "code",
   "execution_count": 21,
   "metadata": {
    "collapsed": false
   },
   "outputs": [],
   "source": [
    "# This assumes words_top_ted is a list of strings, the top 1000 words\n",
    "words_top_vec_ted = model_ted[words_top_ted]"
   ]
  },
  {
   "cell_type": "code",
   "execution_count": 22,
   "metadata": {
    "collapsed": false
   },
   "outputs": [],
   "source": [
    "from sklearn.manifold import TSNE\n",
    "tsne = TSNE(n_components=2, random_state=0)\n",
    "words_top_ted_tsne = tsne.fit_transform(words_top_vec_ted)"
   ]
  },
  {
   "cell_type": "code",
   "execution_count": 23,
   "metadata": {
    "collapsed": false
   },
   "outputs": [
    {
     "data": {
      "text/html": [
       "\n",
       "\n",
       "    <div class=\"bk-root\">\n",
       "        <div class=\"plotdiv\" id=\"d5e59ce8-20b9-414c-bb73-0e5c266d3e01\"></div>\n",
       "    </div>\n",
       "<script type=\"text/javascript\">\n",
       "  \n",
       "  (function(global) {\n",
       "    function now() {\n",
       "      return new Date();\n",
       "    }\n",
       "  \n",
       "    var force = \"\";\n",
       "  \n",
       "    if (typeof (window._bokeh_onload_callbacks) === \"undefined\" || force !== \"\") {\n",
       "      window._bokeh_onload_callbacks = [];\n",
       "      window._bokeh_is_loading = undefined;\n",
       "    }\n",
       "  \n",
       "  \n",
       "    \n",
       "    if (typeof (window._bokeh_timeout) === \"undefined\" || force !== \"\") {\n",
       "      window._bokeh_timeout = Date.now() + 0;\n",
       "      window._bokeh_failed_load = false;\n",
       "    }\n",
       "  \n",
       "    var NB_LOAD_WARNING = {'data': {'text/html':\n",
       "       \"<div style='background-color: #fdd'>\\n\"+\n",
       "       \"<p>\\n\"+\n",
       "       \"BokehJS does not appear to have successfully loaded. If loading BokehJS from CDN, this \\n\"+\n",
       "       \"may be due to a slow or bad network connection. Possible fixes:\\n\"+\n",
       "       \"</p>\\n\"+\n",
       "       \"<ul>\\n\"+\n",
       "       \"<li>re-rerun `output_notebook()` to attempt to load from CDN again, or</li>\\n\"+\n",
       "       \"<li>use INLINE resources instead, as so:</li>\\n\"+\n",
       "       \"</ul>\\n\"+\n",
       "       \"<code>\\n\"+\n",
       "       \"from bokeh.resources import INLINE\\n\"+\n",
       "       \"output_notebook(resources=INLINE)\\n\"+\n",
       "       \"</code>\\n\"+\n",
       "       \"</div>\"}};\n",
       "  \n",
       "    function display_loaded() {\n",
       "      if (window.Bokeh !== undefined) {\n",
       "        Bokeh.$(\"#d5e59ce8-20b9-414c-bb73-0e5c266d3e01\").text(\"BokehJS successfully loaded.\");\n",
       "      } else if (Date.now() < window._bokeh_timeout) {\n",
       "        setTimeout(display_loaded, 100)\n",
       "      }\n",
       "    }\n",
       "  \n",
       "    function run_callbacks() {\n",
       "      window._bokeh_onload_callbacks.forEach(function(callback) { callback() });\n",
       "      delete window._bokeh_onload_callbacks\n",
       "      console.info(\"Bokeh: all callbacks have finished\");\n",
       "    }\n",
       "  \n",
       "    function load_libs(js_urls, callback) {\n",
       "      window._bokeh_onload_callbacks.push(callback);\n",
       "      if (window._bokeh_is_loading > 0) {\n",
       "        console.log(\"Bokeh: BokehJS is being loaded, scheduling callback at\", now());\n",
       "        return null;\n",
       "      }\n",
       "      if (js_urls == null || js_urls.length === 0) {\n",
       "        run_callbacks();\n",
       "        return null;\n",
       "      }\n",
       "      console.log(\"Bokeh: BokehJS not loaded, scheduling load and callback at\", now());\n",
       "      window._bokeh_is_loading = js_urls.length;\n",
       "      for (var i = 0; i < js_urls.length; i++) {\n",
       "        var url = js_urls[i];\n",
       "        var s = document.createElement('script');\n",
       "        s.src = url;\n",
       "        s.async = false;\n",
       "        s.onreadystatechange = s.onload = function() {\n",
       "          window._bokeh_is_loading--;\n",
       "          if (window._bokeh_is_loading === 0) {\n",
       "            console.log(\"Bokeh: all BokehJS libraries loaded\");\n",
       "            run_callbacks()\n",
       "          }\n",
       "        };\n",
       "        s.onerror = function() {\n",
       "          console.warn(\"failed to load library \" + url);\n",
       "        };\n",
       "        console.log(\"Bokeh: injecting script tag for BokehJS library: \", url);\n",
       "        document.getElementsByTagName(\"head\")[0].appendChild(s);\n",
       "      }\n",
       "    };var element = document.getElementById(\"d5e59ce8-20b9-414c-bb73-0e5c266d3e01\");\n",
       "    if (element == null) {\n",
       "      console.log(\"Bokeh: ERROR: autoload.js configured with elementid 'd5e59ce8-20b9-414c-bb73-0e5c266d3e01' but no matching script tag was found. \")\n",
       "      return false;\n",
       "    }\n",
       "  \n",
       "    var js_urls = [];\n",
       "  \n",
       "    var inline_js = [\n",
       "      function(Bokeh) {\n",
       "        Bokeh.$(function() {\n",
       "            var docs_json = {\"9d1e007e-129d-464a-bd7b-a5dd0eed10ff\":{\"roots\":{\"references\":[{\"attributes\":{},\"id\":\"8786ebd7-6857-4ec7-b9a4-11911c491215\",\"type\":\"BasicTicker\"},{\"attributes\":{\"data_source\":{\"id\":\"a54d93af-c102-420e-b6cc-792c20beebbe\",\"type\":\"ColumnDataSource\"},\"glyph\":{\"id\":\"f95c2c76-5a20-460b-8cf5-09f43118ce03\",\"type\":\"Circle\"},\"hover_glyph\":null,\"nonselection_glyph\":{\"id\":\"6e5bb1d3-9a0d-4c19-a396-fd112d8a2ee4\",\"type\":\"Circle\"},\"selection_glyph\":null},\"id\":\"0b4194bf-78d0-4916-9474-001bc77ebe67\",\"type\":\"GlyphRenderer\"},{\"attributes\":{\"plot\":{\"id\":\"1ee4ed08-2496-4d1a-a206-ccd9cd53d8f1\",\"subtype\":\"Figure\",\"type\":\"Plot\"}},\"id\":\"ec2fc5cb-bf34-41fb-8e5c-1296e0393b76\",\"type\":\"WheelZoomTool\"},{\"attributes\":{\"plot\":{\"id\":\"1ee4ed08-2496-4d1a-a206-ccd9cd53d8f1\",\"subtype\":\"Figure\",\"type\":\"Plot\"}},\"id\":\"e6684cc6-9026-49b4-8ab0-70b2cdeafe51\",\"type\":\"PanTool\"},{\"attributes\":{\"plot\":{\"id\":\"1ee4ed08-2496-4d1a-a206-ccd9cd53d8f1\",\"subtype\":\"Figure\",\"type\":\"Plot\"}},\"id\":\"32b62a2b-9fc8-49c8-8212-1c7fcf72d3ff\",\"type\":\"ResetTool\"},{\"attributes\":{\"below\":[{\"id\":\"c09e2ec1-f0bb-45b2-852e-e1fc4c5d3720\",\"type\":\"LinearAxis\"}],\"left\":[{\"id\":\"81b0ea55-7f30-4188-9339-d8d8bd6d2ea1\",\"type\":\"LinearAxis\"}],\"renderers\":[{\"id\":\"c09e2ec1-f0bb-45b2-852e-e1fc4c5d3720\",\"type\":\"LinearAxis\"},{\"id\":\"408e634d-fd3c-4a2c-a84c-99c19c5cb478\",\"type\":\"Grid\"},{\"id\":\"81b0ea55-7f30-4188-9339-d8d8bd6d2ea1\",\"type\":\"LinearAxis\"},{\"id\":\"87fbded9-fcbe-4d7c-941f-b6d2aea99e79\",\"type\":\"Grid\"},{\"id\":\"0b4194bf-78d0-4916-9474-001bc77ebe67\",\"type\":\"GlyphRenderer\"},{\"id\":\"4ae37806-31b5-420a-a769-9470ef48f803\",\"type\":\"LabelSet\"}],\"title\":{\"id\":\"6dd1f5a9-b9ff-4e91-876c-ad8eaf7cfe2a\",\"type\":\"Title\"},\"tool_events\":{\"id\":\"6b2a5f09-c365-4419-8de3-ee4c8c56302e\",\"type\":\"ToolEvents\"},\"toolbar\":{\"id\":\"1654949f-e283-416e-b9d7-bd2302c6bac1\",\"type\":\"Toolbar\"},\"toolbar_location\":\"above\",\"x_range\":{\"id\":\"4c9eea8f-8f52-4e82-b7ae-86f3b2be8b38\",\"type\":\"DataRange1d\"},\"y_range\":{\"id\":\"a47af357-4d69-4e2b-9e7d-8f7b8ae8b8a4\",\"type\":\"DataRange1d\"}},\"id\":\"1ee4ed08-2496-4d1a-a206-ccd9cd53d8f1\",\"subtype\":\"Figure\",\"type\":\"Plot\"},{\"attributes\":{\"dimension\":1,\"plot\":{\"id\":\"1ee4ed08-2496-4d1a-a206-ccd9cd53d8f1\",\"subtype\":\"Figure\",\"type\":\"Plot\"},\"ticker\":{\"id\":\"1b929393-332c-4e15-bf14-a03a7028ed80\",\"type\":\"BasicTicker\"}},\"id\":\"87fbded9-fcbe-4d7c-941f-b6d2aea99e79\",\"type\":\"Grid\"},{\"attributes\":{\"callback\":null},\"id\":\"4c9eea8f-8f52-4e82-b7ae-86f3b2be8b38\",\"type\":\"DataRange1d\"},{\"attributes\":{\"active_drag\":\"auto\",\"active_scroll\":\"auto\",\"active_tap\":\"auto\",\"tools\":[{\"id\":\"e6684cc6-9026-49b4-8ab0-70b2cdeafe51\",\"type\":\"PanTool\"},{\"id\":\"ec2fc5cb-bf34-41fb-8e5c-1296e0393b76\",\"type\":\"WheelZoomTool\"},{\"id\":\"32b62a2b-9fc8-49c8-8212-1c7fcf72d3ff\",\"type\":\"ResetTool\"},{\"id\":\"95d014f3-c6b9-4d24-a93a-025125ccd090\",\"type\":\"SaveTool\"}]},\"id\":\"1654949f-e283-416e-b9d7-bd2302c6bac1\",\"type\":\"Toolbar\"},{\"attributes\":{\"callback\":null},\"id\":\"a47af357-4d69-4e2b-9e7d-8f7b8ae8b8a4\",\"type\":\"DataRange1d\"},{\"attributes\":{\"fill_color\":{\"value\":\"#1f77b4\"},\"line_color\":{\"value\":\"#1f77b4\"},\"size\":{\"units\":\"screen\",\"value\":8},\"x\":{\"field\":\"x1\"},\"y\":{\"field\":\"x2\"}},\"id\":\"f95c2c76-5a20-460b-8cf5-09f43118ce03\",\"type\":\"Circle\"},{\"attributes\":{\"formatter\":{\"id\":\"f62d2b63-5e05-44b5-a0d0-a77d9eee8f6e\",\"type\":\"BasicTickFormatter\"},\"plot\":{\"id\":\"1ee4ed08-2496-4d1a-a206-ccd9cd53d8f1\",\"subtype\":\"Figure\",\"type\":\"Plot\"},\"ticker\":{\"id\":\"1b929393-332c-4e15-bf14-a03a7028ed80\",\"type\":\"BasicTicker\"}},\"id\":\"81b0ea55-7f30-4188-9339-d8d8bd6d2ea1\",\"type\":\"LinearAxis\"},{\"attributes\":{\"plot\":{\"id\":\"1ee4ed08-2496-4d1a-a206-ccd9cd53d8f1\",\"subtype\":\"Figure\",\"type\":\"Plot\"}},\"id\":\"95d014f3-c6b9-4d24-a93a-025125ccd090\",\"type\":\"SaveTool\"},{\"attributes\":{\"formatter\":{\"id\":\"346b8916-dd8a-4677-b0a1-9535a4f504b1\",\"type\":\"BasicTickFormatter\"},\"plot\":{\"id\":\"1ee4ed08-2496-4d1a-a206-ccd9cd53d8f1\",\"subtype\":\"Figure\",\"type\":\"Plot\"},\"ticker\":{\"id\":\"8786ebd7-6857-4ec7-b9a4-11911c491215\",\"type\":\"BasicTicker\"}},\"id\":\"c09e2ec1-f0bb-45b2-852e-e1fc4c5d3720\",\"type\":\"LinearAxis\"},{\"attributes\":{\"callback\":null,\"column_names\":[\"x1\",\"x2\",\"names\"],\"data\":{\"names\":[\"the\",\"and\",\"to\",\"of\",\"a\",\"that\",\"i\",\"in\",\"it\",\"you\",\"we\",\"is\",\"s\",\"this\",\"so\",\"they\",\"was\",\"for\",\"are\",\"have\",\"but\",\"what\",\"on\",\"with\",\"can\",\"t\",\"about\",\"there\",\"be\",\"as\",\"at\",\"all\",\"not\",\"do\",\"my\",\"one\",\"re\",\"people\",\"like\",\"if\",\"from\",\"now\",\"our\",\"he\",\"an\",\"just\",\"these\",\"or\",\"when\",\"because\",\"very\",\"me\",\"out\",\"by\",\"them\",\"how\",\"know\",\"up\",\"going\",\"had\",\"more\",\"think\",\"who\",\"were\",\"see\",\"your\",\"their\",\"which\",\"would\",\"here\",\"really\",\"get\",\"ve\",\"then\",\"m\",\"world\",\"us\",\"time\",\"some\",\"has\",\"don\",\"actually\",\"into\",\"way\",\"where\",\"will\",\"years\",\"things\",\"other\",\"no\",\"could\",\"go\",\"well\",\"want\",\"been\",\"make\",\"right\",\"she\",\"said\",\"something\",\"those\",\"first\",\"two\",\"than\",\"much\",\"also\",\"look\",\"new\",\"thing\",\"little\",\"got\",\"back\",\"over\",\"most\",\"say\",\"even\",\"his\",\"life\",\"only\",\"work\",\"many\",\"take\",\"need\",\"did\",\"lot\",\"kind\",\"why\",\"good\",\"around\",\"every\",\"different\",\"down\",\"ll\",\"let\",\"her\",\"through\",\"same\",\"being\",\"come\",\"d\",\"day\",\"year\",\"three\",\"use\",\"doing\",\"put\",\"called\",\"any\",\"today\",\"percent\",\"made\",\"after\",\"thank\",\"tell\",\"great\",\"human\",\"find\",\"didn\",\"fact\",\"talk\",\"change\",\"started\",\"another\",\"idea\",\"big\",\"last\",\"own\",\"before\",\"its\",\"never\",\"should\",\"better\",\"give\",\"thought\",\"went\",\"might\",\"important\",\"000\",\"again\",\"together\",\"able\",\"still\",\"problem\",\"off\",\"next\",\"part\",\"course\",\"system\",\"him\",\"does\",\"each\",\"start\",\"show\",\"long\",\"ago\",\"story\",\"came\",\"brain\",\"few\",\"bit\",\"between\",\"used\",\"place\",\"technology\",\"women\",\"too\",\"old\",\"mean\",\"data\",\"water\",\"looking\",\"question\",\"maybe\",\"found\",\"love\",\"doesn\",\"end\",\"example\",\"10\",\"done\",\"point\",\"four\",\"real\",\"wanted\",\"ever\",\"understand\",\"school\",\"sort\",\"live\",\"call\",\"whole\",\"always\",\"children\",\"trying\",\"may\",\"person\",\"away\",\"believe\",\"feel\",\"try\",\"million\",\"working\",\"help\",\"everything\",\"five\",\"country\",\"thinking\",\"second\",\"using\",\"information\",\"money\",\"means\",\"took\",\"power\",\"times\",\"high\",\"space\",\"number\",\"kids\",\"home\",\"become\",\"create\",\"small\",\"design\",\"making\",\"best\",\"left\",\"getting\",\"future\",\"enough\",\"man\",\"quite\",\"city\",\"without\",\"sense\",\"happened\",\"comes\",\"social\",\"probably\",\"light\",\"less\",\"talking\",\"energy\",\"am\",\"building\",\"science\",\"food\",\"body\",\"told\",\"interesting\",\"half\",\"ask\",\"pretty\",\"play\",\"hard\",\"anything\",\"lives\",\"countries\",\"such\",\"coming\",\"family\",\"stuff\",\"dollars\",\"moment\",\"earth\",\"20\",\"imagine\",\"across\",\"side\",\"saw\",\"while\",\"happen\",\"once\",\"okay\",\"build\",\"having\",\"men\",\"later\",\"experience\",\"asked\",\"makes\",\"living\",\"seen\",\"says\",\"room\",\"hand\",\"simple\",\"health\",\"ways\",\"else\",\"case\",\"yet\",\"almost\",\"young\",\"days\",\"nothing\",\"care\",\"bad\",\"happens\",\"goes\",\"move\",\"states\",\"reason\",\"computer\",\"open\",\"learn\",\"africa\",\"process\",\"inside\",\"someone\",\"six\",\"far\",\"mind\",\"project\",\"remember\",\"single\",\"picture\",\"both\",\"whether\",\"problems\",\"basically\",\"saying\",\"community\",\"already\",\"within\",\"looked\",\"myself\",\"billion\",\"often\",\"possible\",\"business\",\"planet\",\"global\",\"everybody\",\"top\",\"sure\",\"public\",\"set\",\"wrong\",\"car\",\"book\",\"keep\",\"answer\",\"yes\",\"oh\",\"sometimes\",\"hope\",\"history\",\"true\",\"war\",\"guy\",\"child\",\"instead\",\"months\",\"ideas\",\"looks\",\"matter\",\"government\",\"amazing\",\"united\",\"since\",\"age\",\"bring\",\"cells\",\"job\",\"heard\",\"until\",\"face\",\"wasn\",\"100\",\"read\",\"control\",\"isn\",\"research\",\"30\",\"words\",\"u\",\"group\",\"under\",\"self\",\"somebody\",\"built\",\"state\",\"woman\",\"turn\",\"beautiful\",\"friends\",\"line\",\"knew\",\"couple\",\"order\",\"form\",\"yeah\",\"internet\",\"middle\",\"music\",\"piece\",\"nature\",\"head\",\"though\",\"stop\",\"everyone\",\"50\",\"places\",\"video\",\"language\",\"learned\",\"run\",\"night\",\"decided\",\"study\",\"word\",\"cancer\",\"works\",\"taking\",\"became\",\"exactly\",\"species\",\"society\",\"completely\",\"education\",\"against\",\"stories\",\"large\",\"share\",\"level\",\"heart\",\"america\",\"model\",\"gets\",\"questions\",\"mother\",\"god\",\"company\",\"turns\",\"ourselves\",\"happening\",\"hear\",\"art\",\"themselves\",\"must\",\"itself\",\"kinds\",\"rather\",\"students\",\"name\",\"hours\",\"disease\",\"front\",\"house\",\"couldn\",\"huge\",\"created\",\"universe\",\"ok\",\"animals\",\"american\",\"environment\",\"worked\",\"minutes\",\"ones\",\"black\",\"perhaps\",\"1\",\"past\",\"third\",\"along\",\"finally\",\"others\",\"early\",\"sound\",\"game\",\"thousands\",\"century\",\"based\",\"least\",\"per\",\"ted\",\"lots\",\"figure\",\"free\",\"particular\",\"guys\",\"happy\",\"news\",\"learning\",\"entire\",\"won\",\"gave\",\"machine\",\"india\",\"during\",\"systems\",\"air\",\"difference\",\"outside\",\"taken\",\"natural\",\"seven\",\"given\",\"changed\",\"leave\",\"cell\",\"15\",\"close\",\"behind\",\"cities\",\"full\",\"scale\",\"difficult\",\"china\",\"takes\",\"companies\",\"area\",\"yourself\",\"reality\",\"seeing\",\"easy\",\"turned\",\"cost\",\"eyes\",\"team\",\"moving\",\"population\",\"culture\",\"york\",\"hands\",\"whatever\",\"began\",\"needs\",\"terms\",\"image\",\"simply\",\"needed\",\"beginning\",\"father\",\"local\",\"realized\",\"media\",\"death\",\"parents\",\"walk\",\"view\",\"white\",\"market\",\"parts\",\"ocean\",\"eight\",\"economic\",\"powerful\",\"known\",\"week\",\"size\",\"felt\",\"humans\",\"certain\",\"spend\",\"longer\",\"phone\",\"wonderful\",\"cannot\",\"grow\",\"common\",\"tried\",\"center\",\"fish\",\"land\",\"oil\",\"political\",\"interested\",\"deal\",\"red\",\"gone\",\"amount\",\"weeks\",\"spent\",\"opportunity\",\"paper\",\"lost\",\"national\",\"quickly\",\"blue\",\"step\",\"poor\",\"green\",\"buy\",\"wouldn\",\"growth\",\"either\",\"patients\",\"sitting\",\"ability\",\"changes\",\"write\",\"south\",\"challenge\",\"low\",\"friend\",\"growing\",\"field\",\"2\",\"shows\",\"born\",\"rest\",\"climate\",\"40\",\"test\",\"street\",\"incredible\",\"surface\",\"average\",\"morning\",\"program\",\"physical\",\"value\",\"pay\",\"scientists\",\"behavior\",\"met\",\"feeling\",\"girl\",\"hundreds\",\"economy\",\"dna\",\"complex\",\"access\",\"risk\",\"animal\",\"structure\",\"feet\",\"attention\",\"areas\",\"anyone\",\"deep\",\"watch\",\"short\",\"absolutely\",\"brought\",\"speak\",\"bottom\",\"die\",\"numbers\",\"audience\",\"stage\",\"realize\",\"law\",\"images\",\"wrote\",\"understanding\",\"literally\",\"books\",\"knowledge\",\"movement\",\"giving\",\"ground\",\"eat\",\"force\",\"seems\",\"alone\",\"telling\",\"starting\",\"hold\",\"nice\",\"sea\",\"forward\",\"developed\",\"individual\",\"kid\",\"millions\",\"support\",\"miles\",\"tools\",\"running\",\"online\",\"result\",\"technologies\",\"act\",\"medical\",\"north\",\"development\",\"lab\",\"blood\",\"fear\",\"nobody\",\"map\",\"personal\",\"issue\",\"voice\",\"material\",\"key\",\"recently\",\"12\",\"theory\",\"cut\",\"cars\",\"sun\",\"fast\",\"changing\",\"clear\",\"playing\",\"especially\",\"soon\",\"patient\",\"girls\",\"choice\",\"fly\",\"creating\",\"normal\",\"talked\",\"discovered\",\"europe\",\"relationship\",\"gives\",\"generation\",\"dark\",\"showed\",\"type\",\"chance\",\"seem\",\"industry\",\"asking\",\"rate\",\"designed\",\"hour\",\"fun\",\"color\",\"issues\",\"several\",\"computers\",\"innovation\",\"class\",\"university\",\"tiny\",\"english\",\"allow\",\"save\",\"focus\",\"digital\",\"developing\",\"solve\",\"network\",\"film\",\"special\",\"wall\",\"baby\",\"situation\",\"solution\",\"reasons\",\"box\",\"knows\",\"stand\",\"meet\",\"dead\",\"impact\",\"begin\",\"anybody\",\"haven\",\"term\",\"beyond\",\"pictures\",\"please\",\"produce\",\"ice\",\"shape\",\"non\",\"cool\",\"resources\",\"robot\",\"likely\",\"groups\",\"stay\",\"available\",\"major\",\"truth\",\"rights\",\"obviously\",\"cause\",\"writing\",\"experiment\",\"evidence\",\"drug\",\"modern\",\"becomes\",\"incredibly\",\"bigger\",\"aren\",\"guess\",\"nine\",\"drugs\",\"product\",\"lived\",\"involved\",\"perfect\",\"month\",\"google\",\"effect\",\"similar\",\"putting\",\"pick\",\"eye\",\"message\",\"violence\",\"quality\",\"web\",\"office\",\"security\",\"evolution\",\"solar\",\"basic\",\"indeed\",\"general\",\"towards\",\"drive\",\"present\",\"listen\",\"send\",\"worth\",\"revolution\",\"explain\",\"hundred\",\"certainly\",\"died\",\"ready\",\"teach\",\"journey\",\"25\",\"hit\",\"walking\",\"led\",\"international\",\"approach\",\"200\",\"scientific\",\"games\",\"crazy\",\"communities\",\"potential\",\"60\",\"chinese\",\"device\",\"camera\",\"source\",\"carbon\",\"sex\",\"rules\",\"sounds\",\"boy\",\"reach\",\"starts\",\"examples\",\"west\",\"3\",\"software\",\"particularly\",\"success\",\"measure\",\"totally\",\"suddenly\",\"action\",\"college\",\"higher\",\"code\",\"eventually\",\"democracy\",\"sit\",\"among\",\"minute\",\"largest\",\"hospital\",\"showing\",\"period\",\"notice\",\"mass\",\"develop\",\"dream\",\"onto\",\"memory\",\"add\",\"break\",\"plants\",\"11\",\"zero\",\"favorite\",\"everywhere\",\"speed\",\"response\",\"moved\",\"schools\",\"wants\",\"movie\",\"extremely\",\"table\",\"wait\",\"individuals\",\"trust\",\"anyway\",\"follow\",\"medicine\",\"biggest\",\"plant\",\"organization\",\"watching\",\"creative\",\"road\",\"choose\",\"worse\",\"results\",\"500\",\"lead\",\"exciting\",\"grew\",\"materials\",\"jobs\",\"east\",\"positive\",\"poverty\",\"plan\",\"fall\",\"strong\",\"safe\",\"essentially\",\"object\",\"door\",\"further\",\"vision\",\"continue\",\"happiness\",\"son\",\"doctor\",\"student\",\"objects\",\"including\",\"role\",\"named\",\"extraordinary\",\"standing\",\"conversation\",\"projects\",\"skin\",\"african\",\"leaders\",\"usually\",\"allowed\",\"models\",\"supposed\",\"interest\",\"faster\",\"police\",\"families\",\"fight\",\"tree\",\"connected\",\"5\",\"screen\",\"cases\",\"goal\",\"somewhere\",\"finding\",\"buildings\",\"shown\"],\"x1\":[-19.65769808032836,-9.138081353877812,-11.195315179534095,-22.31502591640762,-13.182629873013987,-16.33037497865248,-8.560999882601463,12.249379926736198,-11.435975882270402,-8.026694403035494,-8.240494849801301,9.617561725275872,9.275952307023127,-15.833963333850159,-17.40575183223511,-8.290031985409575,10.045056658493461,-14.141738345228804,12.776111409961304,-1.1017314469238226,-17.381379490968538,-9.872650750389909,-5.362584478564389,-6.081065510528335,-4.9886904637166625,-20.654643307820365,-12.709838928350589,-10.350268964088624,0.33667684518656926,-17.875455906487822,10.093114947016815,-15.111877972971708,-13.427857385405304,0.24703420688920014,5.168051103758158,-14.65983446685413,12.621330175543287,13.51522480323732,-12.86439809709202,-23.816736472960738,-4.959560238111284,-8.92684424334317,-16.47497994268509,4.1101097288787,-13.546158545967657,-10.99093634578997,-8.74367003488195,-25.005102226459098,-6.423751778549514,-17.28541225909604,-23.990782414073845,6.125564793377983,-4.908823609434934,-9.28690071703619,-16.46575150519471,-18.03003867743809,3.9151176588562,-4.228903013926951,14.798866819781171,11.7596596732559,11.770681411897623,3.7065913758657607,11.069882912348346,12.821219485842683,4.625244962746318,1.1734882233264001,-17.401715776956944,-16.20384594028059,-4.272278161295169,-8.556621128214015,-22.902880926951177,5.127321115292235,-1.7350112336087085,-6.9308332031027335,-27.146661069312938,-9.250913910595704,-16.10017511251911,-6.362942852445808,2.142785565667128,12.700560496513102,17.77766251268968,-10.884379031803299,-3.957608326514565,-13.281967772326965,-9.10123557048063,-5.5197641144558895,-16.019835252593726,-12.114882685896813,-8.266649833789264,1.0057743530068184,-4.525436094969331,6.238827856370996,7.4325400812315126,16.511336494886944,5.924534980076523,-0.71734153777402,-0.9508226780097807,4.197367628370869,4.945160320326447,-10.518113256161854,-8.744650825279662,-9.518288217417533,5.533659255939893,3.7852222485487177,7.870314398443697,-10.834009370939746,0.9349017856054884,-11.489492589227435,-15.695932732802152,-5.40574078607666,10.550416553378763,-4.59530258019808,-7.8520450072725225,-23.182783749783876,4.5989130546102555,-16.44081777592886,5.196592693235801,-13.860093933717245,-13.167807003457733,-20.61722360271415,3.1768022432182703,4.329777865993876,16.496560314539007,14.15244781727995,2.766187894123171,9.280969554814497,0.8035734714633628,16.504729527122244,-9.96903815219681,-10.448165853752931,-18.446037194303493,-3.9573892254529115,-5.474992430540539,6.563562902256592,4.819220685818511,-4.085142234434016,-13.817030551580105,-14.91632618375944,6.677821487738466,-3.91147371021441,-4.897866793351357,-14.746342907314359,5.415907772465571,-1.7012758180124827,2.765613482798462,5.646437547800893,4.641055924910355,-25.106013813905335,-9.102284987621578,-0.5144552398701316,-2.999153972920524,-2.3680473564578173,6.33176412801876,3.086162797305302,-17.927201020363412,-15.906625734304619,2.090515854308703,17.730671417140258,-13.5327284173963,2.3401050721164895,-3.941446535484011,13.048835637082117,-13.706044172429651,-14.512689008682743,-17.13967678099058,-9.658327492791384,-18.991602165456474,-3.732799284465405,-11.809477124380772,-15.5172328732257,-5.602285163679627,11.528701528087932,3.6788204679179644,10.223973131999186,4.358806627546235,-5.9858629783381145,-20.120410392134836,0.5197222687151964,-7.122745060687017,-5.463711605817195,15.142527260446826,-12.076533471838172,-16.801356472134373,-4.7774597104787,-9.530439759576531,-15.728518514179546,-13.944890074445112,-12.79640213162574,6.0969167785892,12.953259251400562,-10.510463607879398,1.4653930445507914,3.535133006335786,-15.422961312731159,-1.5406820971229058,-12.424528840585253,4.323508492638782,0.05018079707519957,5.21563768355522,-6.317832006319466,-11.946503699835567,5.332034358723139,-13.771742193115402,-17.014227718397784,12.360086649715935,-24.395626316659826,-0.12725988695383625,4.347273561765785,-9.616882220606985,-3.2275725684709515,0.9403693156896427,-16.04142443941671,-16.628090748788125,8.577222189193074,-1.3678109023090776,17.783970645671772,-1.2006663041852514,-7.846192410861624,3.401305717669033,7.46437886291155,-6.922708093419571,5.233788806870913,-17.954865593351112,15.48443155305037,-15.525329721726449,0.6740651532889046,-0.673253754105512,9.28042292501363,5.822072808793036,6.097045208664726,-11.01738429937812,-11.981237722749635,13.086414508971345,14.903077154913138,-6.106355454281692,1.0698099866219422,-3.417440092099204,3.846135982715497,2.265012947296592,16.33234705270726,0.4819880315606113,2.9876681718265785,-1.127353116981848,-10.984675060975475,4.653109963024669,-8.437189350081802,2.519219292594637,-14.545416893008944,-0.1360637652724558,-9.625790614461723,-18.979782984010555,-0.777906367694296,9.115867734125626,-18.317909523148487,-14.051130622535382,9.239767713174096,-10.396913480034454,-0.8179125485685236,13.079259524205606,-1.2191925429901354,0.11749670674337487,-1.153752356187633,-5.958855931290468,-12.051136615473231,-2.8308681190243203,-21.991414695981938,-2.019536491623492,-2.3125172222315564,-19.574428015461315,-24.674768058217825,2.3496613703918525,-23.37484539166715,-7.4037254537860955,-15.140568416246293,-17.40959540256428,7.905869079705524,11.394084243118025,-21.865120905039074,-15.997021177937828,-2.3601097735007146,11.680579173494115,2.5309322422777534,-4.167596073132292,-33.52914934603219,-11.835677582362573,-12.373682793152947,-7.594923026155465,-0.15146247033439258,2.976153792701346,-19.71264457239233,4.394745087143338,1.9098167238868498,-24.09137932330005,3.743418378710281,10.667157698619201,-10.877651517904388,-18.60415452230051,-13.903032121368225,-20.647010327066376,0.9228338831463678,12.932633129449844,-9.394945176485578,0.2674663238565712,-6.7177931935130415,12.8668952316927,3.099469616486285,4.561403705760689,-5.076516077424064,-2.142904008428928,8.270605212650292,-8.235483644569843,0.6011459145160023,-8.008762530420398,5.664365227818532,-1.1483858636721678,0.32934723306448016,12.326367626665396,-1.7950789703032022,-13.867470664119175,2.922530580430792,10.157690981274083,-16.057854042979194,7.984693149205701,5.056655086030042,-1.19969565229116,-2.0553790365647067,-19.464019306863353,-24.04244192425145,-13.741818845802934,-0.2400831384106528,-13.636604121616415,-12.445567077060293,-10.55650791136454,11.494352243777358,-15.326668330077869,-10.956436300278964,-19.756154212068957,16.50482550825776,-0.6454410031090144,11.346951788010141,5.766998023373545,-9.237538546616063,-16.455270741201566,-9.496698504788018,-2.7498074680024613,0.5767534658483237,-8.359879396719782,-12.364965345735976,-4.7816395871624655,-13.022051714734937,4.522138521853963,7.623361803495435,-1.4505940438016027,-21.481708241606835,3.9584109257532782,-17.06477639536242,-7.855645137088923,-15.133889788101806,-25.767355992394023,-16.237725830326,-10.523910715622899,4.325279076726853,-22.70492627758397,-11.846373639459976,13.034822020963396,8.657700742244861,-9.205506454410349,0.4683369700201485,-13.166962582840059,-15.107493302495142,-23.334714031602726,12.878138665549898,-21.48037263027758,-12.21613772355952,-2.465820562976373,-14.258993294589283,-23.522393946287345,-0.3744933850472085,-11.263392094834813,-2.1027065416263153,-8.729539672764856,2.4693354138742767,-16.122494337380846,5.98914485510984,5.807143560592772,-12.818085616471972,-14.689462359749022,-14.108087854370561,-15.22008496937307,-24.383628788247893,2.453574990975687,1.321108848582933,-9.813026326589007,-15.422066199773278,-14.309844392408475,7.834530255011537,-17.06188527416402,-24.559735255992514,-19.070443823478687,-8.997687381227896,-3.189298386230414,-12.551608797594964,4.641460340611672,-0.6501075003253295,-21.560190799979267,8.719135810615729,-3.624331271772978,-1.771209632934443,17.245715292805762,2.466557476233406,1.3001109279861842,-3.030181780478564,17.251631113210443,-20.442013926057328,3.1209415007101504,-10.41412617718841,-7.464125004583793,-22.76104940879851,-6.9792128365639945,-18.382427684646853,-12.965288183055232,5.9042576508848015,-23.801496357026345,2.14480414646234,5.841527297078456,-17.503056899927458,12.956989019931239,-3.6026304764540633,10.146572738726942,5.207212788685936,-6.900131988585313,-10.16137626020093,5.666998998868572,-11.382697216597517,-7.136554099366099,-9.125334842180928,-7.766405295555521,-15.524365904762217,-1.2924575122976483,-12.069271952821914,2.2037909850494923,-12.258171439811717,2.8329770986939833,-13.188166493428511,-8.64960345420047,-18.250587988040948,8.904494409047885,4.836910101015475,-3.0205995656334528,15.30708211200923,-20.066507517257076,-7.903978761879634,-6.172231264950884,7.70226156656762,-2.1728099080651018,10.155222931469577,-10.475542335381002,-14.469826985111627,-21.934410156815048,-11.882379418542754,-23.59805509984524,-5.02715613773125,-11.290996058710709,-5.975534638070862,3.088688067003604,-5.570292754291144,0.17376770096531444,-8.200429038402392,-12.368923575716494,10.83729392446666,-14.528742623163229,2.3964787110620307,7.105342398411086,-21.905617397074415,2.72745821433146,-15.970721038431165,2.017686712302889,2.971541861651253,-12.380259009697529,-16.4252280311608,-5.631570456159237,-11.766716326435441,3.016205546725564,11.796761186590178,12.89284070409236,1.8340625209103818,-15.032807251707895,-6.175947501966601,-2.7884196011063596,-1.3143978375608723,17.646959260946154,-17.09666319600031,7.889872621852797,-14.933202597481555,5.59950814915607,-14.29705417738469,-25.49558819339421,-13.697758650645646,6.361783550269792,-15.242851550110606,-12.689749354245686,-3.7175372743862996,-16.57237469048392,1.9002759547682786,-10.016602750325204,-14.588867746009752,-4.73562873087628,-6.325311238617058,-16.44120132111527,-8.167492643606451,-10.462310976428322,-9.207884163753317,2.9531736593833626,-21.491874344067064,-5.53999792655966,-4.9842613112512275,2.0652634485558075,-2.6840189277034203,2.680712573708215,2.1359611005665515,-14.645416460877003,-17.656186642556875,-11.095514781165106,-14.129994865396668,-16.404187519685376,-17.470887729504213,-4.224487875683069,17.61492715036463,9.16818099101343,-9.410855091612202,-8.14511278015339,-2.710149802494665,-15.167383264686995,-3.295886095623174,-17.336708565878748,-4.754552774747818,5.537848870408042,-20.256206594565818,4.072198293276017,4.730687542487962,7.624247397871459,3.2826219388304136,-0.8932731660870568,3.535181151829921,6.657914199477059,-5.078663411944193,-14.08686860026013,-8.614259379849424,-6.808709678605924,10.63196193396091,-8.164048436388843,10.535302575281692,-16.485207661767447,-7.109824167306344,-8.185685334772453,-13.674327126258486,1.9219043208666684,10.646708674714157,2.9351306994872486,-5.732175582433835,-1.2612185673380583,-22.5355677606771,0.9015475379956286,-20.475384380619392,-18.49363051905586,-1.4664202339329984,-1.2400793405079313,-25.823639031088568,12.867406647731062,14.351598185826354,-19.27738069861008,-7.712682701610151,-12.947316622235773,15.080199677207386,2.1487860849132105,2.3875176176403365,-24.09259770517078,9.77105083593843,-21.223032592759534,-18.970337212992245,12.94450930618424,5.232983455191619,-13.540134221252867,-3.7108051978417276,-20.13228266102172,-12.870624758450866,-3.3379940009620888,4.065449013945811,-20.945648765118186,-19.657000796213442,7.125662911103181,-14.355176810086304,-6.416266689561875,10.266377995655017,-14.7603241217308,-17.955379389421903,0.8062039486575567,10.222230578158465,-2.679265345036785,-18.10104286098868,-5.602352366609795,3.095616911256813,-19.085797083991416,15.211500620618155,-3.246503234450876,-4.60297562909483,-4.354736750493817,-4.4583345764239235,-22.108553458199484,-21.45807786099288,-14.717983011572189,-4.473284643180893,5.457488621835029,-6.2961818336357425,-15.317101342314784,6.2874850385065155,-15.270255435763922,-6.924568245165833,6.21370223067368,-23.846259173647255,6.568178768918351,-4.305318305126658,-7.257159151275842,-15.411442489645967,-4.606745792058039,2.444020598160691,17.622806024121154,-20.652198269912343,-25.847422982674804,-16.47398764125732,-0.06150020166844494,-6.9588930606552255,-12.651423622150519,1.2444957627869215,-7.862850122815113,-16.55196481458268,9.234873837264209,2.204449783048359,1.9475966382077865,-11.378284922330097,2.120637421004969,7.640128750057928,3.0531974483951387,-4.933486121565982,-21.254846374196074,2.864459383066045,-10.693439562699806,-3.4330987762026015,-18.9881373501687,-3.0868921982584294,2.8385697220913553,-2.929471304042646,-10.835267051684719,-20.064463182161465,-18.250947395387847,1.8739830507217272,-17.42192291206626,-14.114621440851334,7.0263650892476175,-15.102013476364023,2.253867408852838,2.9530202778372896,-20.44611179361889,-9.42288303574922,-19.70376483668969,-2.064241950949419,-5.191469241610465,-8.381925616925436,-10.468555305891845,-13.838688399489564,-19.058250903402595,-13.074895988169686,-12.532175173628243,-5.715881573739227,3.9633912738123303,-15.481288776048572,-12.171354267926635,4.305231019226821,2.236537331310351,-2.486111141424786,3.1851201328875085,-12.891182377662288,-6.937570694736107,-2.8852808782131647,3.8999923788467177,-23.06205642623477,-12.064669363974648,7.593064916097817,-17.58893889250847,-8.890164193717903,-10.563992838433993,-18.102443188193,-19.26786009792655,-2.132091354230193,-3.8782805926311994,1.9403147328370534,-11.947447868603858,-10.689116369166198,-9.753344292421279,2.7179059758601865,2.5849117865334614,4.478810102380069,-16.958921133927905,-3.3392309797694617,15.552018061650116,5.189089155265512,-8.288700501202364,2.1146495742213585,2.9427175711536404,-1.6210096764648676,-13.81993743801797,-14.782519706012124,-0.2025669972447961,-10.586145482129517,-13.859429202212374,-14.790441532990336,-16.804261574724897,-23.91878766161065,-7.832930026494588,-20.55898892843822,-11.046230298945382,-0.892983607321394,-15.809347034071996,-12.07299595989988,-10.121229790876452,-19.059869324747567,-16.972442673132054,-7.564909850366614,-9.59735489541335,-18.703478135506092,-8.261895251106058,3.7006145170594187,-15.28380750565302,4.88864504839182,-14.739155801749419,-3.0496389748723973,6.6012230046716125,-20.41431675081427,-17.250201765131976,0.7896540967556036,-15.693423780497557,6.55676124891908,0.7462626430769556,12.354154410730274,-15.990032538012771,5.408802245710447,-12.12669785095795,-13.257316012811565,9.0558751040243,8.214452269034528,-7.98898700958774,-17.183092417513105,10.057611271292313,-15.044619807181638,-5.3895202844960615,8.229688950562256,-8.927874028975003,-15.208640880334752,-11.12738798745343,-20.151872367396773,2.580880426050345,-5.36406217967986,5.353160452280097,-14.280277719478017,-12.378615081102344,-5.410273223767374,-16.21948834729773,4.006152339824809,-14.330330389397796,-20.43292156306739,-1.573542350501137,-1.0857965647497452,-5.024299979522596,-23.91078244469309,-0.7736481092724853,0.8636740335494933,-5.378904703311984,-10.663927856245728,-20.653682581487196,-1.7759731213771006,-10.402324147143089,-9.125790938190224,-18.3547454631748,-3.87206334372854,2.0412575406243105,-14.208064920313069,-16.207579832215615,-16.50039487604619,-6.291461534422422,13.809355594078474,4.3190599317146985,2.740068013357329,-7.545002433565866,-14.882534287745914,1.082115255930152,-12.484133384191768,17.368807937952507,-18.060879273827716,15.537994341466723,-11.643975725498407,6.035956443354042,-1.4052995150601577,-3.3941634461259587,-10.180927059080373,-19.274168620337637,-17.092724943072128,-16.015689488839744,-7.9141411102758425,3.879549068833038,-16.491603060566586,3.5749976991838603,-14.95162728575309,-21.431738067364282,-15.86830206777587,-22.435482848907753,-12.489582185773639,-16.748754564465518,-9.386439396266633,-10.307135466400991,-16.673095404947013,-19.516503261962693,-20.852846711281813,10.389563034309594,-23.55005673253492,11.048744042929375,17.278429044266016,4.749412841990137,3.829839078787487,-15.949335078480733,-12.063463685145125,6.447980121326136,-21.40100955383378,-13.406879641340037,-14.39309931860212,-10.647692906528897,-14.717908282579879,-18.65592365502575,-2.1637567520857997,3.1105736423341046,-1.6362745302103316,-7.487749380056851,-22.687381445829004,-18.647269380167444,-10.620831456598989,-1.3849648073721301,-22.672609656691055,-15.359052147307453,-4.964924647665775,-19.312806529731507,-12.626512741753762,-20.82046570595421,15.530046006523301,0.37599389527046845,-17.946680751983873,2.703300549089141,4.047373685726241,-11.026639849252263,-20.740048764597645,0.9204770696216544,4.056333553347995,-12.97610411192361,6.813623662583772,2.9066119708961713,1.2654389854204842,-12.637185481881573,2.9654874175417754,4.823259699982285,0.9030772280358773,4.303817382554106,-23.56427309613413,-12.34370089417368,2.701229915542858,-20.74844831745418,-10.023751716835086,-11.350338932935363,-16.876977905506894,-18.258652796888146,2.9562730722939077,-24.239051093036874,-8.741630599005942,-6.81686688485811,-11.430222591872855,-4.499834940516719,-13.390053404319982,-14.029155780692829,-10.57702660137798,2.241074651012862,4.159113437794483,11.992937619553222,-12.351793074281193,-7.680528923652823,2.174490932778142,-10.154898210803156,-15.48659735561626,-17.50936291538187,-2.7765703596621423,-10.748257084901507,-8.601717137446125,-18.80114825215124,-0.9684472821078076,10.885198202282602,-9.554712456688776,-8.957717711973046,-21.348860627428802,4.796918852480167,-24.219865913022257,-14.239444242290869,-22.12356801921856,-1.3564418807829859,1.807516808464471,-14.179685847339798,4.059899456132482,-5.595450581432801,-1.1579194978009595,-12.81062155136174,-5.079290444318845,-13.083002647358274,3.197908510515364,6.005037748887073,-14.323857296655193,3.1788111042978233,-4.9584543733464255,-14.65295045827906,-9.775496825210983,-5.261877568522383,-16.703136313181492,4.640107574072652,-17.40191490814324,14.246058831384728,-7.779359741233067,-23.568614950576702,-3.174277154635873,5.778715643502995,-16.3765135870554,-1.0571612677923987,-10.669251396131058,2.4363159281735225,-20.51928245072814,-21.984584364424766,-8.6314073927402,-23.172131970033792,0.4740024429728321,-19.55299051558221,-3.8820110711402136,2.084129755091869,11.250823619775035,-12.843706498494356,2.1113167100181274,0.521836770611001,-19.5454562838717,3.413009579676528,-14.358146407391388,-16.36362136631989,-7.791017292127598,-19.388015895605633,-22.58425974940603,-12.20855776253918,4.256812460728268,-18.821589496143684,-14.133422005970148,-11.507033009852725,-8.915226309749476,-1.274430247078782,10.382332717656968,-14.646723154959217,1.092682287802607,-17.48354097203729,2.2719356824381225,1.4077916565060902,-0.8083344154216986,-13.84233518299044,-24.197185837683385,-18.394930547919714,3.8741549748228103,-19.131719806503764,-0.3882132713705125,-13.489048416839506,-13.028107700302698,-2.047876127495182,-25.427840257292413,-17.21545822027969,-12.883069021807763,4.292670621343323,-14.842899846826981,3.9007351018674847,-19.313069904692853,10.878804519479077,-24.80183508111781,-16.845213441271955,1.386205549460417,-4.655698204649462,4.698785991019585,2.436892836464063,-4.379460122892598,-12.935079425453953,-15.950252976463668,-7.2629080691644585,-12.205590302325005,-14.339328734460729,7.02043003895659],\"x2\":[-2.138523357044191,-7.3170652867366694,8.108515542801092,-5.698327079079843,5.496011391921459,5.977058613222108,-3.0773355771269837,-12.396686005889354,6.257781431176048,10.161272165209477,10.31415815194435,-8.37601072826324,-8.271563420850216,5.6017603414580455,6.0311593348818935,10.357324665957936,-9.700874874925967,-5.974294874825044,12.101536735182114,13.03870268126714,6.008609433233483,19.17827162849397,-4.282890384468711,-3.942266600673691,-15.31257694963482,8.795809517567227,-4.252682898969907,-7.795926606802366,14.538416898041515,-5.751289774562442,5.138916063639544,-8.454770400069963,-6.052773783512156,12.775570347792986,-10.34264490020228,4.9417555768395465,12.202428666964051,8.506623503036968,-9.995083171483191,9.563647024287185,-19.59971180902545,-10.361138179612933,13.92552519938767,-9.387449286125898,5.428994802900956,-7.996884343930552,14.363658113929187,8.37464127002804,-9.24604004099758,6.012646971115048,-9.914449386668574,-12.643112658028498,-7.155050596704926,-5.043162201390743,12.699256816140805,6.432910129178137,9.56245556119062,-5.779420419753588,-1.7799236627956474,-3.169281402199018,16.25333178188638,8.378841123314233,8.190469761255695,12.061244301919771,11.315143079488372,-5.20054850545364,12.810237629208096,6.07376187646516,-15.312792520685285,-10.237456615348181,-10.157710374850803,17.476897483654454,12.589617430406676,-7.417302707687977,21.840639363256773,-15.547317879235054,13.123272338963183,-11.179066361005166,-15.896639784438356,-3.8327097324572756,6.181412922231924,-3.1568166029602334,-4.645067152618596,3.4089507509617705,-5.947840723691239,-14.716972696407797,-16.465897539067388,8.921277646968056,5.726799720370704,7.358327010681139,-15.243479227121648,16.14208861983681,5.382146484038102,-5.2595046489178845,-2.682378201381625,18.070851496165556,-0.2709291474811111,-9.637132045220813,5.313542827768714,19.92560990670588,14.365751729727204,-12.360898926782182,-23.855346244367716,2.2531235942792533,8.104850198468407,-3.1039933467191934,3.9736009401669055,0.7470258176143215,1.013658008190403,-0.4759598794951857,-3.90088644194097,-6.421640364053127,-22.51098964288847,-7.472968398686523,6.329121383713144,-5.929565618425757,-10.362176164598177,-0.49507822652138167,-5.233946793324862,5.983666308733781,-18.483826149808714,18.32881112745713,-5.245946399880762,-6.931617743280203,-16.050054413099126,11.162933499959827,5.664817795706211,12.765210072795316,-22.549198948678665,13.743395636231906,-8.333724688106951,-7.111218909184322,-14.810065413698412,4.175381382656244,-10.138097421861145,-4.727177921064986,-7.17853831401878,-3.221660462940272,15.915215446284064,-15.516001488638047,-10.755934818203338,-15.209569781475707,-23.905621729016488,16.776976040959145,-0.04139274768348937,17.892911899506526,-7.20851710255935,10.31146347610872,-10.435515684177968,-23.205951293993905,9.914830314476609,-13.437657400310762,11.091387626253717,11.390778052277543,-11.605558781137987,3.6116094351623924,19.098724449915927,6.314963909256323,-2.8433630023357113,11.418877980306943,15.701728359054444,-8.413449091213867,5.247920908579495,0.48735349389475136,-12.104485621545303,-13.334002658663197,-4.835966725723717,-12.084997153611969,4.901553132962251,17.368193094564212,-14.051697499377184,15.605808718439016,18.536732590069814,-1.4528370894560518,-3.7753993786871805,-14.193677646066897,-10.827763608851834,-23.76395271620051,-7.375684408664974,-5.44507609037926,-1.9656652016111387,-5.802720190002505,-0.5297066571944861,-6.2929490970559465,-13.230776049916203,-0.983299707216799,-3.892405011577876,2.833201215457647,-12.613609606704566,-5.3110828412286795,13.551185366712463,15.945585936866642,11.91844402788233,-11.741234891173931,-14.273068545355994,-1.565056146869075,-3.7392318724306604,-4.037270378093129,-21.89364626248447,1.0295373359343283,-13.372559543254361,0.6770486206951637,-0.7045045182316976,4.503348297814814,9.076710056703886,-9.182316341802586,-13.876971589863954,7.197836081833423,7.703403103083097,4.246786385129073,3.533566433329602,0.31221963999686886,-4.993667593788182,-2.199893558542291,10.914196388525399,6.10858267643869,1.830847855792306,3.2136827352023882,-25.177673390114382,-1.0903127007300486,-10.980662954520175,-24.015364660093155,-4.662833421186852,-6.302085970098712,17.36242463579681,12.083361328492316,-10.126937125977186,11.162452736204461,14.37830720132087,6.241351567627957,2.6245065897790396,-7.817934740697696,7.917572629772857,-1.872240983831802,-14.17418430706497,-10.158263144768977,-6.768008685558494,8.787443120003116,8.913663223216572,-4.4507392731088995,-23.717570700123527,-0.4636812235327332,14.79164914098118,19.890640382097445,-24.334502157745224,-16.116691605878554,6.600857142772973,4.794188792439521,3.1763284980876443,7.692696619435927,7.8240304324717584,6.2363683164327,-5.500528099960163,3.87323398628446,-17.560284522915776,5.959202887565653,5.384631513559335,-18.96167173626475,7.849794601237439,-8.344133374484237,15.869835424347722,17.39644549968627,2.6119412766529146,-11.317210437676392,9.564693263510843,-3.5468645079327743,0.26656890458039184,8.608331689848189,3.173339470157056,-8.328282445638575,-10.661876470431737,-10.011108774018984,-16.3578543717921,-6.023382212001865,1.9977695716614026,-2.2827013831773586,-7.790830911543483,1.0568090709464069,-5.308111646936187,3.1214394381099035,16.139030452770463,6.300264332395954,5.048366451424601,19.339964705961982,0.532327432146977,-11.592379633113964,7.69730344316453,-4.0244903564949315,4.737921279357285,-11.326127463197007,-25.5778413652311,12.309714785246785,-9.590948949599444,13.45281190028122,2.6371606223582047,19.89556088533245,10.67164057518137,13.96362861696503,-6.506605181461267,-1.1476342885966369,5.866026778837343,6.073533840661324,-21.715365225815905,-11.086503546453914,1.0389109765111528,-25.06338965493376,11.161917176069826,-21.841116780502155,-1.685438677842647,-4.8847722525178,-6.2363395662751016,14.062874938098577,-7.563512712040946,3.437116908399946,17.351679599329383,1.5690053909377535,9.013059443445547,-14.073522887195178,-0.06763105181625853,4.72907859705448,-6.347142747268689,-8.056058996437148,-0.6949972784697429,5.1575528473288585,-7.45697935758365,-1.854774233670211,-8.85880856412658,2.5989052864967164,8.887465680204473,8.171954105443218,-2.217120042690626,-7.930746956541767,-5.056492074308254,8.429286162665168,-16.613109651583585,19.9055978459708,12.996051563240073,12.76559114759676,6.12476923999839,-7.827340935913932,16.68397291287472,-17.16610307251072,1.3676939137721966,0.8022260772328369,6.802088667999505,12.896368687033322,-16.975690242890618,2.354670521463811,-3.4302738875870293,18.68283340992325,-24.256043385884634,8.252988970305381,4.663444051034808,5.206093670308676,10.335652141565868,-7.056404276551199,0.5367535246671702,-7.8676516894244966,9.33717353511134,8.324371600309185,-3.3573632564764724,4.564189478191032,3.667530490624867,-6.189777105967418,-12.001397601020551,-4.2079258411636475,-2.82195044091285,-23.70135586515572,-8.75449255855681,-4.923675992678652,2.752075530738734,1.038191657714485,1.0548545509244371,19.048757485319083,1.4491146931313943,-9.50719468754153,1.5414879111004756,9.788296502887636,-7.079602398668078,-6.816445918158466,-1.4173442272158794,15.825780826810757,0.06509743753404715,3.0578550883199345,3.234607263441389,-8.53144718819848,-2.3103527423977352,-12.59831292421042,-4.613517397282868,-2.7135855369694233,-10.815443976165849,-9.806629730552844,-3.9904525699714752,-16.55859166153341,8.691955939714246,-7.359527032924786,-3.198980750837842,0.13952199321666978,-11.489178206734929,-17.950981135859745,-12.641551726066595,-15.243957048691684,17.868987789956034,-2.838163118090587,6.5328314199182085,-0.5629831092790117,-12.166653546409847,-4.748087645079934,8.230733423866567,-25.006753953401084,10.664558114519409,16.751167440714955,8.216071913059789,4.976887151218245,-25.05262102897583,11.16661379793901,-17.173547728289783,5.384843422792798,-5.145876802346412,-2.4856881773304633,18.705839927761378,-0.37584585370130885,-1.1459116803689788,-10.387060050789684,16.906284190498084,-10.643265384377813,6.494842632159081,1.4216158026693901,-1.832752477529292,-21.889025815734442,12.293245594297575,4.413295969774981,3.3884819498609913,2.6562655878808337,-18.154443212773998,-1.8498612305354842,0.9348109764145301,3.0863903516718305,-5.71562861700764,-8.872594635073249,15.500318014000044,19.018594005980948,-25.057311527337443,13.338212577513882,0.21239153317177561,0.9543042344411199,-1.0757818781213508,16.211577560484272,-8.950367981453127,-6.572960378374329,5.010840754047278,-1.6278431904415596,9.150814654030617,-7.094494636109648,8.48362678409706,-9.36076335520759,-4.134541218298262,12.191148366649262,3.133245555105778,-4.907082924195677,2.4912254075186264,11.157672105973726,10.29859685378611,2.689690760155886,13.218747366698173,6.529995587653874,-6.034669661139127,-16.96785125746499,1.5699083272758403,-8.120844998182164,10.142515880005092,-8.027748161400252,2.4838850431284274,5.3248640154158355,-3.3804977927516573,12.445784953957995,-0.07612762859963465,11.117423863259292,-11.594866670327814,12.271185598808767,-13.848887222789301,4.4828764521536275,-15.398427869866747,15.064016582905237,7.21035610172426,-6.986454623953883,-16.564204803541287,9.142216336851673,-3.7638265550609034,-7.518090651448298,6.581526462979583,-12.32278920827003,0.4408218730116702,2.832260017268223,3.5124321729355503,11.699671758305048,-1.4881013234293736,2.964480945773295,-2.842760530263755,-16.620211292553158,11.758808165014699,-1.1934804702115096,-4.866752186591318,-24.11701317777535,-13.498340606733919,4.770966921682926,-4.994181264387759,-6.204603304969639,11.682597126641303,-8.726593191168837,-9.48950630869233,-0.15175074709505587,-17.56823269395797,-1.994219373454007,14.520146542713317,7.40239519615504,-22.64615253857007,-0.6864274933691368,-16.070089105037734,19.201641397866457,-6.769714216369358,-7.5504952738240965,11.641777816367881,-8.608755382102823,-3.708939642966968,3.648876072646838,-9.735097432626223,6.6996291297041255,-5.580288370952329,0.7226533190543522,-16.88371138732929,-13.107874161789939,9.376517183168165,3.7127688822642284,0.3721643669896057,-3.313452610445287,-1.862490856334207,-5.3184861466671265,-24.297845706403038,-0.7509049883833625,-2.526257761448752,14.153876711715116,-2.8507923467622516,-24.62652950801322,9.16129671478591,-4.0184642182835555,13.158034462088146,-4.6585710252072525,6.3750535300139,2.623942842066499,-16.9206355083577,-7.0660178072936715,9.97493682848664,3.9882222229629134,-3.3567923452992923,2.1902681143599247,0.3709137122137703,2.629781670092215,-3.2215419257050653,6.250764425655768,-5.377792832455873,5.3129389648240135,-1.1249907583517813,2.506010466483161,0.7390388980478668,-11.532065772043252,-5.431814515416809,9.344376934262048,-8.305421389899044,-5.071585739224645,1.5141943211765783,0.6626512622314062,-7.383079881567255,-6.2814235215999945,2.2497883365454117,-8.003256638530114,0.6322675132988519,-1.7635664962851578,-0.41515276082378166,-3.2916852413337234,6.6067731399788885,16.07611947948039,1.000904586477449,-2.760281126269219,-0.259885690157907,12.940036870853806,2.9260326027882937,-24.33592547491058,1.4198311255213205,-8.380997668313796,0.19690325803134587,-15.400123628069872,4.247047667230887,-1.8991568631176152,11.650309775700675,-7.838153628230996,17.444034054386474,14.40161198391364,-2.7491737286550673,-10.925468272750946,-13.756884175246126,17.458302809078138,-7.55636232821331,-6.477584416395053,-10.03915616519301,2.575191562381719,3.4275337756312267,4.302409650020225,-0.01175254991970287,-7.695708509187368,6.730511790740075,-1.6391962563507998,-1.9769924162199273,5.641885327755689,-16.568433010241506,-4.148919301840457,-1.334354079857695,0.33892076593822557,-2.4776480562750196,-0.8259702460089652,8.521326595922085,-0.40841646126635167,1.8964109108280582,-9.36528502271001,-0.7181048100329205,17.516829031422336,6.686939599974115,1.820514742939799,9.318859081495534,11.172991293279086,0.17082933793939115,12.253564179045947,7.006392729837812,10.712356218810491,-18.23926534520725,-1.0751113235796521,5.966312457417132,-8.183881000785524,-1.9737257496711897,1.7351769801268484,-24.101510194965574,-6.246645858183365,-5.52134651944565,-9.350518307948917,1.8310406928981233,-24.80145421695104,0.24078421436809316,0.5870273369475758,-10.170338595308829,2.6851452916926544,-22.201517583651647,-8.919759181099511,0.32743175744713315,-5.496007767698006,4.151267604356014,17.576958621983948,9.600504962206218,2.813463645508493,-4.001603587514764,-3.534430606156201,-9.980917674473039,-17.559370735165185,1.8916687939045522,2.632062672199595,-7.980580476741029,14.649907621193464,7.121785877434913,4.1315514539765275,5.273961611395462,-18.35994213593579,7.334685582592469,13.143069091534146,18.76280449018473,-1.8534147415748945,13.860970439222593,-11.625159988831802,-5.858983817411027,-2.012066987443844,13.31296699919751,1.4996169064648452,15.212300951922554,10.821259847655067,-2.4707039205273302,-0.19479242895661947,9.690485653967373,-1.8791558926698155,10.584327373440674,-5.03012738444686,3.344424295401757,-5.167175934153012,11.023819559627327,2.578339927473269,0.04448126183421622,8.508817528830912,2.162162078858594,16.865465474267516,4.108592717960472,-9.940826512215635,-5.875388439585888,4.544781209163552,1.920794274309895,16.810176992863724,-10.041943384859369,2.769282143714,2.174645700281932,-1.5296099732475386,4.573094783367913,-9.758008334355296,-17.54638665992446,14.460998246883639,-18.39172412748683,9.812554220822697,-1.2752937213860314,-1.446391769589032,-3.663514076724485,8.017359102727953,-2.1646126040702742,0.4548886339095315,-18.288437513577172,0.8329146041606774,-0.3856783976484815,-3.1365922740416545,-3.0369463950064826,19.107351394044755,3.3138368674425007,-5.596277056025904,-1.0939105307176,-1.92232320901083,3.8690216210144954,-6.22271634320253,-8.54680104292998,-24.208454881491736,1.785088349410405,15.920575951180503,10.87592724675516,2.6786782291496043,8.701701122830704,-5.015820234429145,-9.206409193507541,1.2222444141675053,-8.171942059078305,8.369017702795647,-8.235902838295292,8.117966110039164,-1.8901627580870008,16.14957985721971,-2.9351215307385745,-6.5363872014833415,-0.7502462431762162,-1.9524236620213167,-17.074281978325008,0.4266018373471846,-6.3073744309425,-0.11417874057263239,-1.6264361796334117,-5.0773683676398464,2.0455939519476183,-1.7560405199223883,-9.512966635425968,-0.30758000293095367,4.347537771342166,6.520961328940025,0.35469704126524665,-16.066439735033352,-6.754006999003314,-0.8262959733156665,8.475682802091209,-23.32295349947303,10.00715505763738,0.17790778802546103,-9.761370768933538,-10.1035857957528,-0.4874197336619632,-1.965643367200959,15.449891651223341,16.94978037246815,14.556242730293093,1.6090090589417556,-3.794639761159787,15.70822097374069,2.7475585905146507,-1.71270001091446,-8.152897835943051,0.7340515192907219,-9.372371109317681,-0.9491641924732932,-1.2767890014459444,1.605600201771877,0.12021350366882702,-4.636083556930534,14.959016859650548,14.323232701477732,-5.171905535569784,3.564926029197464,15.560555758209494,18.77616687597019,7.711738850731273,-1.3245928610899227,2.174460055235285,11.02207222417129,4.1102253942123195,16.56207057148001,2.9486452021925205,2.5392405595167267,-1.4889654405608075,-10.0021646303978,9.211310677432522,1.032795434948202,1.840427994533674,10.632851345823061,16.13152689436492,-6.564575452207345,-2.9366065661981535,-3.1471478904578163,-0.045895816148979474,-4.112473130373535,-2.5224468384215655,-2.4810968809784493,0.07674855657672996,2.6801646519211735,-0.8320054246542283,-2.8608198287134234,-8.354907872109711,-9.924076073089966,15.269761086495299,8.067577271723165,3.8804179363686573,-24.115480698069714,10.286143641630613,0.7514358614016606,-4.378943626490912,-7.552423029205857,-6.708848340905059,-15.49896975597605,-1.4660387326383648,1.5830958434999578,-8.173795348547975,8.448474814691034,16.75812028433782,-4.569816268219222,-1.6915643029945568,-0.42966127606590954,2.5535906011268388,1.415414354304228,-8.510553615810412,-0.5632317043366954,2.5095193897726316,4.23756282410802,-6.53259289232292,-5.516437358006357,-2.306441713609143,2.1709307739786756,7.332033328791465,-3.3970210392916567,14.038789061473823,17.731847643347045,-4.201067081983437,-1.4692438935437995,12.514558865186304,-24.962054829930793,-4.572261863210056,-3.4299418373831507,1.7466662426990394,13.12191259179136,-0.8592214618017567,-24.488912858413613,13.231484148718373,0.075179214436921,-0.7971618235762958,2.3897391643354564,1.4970781049737942,-24.29475970007841,-2.265358386390846,-1.3082752575384506,-7.105426874199723,10.474695535330266,2.2496541178082694,-24.445373060355745,-2.5945433112469787,0.2922837550313142,0.07976445958753378,3.576625540975215,4.6629649349055455,-8.12888107746324,9.63677185559588,-9.558733760819209,-9.750405063985022,16.93100109547857,-8.248560080980077,10.623893244198584,-17.459324191831126,-24.04123450698389,1.1747709144540905,-7.955826686328443,-1.098016221188043,16.67242874438022,-6.907630610734184,-6.623862680682106,-0.672660123889844,-9.736064503922199,15.201403141385128,2.4396844887821203,-7.722358289785431,0.12713383176949283,15.18921618938794,-4.632194606702543,-15.485495381828082,-4.202583262328864,-8.925865119496281,0.6622744555759973,-12.556977246617175,10.911825938406594,4.755657854767587,16.15701729284657,-0.9448382579200392,-4.118963018254047,1.2146614737430959,16.816299408317988,16.70943348904389,11.217726178985785,-23.501384448288018,4.83277181673227,-10.660511997308399,-6.591211838321835,5.808600805932148,-3.911302275683193,-2.33047577842928,10.414417358184762,-4.995980308436424,-0.6963414579153291,-9.92512946294414,0.42258758939038904,13.088049201999786,11.067382498730312,14.072041417406574,-6.942939525881843,14.61381988820543,-1.0117560212869208,-4.094148805677356,3.8140029848758674,0.9357614521847525,1.209782590888618,-6.737447884331317,1.3960764245695738,14.629926642193062,15.258102730434832,10.577367965545923,-24.166687612550028,15.550645398765722,-11.006740760053104,-2.47653673090189,9.6710980623964,10.165257633542634,-18.181630793871733,-6.7758071616498095,-0.3865711983278708,-0.3470207075043966,15.761370617051082,-8.526008535118505,-7.142978102998736,-4.868864571766467,2.3502531512456044,-6.714107618494568,15.390057451845948,1.193405744448553,15.437650372796018,-2.374650857015465,-8.013804778655738,-8.53137226679547,-9.630132655636837,10.654667337135255,-4.618105711209918,0.23849365652113053,-7.625726974768105,-11.354326238758242,-0.9322315646486428,-0.7013768395626019,10.215196097189349,-5.356599188425632,-2.514905630365087,10.043902104657864,-8.016762917711526,0.8095001817686065,9.857054741519141,1.1463972707918453,0.6330698798267055,15.299204737275877,-1.1379289072972831,10.672232483063722,14.916952978310203,1.0842989502528098,0.3379640826380921,-24.12138926757411,0.7038067685688185,11.203868440465165,-1.2375799563086287,-4.604747995624386,-3.4042358902630863,10.890491636983581,-0.9965081161079882]}},\"id\":\"a54d93af-c102-420e-b6cc-792c20beebbe\",\"type\":\"ColumnDataSource\"},{\"attributes\":{\"plot\":{\"id\":\"1ee4ed08-2496-4d1a-a206-ccd9cd53d8f1\",\"subtype\":\"Figure\",\"type\":\"Plot\"},\"ticker\":{\"id\":\"8786ebd7-6857-4ec7-b9a4-11911c491215\",\"type\":\"BasicTicker\"}},\"id\":\"408e634d-fd3c-4a2c-a84c-99c19c5cb478\",\"type\":\"Grid\"},{\"attributes\":{},\"id\":\"6b2a5f09-c365-4419-8de3-ee4c8c56302e\",\"type\":\"ToolEvents\"},{\"attributes\":{\"plot\":null,\"text\":\"word2vec T-SNE for most common words\"},\"id\":\"6dd1f5a9-b9ff-4e91-876c-ad8eaf7cfe2a\",\"type\":\"Title\"},{\"attributes\":{},\"id\":\"346b8916-dd8a-4677-b0a1-9535a4f504b1\",\"type\":\"BasicTickFormatter\"},{\"attributes\":{},\"id\":\"f62d2b63-5e05-44b5-a0d0-a77d9eee8f6e\",\"type\":\"BasicTickFormatter\"},{\"attributes\":{\"plot\":{\"id\":\"1ee4ed08-2496-4d1a-a206-ccd9cd53d8f1\",\"subtype\":\"Figure\",\"type\":\"Plot\"},\"source\":{\"id\":\"a54d93af-c102-420e-b6cc-792c20beebbe\",\"type\":\"ColumnDataSource\"},\"text\":{\"field\":\"names\"},\"text_align\":\"center\",\"text_color\":{\"value\":\"#555555\"},\"text_font_size\":{\"value\":\"8pt\"},\"x\":{\"field\":\"x1\"},\"y\":{\"field\":\"x2\"},\"y_offset\":{\"value\":6}},\"id\":\"4ae37806-31b5-420a-a769-9470ef48f803\",\"type\":\"LabelSet\"},{\"attributes\":{\"fill_alpha\":{\"value\":0.1},\"fill_color\":{\"value\":\"#1f77b4\"},\"line_alpha\":{\"value\":0.1},\"line_color\":{\"value\":\"#1f77b4\"},\"size\":{\"units\":\"screen\",\"value\":8},\"x\":{\"field\":\"x1\"},\"y\":{\"field\":\"x2\"}},\"id\":\"6e5bb1d3-9a0d-4c19-a396-fd112d8a2ee4\",\"type\":\"Circle\"},{\"attributes\":{},\"id\":\"1b929393-332c-4e15-bf14-a03a7028ed80\",\"type\":\"BasicTicker\"}],\"root_ids\":[\"1ee4ed08-2496-4d1a-a206-ccd9cd53d8f1\"]},\"title\":\"Bokeh Application\",\"version\":\"0.12.2\"}};\n",
       "            var render_items = [{\"docid\":\"9d1e007e-129d-464a-bd7b-a5dd0eed10ff\",\"elementid\":\"d5e59ce8-20b9-414c-bb73-0e5c266d3e01\",\"modelid\":\"1ee4ed08-2496-4d1a-a206-ccd9cd53d8f1\"}];\n",
       "            \n",
       "            Bokeh.embed.embed_items(docs_json, render_items);\n",
       "        });\n",
       "      },\n",
       "      function(Bokeh) {\n",
       "      }\n",
       "    ];\n",
       "  \n",
       "    function run_inline_js() {\n",
       "      \n",
       "      if ((window.Bokeh !== undefined) || (force === \"1\")) {\n",
       "        for (var i = 0; i < inline_js.length; i++) {\n",
       "          inline_js[i](window.Bokeh);\n",
       "        }if (force === \"1\") {\n",
       "          display_loaded();\n",
       "        }} else if (Date.now() < window._bokeh_timeout) {\n",
       "        setTimeout(run_inline_js, 100);\n",
       "      } else if (!window._bokeh_failed_load) {\n",
       "        console.log(\"Bokeh: BokehJS failed to load within specified timeout.\");\n",
       "        window._bokeh_failed_load = true;\n",
       "      } else if (!force) {\n",
       "        var cell = $(\"#d5e59ce8-20b9-414c-bb73-0e5c266d3e01\").parents('.cell').data().cell;\n",
       "        cell.output_area.append_execute_result(NB_LOAD_WARNING)\n",
       "      }\n",
       "  \n",
       "    }\n",
       "  \n",
       "    if (window._bokeh_is_loading === 0) {\n",
       "      console.log(\"Bokeh: BokehJS loaded, going straight to plotting\");\n",
       "      run_inline_js();\n",
       "    } else {\n",
       "      load_libs(js_urls, function() {\n",
       "        console.log(\"Bokeh: BokehJS plotting callback run at\", now());\n",
       "        run_inline_js();\n",
       "      });\n",
       "    }\n",
       "  }(this));\n",
       "</script>"
      ]
     },
     "metadata": {},
     "output_type": "display_data"
    }
   ],
   "source": [
    "p = figure(tools=\"pan,wheel_zoom,reset,save\",\n",
    "           toolbar_location=\"above\",\n",
    "           title=\"word2vec T-SNE for most common words\")\n",
    "\n",
    "source = ColumnDataSource(data=dict(x1=words_top_ted_tsne[:,0],\n",
    "                                    x2=words_top_ted_tsne[:,1],\n",
    "                                    names=words_top_ted))\n",
    "\n",
    "p.scatter(x=\"x1\", y=\"x2\", size=8, source=source)\n",
    "\n",
    "labels = LabelSet(x=\"x1\", y=\"x2\", text=\"names\", y_offset=6,\n",
    "                  text_font_size=\"8pt\", text_color=\"#555555\",\n",
    "                  source=source, text_align='center')\n",
    "p.add_layout(labels)\n",
    "\n",
    "show(p)"
   ]
  },
  {
   "cell_type": "markdown",
   "metadata": {},
   "source": [
    "### Part 5: Wiki Learnt Representations"
   ]
  },
  {
   "cell_type": "markdown",
   "metadata": {},
   "source": [
    "Download dataset"
   ]
  },
  {
   "cell_type": "code",
   "execution_count": 24,
   "metadata": {
    "collapsed": true
   },
   "outputs": [],
   "source": [
    "if not os.path.isfile('wikitext-103-raw-v1.zip'):\n",
    "    urllib.request.urlretrieve(\"https://s3.amazonaws.com/research.metamind.io/wikitext/wikitext-103-raw-v1.zip\", filename=\"wikitext-103-raw-v1.zip\")"
   ]
  },
  {
   "cell_type": "code",
   "execution_count": 25,
   "metadata": {
    "collapsed": false
   },
   "outputs": [],
   "source": [
    "with zipfile.ZipFile('wikitext-103-raw-v1.zip', 'r') as z:\n",
    "    input_text = str(z.open('wikitext-103-raw/wiki.train.raw', 'r').read())"
   ]
  },
  {
   "cell_type": "markdown",
   "metadata": {},
   "source": [
    "Preprocess sentences (note that it's important to remove small sentences for performance)"
   ]
  },
  {
   "cell_type": "code",
   "execution_count": 26,
   "metadata": {
    "collapsed": false
   },
   "outputs": [],
   "source": [
    "sentences_wiki = []\n",
    "for line in input_text.split('\\n'):\n",
    "    s = [x for x in line.split('.') if x and len(x.split()) >= 5]\n",
    "    sentences_wiki.extend(s)\n",
    "    \n",
    "for s_i in range(len(sentences_wiki)):\n",
    "    sentences_wiki[s_i] = re.sub(\"[^a-z]\", \" \", sentences_wiki[s_i].lower())\n",
    "    sentences_wiki[s_i] = re.sub(r'\\([^)]*\\)', '', sentences_wiki[s_i])\n",
    "#     sentences_wiki[s_i] = sentences_wiki[s_i].split()\n",
    "del input_text"
   ]
  },
  {
   "cell_type": "code",
   "execution_count": 34,
   "metadata": {
    "collapsed": false
   },
   "outputs": [
    {
     "name": "stdout",
     "output_type": "stream",
     "text": [
      "156099\n",
      "31219\n",
      "  n to ensure a victory the germans resorted to unconventional means \n"
     ]
    }
   ],
   "source": [
    "# sample 1/5 of the data\n",
    "shuffle(sentences_wiki)\n",
    "print(len(sentences_wiki))\n",
    "sentences_wiki = sentences_wiki[:int(len(sentences_wiki)/5)]\n",
    "print(len(sentences_wiki))\n",
    "print(sentences_wiki)"
   ]
  },
  {
   "cell_type": "markdown",
   "metadata": {},
   "source": [
    "Now, repeat all the same steps that you performed above. You should be able to reuse essentially all the code."
   ]
  },
  {
   "cell_type": "code",
   "execution_count": 39,
   "metadata": {
    "collapsed": false
   },
   "outputs": [
    {
     "name": "stdout",
     "output_type": "stream",
     "text": [
      "[('the', 51132), ('of', 21966), ('and', 19823), ('in', 17422), ('to', 16028), ('n', 14678), ('a', 14202), ('was', 8430), ('s', 6659), ('on', 5969)]\n"
     ]
    }
   ],
   "source": [
    "counts = Counter()\n",
    "for sentence in sentences_wiki:\n",
    "    for word in sentence:\n",
    "        counts[word] += 1\n",
    "print(counts.most_common(10))\n",
    "words_top_wiki, counts_wiki_top1000 = zip(*counts.most_common(1000))\n",
    "\n",
    "model_wiki = Word2Vec(sentences_wiki, size=100, window=5, min_count=5, workers=4)"
   ]
  },
  {
   "cell_type": "markdown",
   "metadata": {},
   "source": [
    "#### t-SNE visualization"
   ]
  },
  {
   "cell_type": "code",
   "execution_count": 44,
   "metadata": {
    "collapsed": false
   },
   "outputs": [
    {
     "name": "stdout",
     "output_type": "stream",
     "text": [
      "[-0.26602137 -0.12622485 -0.47481298 -0.29492784  0.03533409 -0.2072922\n",
      "  0.11034894 -0.11347583 -0.08015122 -0.05071733  0.3340537  -0.02163598\n",
      "  0.06094993 -0.11977492 -0.21032421 -0.27397323  0.11278205 -0.53951025\n",
      "  0.26672477 -0.08052033  0.18186751  0.13508666  0.14482641 -0.08686136\n",
      " -0.35474625  0.01077903 -0.27137306  0.23620988  0.11396401  0.42683986\n",
      "  0.06080317 -0.21572678  0.25903672 -0.01760312 -0.0267661   0.03326775\n",
      "  0.01059764 -0.38261792 -0.24591807 -0.3030524   0.02228834  0.21353099\n",
      "  0.24337147 -0.0662242   0.58028042  0.260548   -0.06003974 -0.19648117\n",
      "  0.05186296 -0.26287922 -0.13996565 -0.01280112 -0.2632637  -0.32014215\n",
      " -0.35008505 -0.17366484  0.04066255 -0.43102515 -0.4323535   0.59151697\n",
      "  0.00931486  0.45079458  0.25755733 -0.533656   -0.42610031 -0.25383645\n",
      " -0.145465    0.1594698  -0.13647656 -0.46764186 -0.30794543  0.04952508\n",
      "  0.36653873 -0.20343043  0.14675294 -0.33844692  0.1561776  -0.13456871\n",
      "  0.15755264 -0.08561523 -0.31691152  0.11213743 -0.0250404  -0.06201463\n",
      " -0.1708055  -0.24553901  0.20341629  0.21340871  0.04087271  0.18061188\n",
      " -0.06677885  0.35237581 -0.07285048 -0.24095239  0.08028311  0.13248448\n",
      " -0.1141635  -0.2772103  -0.26561913 -0.24135192]\n"
     ]
    }
   ],
   "source": [
    "print(model_wiki[\"b\"])"
   ]
  },
  {
   "cell_type": "code",
   "execution_count": 40,
   "metadata": {
    "collapsed": false
   },
   "outputs": [
    {
     "ename": "KeyError",
     "evalue": "'the'",
     "output_type": "error",
     "traceback": [
      "\u001b[0;31m---------------------------------------------------------------------------\u001b[0m",
      "\u001b[0;31mKeyError\u001b[0m                                  Traceback (most recent call last)",
      "\u001b[0;32m<ipython-input-40-db45ccc9da61>\u001b[0m in \u001b[0;36m<module>\u001b[0;34m()\u001b[0m\n\u001b[1;32m      1\u001b[0m \u001b[0;31m# This assumes words_top_wiki is a list of strings, the top 1000 words\u001b[0m\u001b[0;34m\u001b[0m\u001b[0;34m\u001b[0m\u001b[0m\n\u001b[0;32m----> 2\u001b[0;31m \u001b[0mwords_top_vec_wiki\u001b[0m \u001b[0;34m=\u001b[0m \u001b[0mmodel_wiki\u001b[0m\u001b[0;34m[\u001b[0m\u001b[0mwords_top_wiki\u001b[0m\u001b[0;34m]\u001b[0m\u001b[0;34m\u001b[0m\u001b[0m\n\u001b[0m\u001b[1;32m      3\u001b[0m \u001b[0;34m\u001b[0m\u001b[0m\n\u001b[1;32m      4\u001b[0m \u001b[0mtsne\u001b[0m \u001b[0;34m=\u001b[0m \u001b[0mTSNE\u001b[0m\u001b[0;34m(\u001b[0m\u001b[0mn_components\u001b[0m\u001b[0;34m=\u001b[0m\u001b[0;36m2\u001b[0m\u001b[0;34m,\u001b[0m \u001b[0mrandom_state\u001b[0m\u001b[0;34m=\u001b[0m\u001b[0;36m0\u001b[0m\u001b[0;34m)\u001b[0m\u001b[0;34m\u001b[0m\u001b[0m\n\u001b[1;32m      5\u001b[0m \u001b[0mwords_top_wiki_tsne\u001b[0m \u001b[0;34m=\u001b[0m \u001b[0mtsne\u001b[0m\u001b[0;34m.\u001b[0m\u001b[0mfit_transform\u001b[0m\u001b[0;34m(\u001b[0m\u001b[0mwords_top_vec_wiki\u001b[0m\u001b[0;34m)\u001b[0m\u001b[0;34m\u001b[0m\u001b[0m\n",
      "\u001b[0;32m/home/scratch/ug13rb/anaconda3/lib/python3.5/site-packages/gensim/models/word2vec.py\u001b[0m in \u001b[0;36m__getitem__\u001b[0;34m(self, words)\u001b[0m\n\u001b[1;32m   1301\u001b[0m \u001b[0;34m\u001b[0m\u001b[0m\n\u001b[1;32m   1302\u001b[0m     \u001b[0;32mdef\u001b[0m \u001b[0m__getitem__\u001b[0m\u001b[0;34m(\u001b[0m\u001b[0mself\u001b[0m\u001b[0;34m,\u001b[0m \u001b[0mwords\u001b[0m\u001b[0;34m)\u001b[0m\u001b[0;34m:\u001b[0m\u001b[0;34m\u001b[0m\u001b[0m\n\u001b[0;32m-> 1303\u001b[0;31m         \u001b[0;32mreturn\u001b[0m \u001b[0mself\u001b[0m\u001b[0;34m.\u001b[0m\u001b[0mwv\u001b[0m\u001b[0;34m.\u001b[0m\u001b[0m__getitem__\u001b[0m\u001b[0;34m(\u001b[0m\u001b[0mwords\u001b[0m\u001b[0;34m)\u001b[0m\u001b[0;34m\u001b[0m\u001b[0m\n\u001b[0m\u001b[1;32m   1304\u001b[0m \u001b[0;34m\u001b[0m\u001b[0m\n\u001b[1;32m   1305\u001b[0m     \u001b[0;34m@\u001b[0m\u001b[0mstaticmethod\u001b[0m\u001b[0;34m\u001b[0m\u001b[0m\n",
      "\u001b[0;32m/home/scratch/ug13rb/anaconda3/lib/python3.5/site-packages/gensim/models/keyedvectors.py\u001b[0m in \u001b[0;36m__getitem__\u001b[0;34m(self, words)\u001b[0m\n\u001b[1;32m    348\u001b[0m             \u001b[0;32mreturn\u001b[0m \u001b[0mself\u001b[0m\u001b[0;34m.\u001b[0m\u001b[0msyn0\u001b[0m\u001b[0;34m[\u001b[0m\u001b[0mself\u001b[0m\u001b[0;34m.\u001b[0m\u001b[0mvocab\u001b[0m\u001b[0;34m[\u001b[0m\u001b[0mwords\u001b[0m\u001b[0;34m]\u001b[0m\u001b[0;34m.\u001b[0m\u001b[0mindex\u001b[0m\u001b[0;34m]\u001b[0m\u001b[0;34m\u001b[0m\u001b[0m\n\u001b[1;32m    349\u001b[0m \u001b[0;34m\u001b[0m\u001b[0m\n\u001b[0;32m--> 350\u001b[0;31m         \u001b[0;32mreturn\u001b[0m \u001b[0mvstack\u001b[0m\u001b[0;34m(\u001b[0m\u001b[0;34m[\u001b[0m\u001b[0mself\u001b[0m\u001b[0;34m.\u001b[0m\u001b[0msyn0\u001b[0m\u001b[0;34m[\u001b[0m\u001b[0mself\u001b[0m\u001b[0;34m.\u001b[0m\u001b[0mvocab\u001b[0m\u001b[0;34m[\u001b[0m\u001b[0mword\u001b[0m\u001b[0;34m]\u001b[0m\u001b[0;34m.\u001b[0m\u001b[0mindex\u001b[0m\u001b[0;34m]\u001b[0m \u001b[0;32mfor\u001b[0m \u001b[0mword\u001b[0m \u001b[0;32min\u001b[0m \u001b[0mwords\u001b[0m\u001b[0;34m]\u001b[0m\u001b[0;34m)\u001b[0m\u001b[0;34m\u001b[0m\u001b[0m\n\u001b[0m\u001b[1;32m    351\u001b[0m \u001b[0;34m\u001b[0m\u001b[0m\n\u001b[1;32m    352\u001b[0m     \u001b[0;32mdef\u001b[0m \u001b[0m__contains__\u001b[0m\u001b[0;34m(\u001b[0m\u001b[0mself\u001b[0m\u001b[0;34m,\u001b[0m \u001b[0mword\u001b[0m\u001b[0;34m)\u001b[0m\u001b[0;34m:\u001b[0m\u001b[0;34m\u001b[0m\u001b[0m\n",
      "\u001b[0;32m/home/scratch/ug13rb/anaconda3/lib/python3.5/site-packages/gensim/models/keyedvectors.py\u001b[0m in \u001b[0;36m<listcomp>\u001b[0;34m(.0)\u001b[0m\n\u001b[1;32m    348\u001b[0m             \u001b[0;32mreturn\u001b[0m \u001b[0mself\u001b[0m\u001b[0;34m.\u001b[0m\u001b[0msyn0\u001b[0m\u001b[0;34m[\u001b[0m\u001b[0mself\u001b[0m\u001b[0;34m.\u001b[0m\u001b[0mvocab\u001b[0m\u001b[0;34m[\u001b[0m\u001b[0mwords\u001b[0m\u001b[0;34m]\u001b[0m\u001b[0;34m.\u001b[0m\u001b[0mindex\u001b[0m\u001b[0;34m]\u001b[0m\u001b[0;34m\u001b[0m\u001b[0m\n\u001b[1;32m    349\u001b[0m \u001b[0;34m\u001b[0m\u001b[0m\n\u001b[0;32m--> 350\u001b[0;31m         \u001b[0;32mreturn\u001b[0m \u001b[0mvstack\u001b[0m\u001b[0;34m(\u001b[0m\u001b[0;34m[\u001b[0m\u001b[0mself\u001b[0m\u001b[0;34m.\u001b[0m\u001b[0msyn0\u001b[0m\u001b[0;34m[\u001b[0m\u001b[0mself\u001b[0m\u001b[0;34m.\u001b[0m\u001b[0mvocab\u001b[0m\u001b[0;34m[\u001b[0m\u001b[0mword\u001b[0m\u001b[0;34m]\u001b[0m\u001b[0;34m.\u001b[0m\u001b[0mindex\u001b[0m\u001b[0;34m]\u001b[0m \u001b[0;32mfor\u001b[0m \u001b[0mword\u001b[0m \u001b[0;32min\u001b[0m \u001b[0mwords\u001b[0m\u001b[0;34m]\u001b[0m\u001b[0;34m)\u001b[0m\u001b[0;34m\u001b[0m\u001b[0m\n\u001b[0m\u001b[1;32m    351\u001b[0m \u001b[0;34m\u001b[0m\u001b[0m\n\u001b[1;32m    352\u001b[0m     \u001b[0;32mdef\u001b[0m \u001b[0m__contains__\u001b[0m\u001b[0;34m(\u001b[0m\u001b[0mself\u001b[0m\u001b[0;34m,\u001b[0m \u001b[0mword\u001b[0m\u001b[0;34m)\u001b[0m\u001b[0;34m:\u001b[0m\u001b[0;34m\u001b[0m\u001b[0m\n",
      "\u001b[0;31mKeyError\u001b[0m: 'the'"
     ]
    }
   ],
   "source": [
    "# This assumes words_top_wiki is a list of strings, the top 1000 words\n",
    "words_top_vec_wiki = model_wiki[words_top_wiki]\n",
    "\n",
    "tsne = TSNE(n_components=2, random_state=0)\n",
    "words_top_wiki_tsne = tsne.fit_transform(words_top_vec_wiki)"
   ]
  },
  {
   "cell_type": "code",
   "execution_count": null,
   "metadata": {
    "collapsed": false
   },
   "outputs": [],
   "source": [
    "p = figure(tools=\"pan,wheel_zoom,reset,save\",\n",
    "           toolbar_location=\"above\",\n",
    "           title=\"word2vec T-SNE for most common words\")\n",
    "\n",
    "source = ColumnDataSource(data=dict(x1=words_top_wiki_tsne[:,0],\n",
    "                                    x2=words_top_wiki_tsne[:,1],\n",
    "                                    names=words_top_wiki))\n",
    "\n",
    "p.scatter(x=\"x1\", y=\"x2\", size=8, source=source)\n",
    "\n",
    "labels = LabelSet(x=\"x1\", y=\"x2\", text=\"names\", y_offset=6,\n",
    "                  text_font_size=\"8pt\", text_color=\"#555555\",\n",
    "                  source=source, text_align='center')\n",
    "p.add_layout(labels)\n",
    "\n",
    "show(p)"
   ]
  },
  {
   "cell_type": "code",
   "execution_count": null,
   "metadata": {
    "collapsed": true
   },
   "outputs": [],
   "source": []
  }
 ],
 "metadata": {
  "anaconda-cloud": {},
  "kernelspec": {
   "display_name": "Python [conda root]",
   "language": "python",
   "name": "conda-root-py"
  },
  "language_info": {
   "codemirror_mode": {
    "name": "ipython",
    "version": 3
   },
   "file_extension": ".py",
   "mimetype": "text/x-python",
   "name": "python",
   "nbconvert_exporter": "python",
   "pygments_lexer": "ipython3",
   "version": "3.5.2"
  }
 },
 "nbformat": 4,
 "nbformat_minor": 0
}
